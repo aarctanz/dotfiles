{
 "cells": [
  {
   "cell_type": "code",
   "execution_count": 1,
   "metadata": {},
   "outputs": [],
   "source": [
    "import pandas as pd\n",
    "\n",
    "male_df = pd.read_csv(\"Indian-Female-Names.csv\")\n",
    "female_df = pd.read_csv(\"Indian-Male-Names.csv\")\n",
    "\n",
    "male_df[\"gender\"] = \"male\"\n",
    "female_df[\"gender\"] = \"female\"\n",
    "\n",
    "data = pd.concat([male_df, female_df], ignore_index=True)\n",
    "\n",
    "# Make sure names are in lowercase\n",
    "data[\"name\"] = data[\"name\"].str.lower().str.strip()\n"
   ]
  },
  {
   "cell_type": "code",
   "execution_count": null,
   "metadata": {},
   "outputs": [],
   "source": [
    "def extract_features(name):\n",
    "    return {\n",
    "        \"last_char\": name[-1:],\n",
    "        \"last_2\": name[-2:],\n",
    "        \"last_3\": name[-3:]\n",
    "    }\n",
    "\n",
    "features = data[\"name\"].apply(extract_features)\n",
    "features_df = pd.DataFrame(features.tolist())\n",
    "\n",
    "# Vectorize the features\n",
    "from sklearn.feature_extraction import DictVectorizer\n",
    "vec = DictVectorizer(sparse=False)\n",
    "X = vec.fit_transform(features_df.to_dict(orient=\"records\"))\n",
    "\n",
    "y = data[\"gender\"]\n"
   ]
  }
 ],
 "metadata": {
  "kernelspec": {
   "display_name": "Python 3",
   "language": "python",
   "name": "python3"
  },
  "language_info": {
   "codemirror_mode": {
    "name": "ipython",
    "version": 3
   },
   "file_extension": ".py",
   "mimetype": "text/x-python",
   "name": "python",
   "nbconvert_exporter": "python",
   "pygments_lexer": "ipython3",
   "version": "3.13.2"
  }
 },
 "nbformat": 4,
 "nbformat_minor": 2
}
