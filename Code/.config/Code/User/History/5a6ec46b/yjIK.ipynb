{
 "cells": [
  {
   "cell_type": "code",
   "execution_count": 4,
   "metadata": {},
   "outputs": [],
   "source": [
    "import pandas as pd\n",
    "from sklearn.feature_extraction import DictVectorizer"
   ]
  },
  {
   "cell_type": "code",
   "execution_count": 6,
   "metadata": {},
   "outputs": [
    {
     "name": "stdout",
     "output_type": "stream",
     "text": [
      "<class 'pandas.core.frame.DataFrame'>\n",
      "RangeIndex: 30227 entries, 0 to 30226\n",
      "Data columns (total 3 columns):\n",
      " #   Column  Non-Null Count  Dtype \n",
      "---  ------  --------------  ----- \n",
      " 0   name    30172 non-null  object\n",
      " 1   gender  30227 non-null  object\n",
      " 2   race    30227 non-null  object\n",
      "dtypes: object(3)\n",
      "memory usage: 708.6+ KB\n"
     ]
    }
   ],
   "source": [
    "\n",
    "male_df = pd.read_csv(\"Indian-Female-Names.csv\")\n",
    "female_df = pd.read_csv(\"Indian-Male-Names.csv\")\n",
    "\n",
    "male_df[\"gender\"] = \"male\"\n",
    "female_df[\"gender\"] = \"female\"\n",
    "\n",
    "df = pd.concat([male_df, female_df], ignore_index=True)\n",
    "\n",
    "# Make sure names are in lowercase\n",
    "df[\"name\"] = df[\"name\"].str.lower().str.strip()\n",
    "df.info()\n"
   ]
  },
  {
   "cell_type": "code",
   "execution_count": 12,
   "metadata": {},
   "outputs": [
    {
     "name": "stdout",
     "output_type": "stream",
     "text": [
      "name      30172\n",
      "gender    30172\n",
      "race      30172\n",
      "dtype: int64\n",
      "['male' 'female']\n"
     ]
    }
   ],
   "source": [
    "\n",
    "\n",
    "# Drop missing or null names\n",
    "df = df.dropna(subset=[\"name\"])\n",
    "\n",
    "# Make sure all names are strings\n",
    "df[\"name\"] = df[\"name\"].astype(str).str.lower().str.strip()\n",
    "print(df.isna().count())\n",
    "print(df[\"gender\"].unique())"
   ]
  },
  {
   "cell_type": "code",
   "execution_count": 13,
   "metadata": {},
   "outputs": [],
   "source": [
    "def extract_features(name):\n",
    "    return {\n",
    "        \"last_char\": name[-1:],\n",
    "        \"last_2\": name[-2:],\n",
    "        \"last_3\": name[-3:]\n",
    "    }\n",
    "\n",
    "features = df[\"name\"].apply(extract_features)\n",
    "features_df = pd.DataFrame(features.tolist())\n",
    "\n",
    "# Vectorize the features\n",
    "\n",
    "vec = DictVectorizer(sparse=False)\n",
    "X = vec.fit_transform(features_df.to_dict(orient=\"records\"))\n",
    "\n",
    "y = df[\"gender\"]\n"
   ]
  },
  {
   "cell_type": "code",
   "execution_count": 14,
   "metadata": {},
   "outputs": [
    {
     "name": "stdout",
     "output_type": "stream",
     "text": [
      "Validation Accuracy: 0.8631317315658658\n"
     ]
    }
   ],
   "source": [
    "from sklearn.model_selection import train_test_split\n",
    "from sklearn.linear_model import LogisticRegression\n",
    "from sklearn.metrics import accuracy_score\n",
    "\n",
    "X_train, X_val, y_train, y_val = train_test_split(X, y, test_size=0.2, random_state=42)\n",
    "\n",
    "model = LogisticRegression()\n",
    "model.fit(X_train, y_train)\n",
    "\n",
    "y_pred = model.predict(X_val)\n",
    "print(\"Validation Accuracy:\", accuracy_score(y_val, y_pred))\n"
   ]
  },
  {
   "cell_type": "code",
   "execution_count": null,
   "metadata": {},
   "outputs": [],
   "source": [
    "# Load test data\n",
    "test_df = pd.read_csv(\"test.csv\")\n",
    "test_df[\"name\"] = test_df[\"name\"].str.lower().str.strip()\n",
    "\n",
    "# Extract features\n",
    "test_features = test_df[\"name\"].apply(extract_features)\n",
    "test_features_df = pd.DataFrame(test_features.tolist())\n",
    "\n",
    "# Vectorize using the same vectorizer\n",
    "X_test = vec.transform(test_features_df.to_dict(orient=\"records\"))\n",
    "\n",
    "# Predict\n",
    "test_df[\"predicted_gender\"] = model.predict(X_test)\n",
    "\n",
    "# Evaluate\n",
    "from sklearn.metrics import classification_report\n",
    "\n",
    "print(classification_report(test_df[\"gender\"], test_df[\"predicted_gender\"]))\n"
   ]
  }
 ],
 "metadata": {
  "kernelspec": {
   "display_name": "Python 3",
   "language": "python",
   "name": "python3"
  },
  "language_info": {
   "codemirror_mode": {
    "name": "ipython",
    "version": 3
   },
   "file_extension": ".py",
   "mimetype": "text/x-python",
   "name": "python",
   "nbconvert_exporter": "python",
   "pygments_lexer": "ipython3",
   "version": "3.13.2"
  }
 },
 "nbformat": 4,
 "nbformat_minor": 2
}
