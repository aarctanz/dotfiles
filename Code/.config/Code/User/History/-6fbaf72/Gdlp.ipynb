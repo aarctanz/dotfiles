{
 "cells": [
  {
   "cell_type": "code",
   "execution_count": 2,
   "metadata": {},
   "outputs": [],
   "source": [
    "import pandas as pd\n",
    "import numpy as np\n",
    "import matplotlib.pyplot as plt\n",
    "import seaborn as sns"
   ]
  },
  {
   "cell_type": "code",
   "execution_count": 25,
   "metadata": {},
   "outputs": [
    {
     "name": "stdout",
     "output_type": "stream",
     "text": [
      "                ddl_case_id date_of_filing date_of_decision  filing_year  \\\n",
      "0  17-25-02-205900016182018     2018-05-02       2018-06-13         2018   \n",
      "1  04-05-20-202900010552015     2015-11-25       2016-03-01         2015   \n",
      "2  10-13-17-230400057722016     2016-09-07       2016-09-19         2016   \n",
      "3  10-15-06-230427000982014     2014-11-06       2015-01-08         2014   \n",
      "4  03-13-02-201200001862012     2012-02-07       2012-04-02         2012   \n",
      "\n",
      "   state_code  court_no female_defendant female_petitioner female_judge  \\\n",
      "0          17         2           0 male     -9998 unclear     1 female   \n",
      "1           4        20           0 male            0 male  0 nonfemale   \n",
      "2          10        17           0 male     -9998 unclear  0 nonfemale   \n",
      "3          10         6           0 male     -9998 unclear  0 nonfemale   \n",
      "4           3         2           0 male            0 male  0 nonfemale   \n",
      "\n",
      "                   act_s  section_s  bailable_ipc  number_sections_ipc  \\\n",
      "0  The Indian Penal Code        379  non-bailable                    3   \n",
      "1  The Indian Penal Code        379  non-bailable                    1   \n",
      "2  The Indian Penal Code        294      bailable                    1   \n",
      "3  The Indian Penal Code        506      bailable                    2   \n",
      "4  The Indian Penal Code        506      bailable                    1   \n",
      "\n",
      "  disposition  \n",
      "0   acquitted  \n",
      "1   acquitted  \n",
      "2   convicted  \n",
      "3   acquitted  \n",
      "4   acquitted  \n"
     ]
    }
   ],
   "source": [
    "# Replace with your CSV path\n",
    "df = pd.read_csv('/home/arctan/data/justice_data/sample2.csv', parse_dates=['date_of_filing', 'date_of_decision'])\n",
    "\n",
    "# Verify first few rows\n",
    "print(df.head())"
   ]
  },
  {
   "cell_type": "code",
   "execution_count": 26,
   "metadata": {},
   "outputs": [
    {
     "name": "stdout",
     "output_type": "stream",
     "text": [
      "<class 'pandas.core.frame.DataFrame'>\n",
      "RangeIndex: 88046 entries, 0 to 88045\n",
      "Data columns (total 14 columns):\n",
      " #   Column               Non-Null Count  Dtype         \n",
      "---  ------               --------------  -----         \n",
      " 0   ddl_case_id          88046 non-null  object        \n",
      " 1   date_of_filing       88046 non-null  datetime64[ns]\n",
      " 2   date_of_decision     88046 non-null  datetime64[ns]\n",
      " 3   filing_year          88046 non-null  int64         \n",
      " 4   state_code           88046 non-null  int64         \n",
      " 5   court_no             88046 non-null  int64         \n",
      " 6   female_defendant     88046 non-null  object        \n",
      " 7   female_petitioner    88046 non-null  object        \n",
      " 8   female_judge         88046 non-null  object        \n",
      " 9   act_s                88046 non-null  object        \n",
      " 10  section_s            88046 non-null  int64         \n",
      " 11  bailable_ipc         88046 non-null  object        \n",
      " 12  number_sections_ipc  88046 non-null  int64         \n",
      " 13  disposition          88046 non-null  object        \n",
      "dtypes: datetime64[ns](2), int64(5), object(7)\n",
      "memory usage: 9.4+ MB\n",
      "None\n",
      "                      date_of_filing               date_of_decision  \\\n",
      "count                          88046                          88046   \n",
      "mean   2015-11-22 15:11:13.420711680  2016-06-18 03:22:07.951298304   \n",
      "min              2010-01-01 00:00:00            2010-01-11 00:00:00   \n",
      "25%              2014-10-08 00:00:00            2015-04-24 00:00:00   \n",
      "50%              2016-03-30 00:00:00            2016-09-30 00:00:00   \n",
      "75%              2017-05-18 00:00:00            2017-11-17 00:00:00   \n",
      "max              2018-12-29 00:00:00            2018-12-31 00:00:00   \n",
      "std                              NaN                            NaN   \n",
      "\n",
      "        filing_year    state_code      court_no     section_s  \\\n",
      "count  88046.000000  88046.000000  88046.000000  88046.000000   \n",
      "mean    2015.374531     11.403142      7.337676    360.710504   \n",
      "min     2010.000000      2.000000      1.000000    115.000000   \n",
      "25%     2014.000000      3.000000      3.000000    304.000000   \n",
      "50%     2016.000000     10.000000      5.000000    338.000000   \n",
      "75%     2017.000000     17.000000      9.000000    427.000000   \n",
      "max     2018.000000     29.000000     66.000000    510.000000   \n",
      "std        1.921083      8.040657      6.480569     94.032930   \n",
      "\n",
      "       number_sections_ipc  \n",
      "count         88046.000000  \n",
      "mean              2.488926  \n",
      "min               1.000000  \n",
      "25%               1.000000  \n",
      "50%               2.000000  \n",
      "75%               3.000000  \n",
      "max              22.000000  \n",
      "std               1.544953  \n",
      "Dispositions: ['acquitted' 'convicted']\n",
      "Bailable IPC: ['non-bailable' 'bailable']\n"
     ]
    }
   ],
   "source": [
    "print(df.info())\n",
    "\n",
    "# Summary stats for numeric columns\n",
    "print(df.describe())\n",
    "\n",
    "# Check unique values for categorical columns\n",
    "print(\"Dispositions:\", df['disposition'].unique())\n",
    "print(\"Bailable IPC:\", df['bailable_ipc'].unique())"
   ]
  },
  {
   "cell_type": "code",
   "execution_count": 27,
   "metadata": {},
   "outputs": [
    {
     "name": "stdout",
     "output_type": "stream",
     "text": [
      "['0 male' '-9998 unclear' '1 female' '-9999 missing name']\n",
      "['-9998 unclear' '0 male' '1 female' '-9999 missing name']\n",
      "['1 female' '0 nonfemale' '-9998 unclear']\n",
      "Missing values:\n",
      " ddl_case_id            0\n",
      "date_of_filing         0\n",
      "date_of_decision       0\n",
      "filing_year            0\n",
      "state_code             0\n",
      "court_no               0\n",
      "female_defendant       0\n",
      "female_petitioner      0\n",
      "female_judge           0\n",
      "act_s                  0\n",
      "section_s              0\n",
      "bailable_ipc           0\n",
      "number_sections_ipc    0\n",
      "disposition            0\n",
      "dtype: int64\n"
     ]
    }
   ],
   "source": [
    "# Ensure binary columns are 0/1\n",
    "# df['female_defendant'] = df['female_defendant'].astype(int)\n",
    "# df['female_judge'] = df['female_judge'].astype(int)\n",
    "print(df[\"female_defendant\"].unique())\n",
    "print(df[\"female_petitioner\"].unique())\n",
    "print(df[\"female_judge\"].unique())\n",
    "# Check for missing values\n",
    "print(\"Missing values:\\n\", df.isnull().sum())\n"
   ]
  },
  {
   "cell_type": "code",
   "execution_count": 28,
   "metadata": {},
   "outputs": [
    {
     "name": "stdout",
     "output_type": "stream",
     "text": [
      "<class 'pandas.core.frame.DataFrame'>\n",
      "Index: 15457 entries, 1 to 88033\n",
      "Data columns (total 14 columns):\n",
      " #   Column               Non-Null Count  Dtype         \n",
      "---  ------               --------------  -----         \n",
      " 0   ddl_case_id          15457 non-null  object        \n",
      " 1   date_of_filing       15457 non-null  datetime64[ns]\n",
      " 2   date_of_decision     15457 non-null  datetime64[ns]\n",
      " 3   filing_year          15457 non-null  int64         \n",
      " 4   state_code           15457 non-null  int64         \n",
      " 5   court_no             15457 non-null  int64         \n",
      " 6   female_defendant     15457 non-null  object        \n",
      " 7   female_petitioner    15457 non-null  object        \n",
      " 8   female_judge         15457 non-null  object        \n",
      " 9   act_s                15457 non-null  object        \n",
      " 10  section_s            15457 non-null  int64         \n",
      " 11  bailable_ipc         15457 non-null  object        \n",
      " 12  number_sections_ipc  15457 non-null  int64         \n",
      " 13  disposition          15457 non-null  object        \n",
      "dtypes: datetime64[ns](2), int64(5), object(7)\n",
      "memory usage: 1.8+ MB\n"
     ]
    }
   ],
   "source": [
    "valid_genders = ['0 male', '1 female']\n",
    "mapping = {\"0 male\": 0, \"1 female\": 1}\n",
    "\n",
    "df_clean = df[\n",
    "    df[\"female_defendant\"].isin(valid_genders) &\n",
    "    df[\"female_petitioner\"].isin(valid_genders)\n",
    "].copy() \n",
    "df_clean.info()\n",
    "df_clean.loc[:, \"female_defendant\"] = df_clean[\"female_defendant\"].map(mapping)\n",
    "df_clean.loc[:, \"female_petitioner\"] = df_clean[\"female_petitioner\"].map(mapping)\n",
    "\n",
    "\n",
    "valid_genders = ['0 nonfemale', '1 female']\n",
    "mapping = {\"0 nonfemale\": 0, \"1 female\": 1}\n",
    "\n",
    "df_clean = df_clean[df_clean[\"female_judge\"].isin(valid_genders)]\n",
    "df_clean.loc[:, \"female_judge\"] = df_clean[\"female_judge\"].map(mapping)"
   ]
  },
  {
   "cell_type": "code",
   "execution_count": 29,
   "metadata": {},
   "outputs": [
    {
     "data": {
      "text/plain": [
       "array([0, 1], dtype=object)"
      ]
     },
     "execution_count": 29,
     "metadata": {},
     "output_type": "execute_result"
    }
   ],
   "source": [
    "df_clean[\"female_petitioner\"].unique()"
   ]
  },
  {
   "cell_type": "code",
   "execution_count": 30,
   "metadata": {},
   "outputs": [
    {
     "name": "stdout",
     "output_type": "stream",
     "text": [
      "<class 'pandas.core.frame.DataFrame'>\n",
      "Index: 14926 entries, 1 to 88033\n",
      "Data columns (total 17 columns):\n",
      " #   Column               Non-Null Count  Dtype         \n",
      "---  ------               --------------  -----         \n",
      " 0   ddl_case_id          14926 non-null  object        \n",
      " 1   date_of_filing       14926 non-null  datetime64[ns]\n",
      " 2   date_of_decision     14926 non-null  datetime64[ns]\n",
      " 3   filing_year          14926 non-null  int64         \n",
      " 4   state_code           14926 non-null  int64         \n",
      " 5   court_no             14926 non-null  int64         \n",
      " 6   female_defendant     14926 non-null  object        \n",
      " 7   female_petitioner    14926 non-null  object        \n",
      " 8   female_judge         14926 non-null  object        \n",
      " 9   act_s                14926 non-null  object        \n",
      " 10  section_s            14926 non-null  int64         \n",
      " 11  bailable_ipc         14926 non-null  object        \n",
      " 12  number_sections_ipc  14926 non-null  int64         \n",
      " 13  disposition          14926 non-null  object        \n",
      " 14  same_gender          14926 non-null  int64         \n",
      " 15  duration_days        14926 non-null  int64         \n",
      " 16  acquitted            14926 non-null  int64         \n",
      "dtypes: datetime64[ns](2), int64(8), object(7)\n",
      "memory usage: 2.0+ MB\n"
     ]
    }
   ],
   "source": [
    "# Create same-gender indicator (1 = judge/defendant same gender)\n",
    "df_clean['same_gender'] = (df_clean['female_judge'] == df_clean['female_defendant']).astype(int)\n",
    "\n",
    "# Calculate case duration (days)\n",
    "df_clean['duration_days'] = (df_clean['date_of_decision'] - df_clean['date_of_filing']).dt.days\n",
    "\n",
    "# Simplify disposition to binary (1 = acquitted)\n",
    "df_clean['acquitted'] = df_clean['disposition'].apply(lambda x: 1 if x == 'acquitted' else 0)\n",
    "\n",
    "df_clean.info()"
   ]
  },
  {
   "cell_type": "code",
   "execution_count": 31,
   "metadata": {},
   "outputs": [
    {
     "data": {
      "image/png": "[encoded data removed]",
      "text/plain": [
       "<Figure size 640x480 with 1 Axes>"
      ]
     },
     "metadata": {},
     "output_type": "display_data"
    },
    {
     "data": {
      "image/png": "[encoded data removed]",
      "text/plain": [
       "<Figure size 640x480 with 1 Axes>"
      ]
     },
     "metadata": {},
     "output_type": "display_data"
    },
    {
     "data": {
      "image/png": "[encoded data removed]",
      "text/plain": [
       "<Figure size 640x480 with 1 Axes>"
      ]
     },
     "metadata": {},
     "output_type": "display_data"
    }
   ],
   "source": [
    "# Acquittal rate by gender match\n",
    "sns.barplot(x='same_gender', y='acquitted', data=df_clean)\n",
    "plt.title(\"Acquittal Rate by Gender Match\")\n",
    "plt.show()\n",
    "\n",
    "# Distribution of cases by judge gender\n",
    "sns.countplot(x='female_judge', data=df_clean)\n",
    "plt.title(\"Cases by Judge Gender (0=Male, 1=Female)\")\n",
    "plt.show()\n",
    "\n",
    "# Case duration distribution\n",
    "sns.histplot(df_clean['duration_days'], bins=30)\n",
    "plt.title(\"Case Duration (Days)\")\n",
    "plt.show()"
   ]
  },
  {
   "cell_type": "code",
   "execution_count": null,
   "metadata": {},
   "outputs": [],
   "source": [
    "import statsmodels.api as sm\n",
    "\n",
    "# Forward selection\n",
    "def forward_selection(data, target, max_features=10):\n",
    "    initial_features = []\n",
    "    best_features = []\n",
    "    while len(best_features) < max_features:\n",
    "        remaining_features = list(set(data.columns) - set(best_features))\n",
    "        best_pval = 1\n",
    "        best_feature = None\n",
    "        for feature in remaining_features:\n",
    "            formula = f\"{target} ~ {' + '.join(best_features + [feature])}\"\n",
    "            model = sm.Logit.from_formula(formula, data).fit(disp=0)\n",
    "            pval = model.pvalues[feature]\n",
    "            if pval < best_pval:\n",
    "                best_pval = pval\n",
    "                best_feature = feature\n",
    "        if best_pval < 0.05:\n",
    "            best_features.append(best_feature)\n",
    "        else:\n",
    "            break\n",
    "    return best_features\n",
    "print(df_clean.columns.tolist())\n",
    "forward_selection(df_clean, 'acquitted')"
   ]
  },
  {
   "cell_type": "code",
   "execution_count": 62,
   "metadata": {},
   "outputs": [
    {
     "name": "stdout",
     "output_type": "stream",
     "text": [
      "Selected features: ['state_code', 'section_s', 'disposition', 'duration_days', 'acquitted']\n"
     ]
    }
   ],
   "source": [
    "from sklearn.preprocessing import LabelEncoder\n",
    "from sklearn.feature_selection import SelectKBest, chi2\n",
    "\n",
    "# Drop problematic date columns\n",
    "X = df_clean.drop(columns=['date_of_filing', 'date_of_decision'])\n",
    "\n",
    "# Label encode categorical columns\n",
    "label_cols = ['bailable_ipc', 'disposition', 'act_s', 'section_s']\n",
    "le = LabelEncoder()\n",
    "for col in label_cols:\n",
    "    X[col] = le.fit_transform(X[col].astype(str))\n",
    "\n",
    "# Make sure all columns are numeric and non-negative\n",
    "X = X.select_dtypes(include=['int64', 'float64'])\n",
    "\n",
    "# Target variable\n",
    "y = df_clean['acquitted']\n",
    "\n",
    "# Run SelectKBest\n",
    "selector = SelectKBest(score_func=chi2, k=5)\n",
    "selector.fit(X, y)\n",
    "selected_features = X.columns[selector.get_support()]\n",
    "print(\"Selected features:\", selected_features.tolist())\n"
   ]
  },
  {
   "cell_type": "code",
   "execution_count": 43,
   "metadata": {},
   "outputs": [],
   "source": [
    "# Select relevant columns\n",
    "analysis_df = df_clean[[\n",
    "    'acquitted',\n",
    "    'same_gender',\n",
    "    'female_judge',\n",
    "    'female_defendant',\n",
    "    'duration_days',\n",
    "    'bailable_ipc',\n",
    "    'number_sections_ipc',\n",
    "    'state_code',\n",
    "    'filing_year'\n",
    "]]\n",
    "\n",
    "# Drop rows with missing values\n",
    "analysis_df = analysis_df.dropna()"
   ]
  },
  {
   "cell_type": "code",
   "execution_count": 36,
   "metadata": {},
   "outputs": [
    {
     "name": "stdout",
     "output_type": "stream",
     "text": [
      "Contingency Table:\n",
      " female_defendant     0     1\n",
      "female_judge                \n",
      "0                 8676  2110\n",
      "1                 3319   821\n"
     ]
    }
   ],
   "source": [
    "# Create a cross-tabulation of judge gender vs. defendant gender\n",
    "contingency_table = pd.crosstab(\n",
    "    df_clean['female_judge'],  # Rows (0 = male judge, 1 = female judge)\n",
    "    df_clean['female_defendant']  # Columns (0 = male defendant, 1 = female defendant)\n",
    ")\n",
    "\n",
    "print(\"Contingency Table:\\n\", contingency_table)"
   ]
  },
  {
   "cell_type": "code",
   "execution_count": 37,
   "metadata": {},
   "outputs": [
    {
     "name": "stdout",
     "output_type": "stream",
     "text": [
      "Chi-Square Statistic: 0.12\n",
      "P-value: 0.7288\n"
     ]
    }
   ],
   "source": [
    "from scipy.stats import chi2_contingency\n",
    "\n",
    "chi2, p_value, dof, expected = chi2_contingency(contingency_table)\n",
    "print(f\"Chi-Square Statistic: {chi2:.2f}\")\n",
    "print(f\"P-value: {p_value:.4f}\")"
   ]
  },
  {
   "cell_type": "code",
   "execution_count": 50,
   "metadata": {},
   "outputs": [
    {
     "name": "stdout",
     "output_type": "stream",
     "text": [
      "State Statistics:\n",
      "                 mean  count\n",
      "state_code                 \n",
      "2           0.855986   1111\n",
      "3           0.393986   4523\n",
      "4           0.880829   1544\n",
      "7           1.000000     10\n",
      "8           1.000000     34\n",
      "10          0.655373   1889\n",
      "11          1.000000      2\n",
      "13          0.927039    233\n",
      "15          0.941176     51\n",
      "17          0.992974    427\n",
      "18          0.714286     77\n",
      "29          0.680796   5025\n",
      "Problematic States: [7, 8, 11]\n"
     ]
    }
   ],
   "source": [
    "# Check acquittal rates and counts per state\n",
    "state_stats = analysis_df.groupby('state_code')['acquitted'].agg(['mean', 'count'])\n",
    "print(\"State Statistics:\\n\", state_stats)\n",
    "\n",
    "# Check for states with 0% or 100% acquittal rates\n",
    "problem_states = state_stats[(state_stats['mean'].isin([0, 1])) | (state_stats['count'] < 10)].index.tolist()\n",
    "print(\"Problematic States:\", problem_states)"
   ]
  },
  {
   "cell_type": "code",
   "execution_count": 51,
   "metadata": {},
   "outputs": [],
   "source": [
    "# Drop rows from problematic states\n",
    "analysis_df_clean = analysis_df[~analysis_df['state_code'].isin(problem_states)].copy()\n",
    "\n",
    "# Group rare states into \"Other\" (optional)\n",
    "analysis_df_clean['state_code'] = np.where(\n",
    "    analysis_df_clean['state_code'].isin([3, 4, 10, 13, 17, 18, 29]),  # Keep common states\n",
    "    analysis_df_clean['state_code'],\n",
    "    999  # \"Other\" category\n",
    ")"
   ]
  },
  {
   "cell_type": "code",
   "execution_count": 52,
   "metadata": {},
   "outputs": [
    {
     "name": "stdout",
     "output_type": "stream",
     "text": [
      "Optimization terminated successfully.\n",
      "         Current function value: 0.497006\n",
      "         Iterations 9\n",
      "                           Logit Regression Results                           \n",
      "==============================================================================\n",
      "Dep. Variable:              acquitted   No. Observations:                14880\n",
      "Model:                          Logit   Df Residuals:                    14862\n",
      "Method:                           MLE   Df Model:                           17\n",
      "Date:                Sun, 13 Apr 2025   Pseudo R-squ.:                  0.2406\n",
      "Time:                        04:35:53   Log-Likelihood:                -7395.4\n",
      "converged:                       True   LL-Null:                       -9739.0\n",
      "Covariance Type:            nonrobust   LLR p-value:                     0.000\n",
      "==========================================================================================\n",
      "                             coef    std err          z      P>|z|      [0.025      0.975]\n",
      "------------------------------------------------------------------------------------------\n",
      "Intercept                 -0.3251      0.153     -2.127      0.033      -0.625      -0.026\n",
      "C(filing_year)[T.2011]    -0.4523      0.172     -2.635      0.008      -0.789      -0.116\n",
      "C(filing_year)[T.2012]    -0.5732      0.163     -3.519      0.000      -0.892      -0.254\n",
      "C(filing_year)[T.2013]    -0.5903      0.157     -3.758      0.000      -0.898      -0.282\n",
      "C(filing_year)[T.2014]    -1.2195      0.150     -8.133      0.000      -1.513      -0.926\n",
      "C(filing_year)[T.2015]    -1.5831      0.150    -10.530      0.000      -1.878      -1.288\n",
      "C(filing_year)[T.2016]    -2.0347      0.150    -13.602      0.000      -2.328      -1.742\n",
      "C(filing_year)[T.2017]    -2.1205      0.154    -13.785      0.000      -2.422      -1.819\n",
      "C(filing_year)[T.2018]    -2.7538      0.165    -16.720      0.000      -3.077      -2.431\n",
      "C(state_code)[T.4]         2.4206      0.092     26.291      0.000       2.240       2.601\n",
      "C(state_code)[T.10]        1.6666      0.066     25.397      0.000       1.538       1.795\n",
      "C(state_code)[T.13]        3.5814      0.268     13.340      0.000       3.055       4.108\n",
      "C(state_code)[T.17]        5.5946      0.582      9.605      0.000       4.453       6.736\n",
      "C(state_code)[T.18]        1.5841      0.281      5.641      0.000       1.034       2.134\n",
      "C(state_code)[T.29]        1.6511      0.053     30.935      0.000       1.547       1.756\n",
      "C(state_code)[T.999]       2.8505      0.098     29.133      0.000       2.659       3.042\n",
      "same_gender               -0.1547      0.042     -3.665      0.000      -0.237      -0.072\n",
      "number_sections_ipc        0.5349      0.017     30.615      0.000       0.501       0.569\n",
      "==========================================================================================\n"
     ]
    }
   ],
   "source": [
    "import statsmodels.formula.api as smf\n",
    "\n",
    "# Logistic regression for acquittal probability\n",
    "# Rerun the model with cleaned data\n",
    "model = smf.logit(\n",
    "    'acquitted ~ same_gender + C(filing_year) + C(state_code) + number_sections_ipc',\n",
    "    data=analysis_df_clean\n",
    ").fit(maxiter=100)\n",
    "\n",
    "print(model.summary())\n"
   ]
  },
  {
   "cell_type": "code",
   "execution_count": 63,
   "metadata": {},
   "outputs": [
    {
     "name": "stdout",
     "output_type": "stream",
     "text": [
      "Warning: Maximum number of iterations has been exceeded.\n",
      "         Current function value: 0.495169\n",
      "         Iterations: 35\n"
     ]
    },
    {
     "name": "stderr",
     "output_type": "stream",
     "text": [
      "/usr/lib/python3.13/site-packages/statsmodels/base/model.py:607: ConvergenceWarning: Maximum Likelihood optimization failed to converge. Check mle_retvals\n",
      "  warnings.warn(\"Maximum Likelihood optimization failed to \"\n"
     ]
    }
   ],
   "source": [
    "model = smf.logit(\n",
    "    'acquitted ~ female_judge + female_defendant + C(filing_year) + C(state_code) + number_sections_ipc',\n",
    "    data=df_clean\n",
    ").fit()"
   ]
  }
 ],
 "metadata": {
  "kernelspec": {
   "display_name": "Python 3",
   "language": "python",
   "name": "python3"
  },
  "language_info": {
   "codemirror_mode": {
    "name": "ipython",
    "version": 3
   },
   "file_extension": ".py",
   "mimetype": "text/x-python",
   "name": "python",
   "nbconvert_exporter": "python",
   "pygments_lexer": "ipython3",
   "version": "3.13.2"
  }
 },
 "nbformat": 4,
 "nbformat_minor": 2
}
