{
 "cells": [
  {
   "cell_type": "code",
   "execution_count": 3,
   "metadata": {},
   "outputs": [],
   "source": [
    "import pandas as pd\n",
    "import numpy as np\n",
    "import matplotlib.pyplot as plt\n",
    "import seaborn as sns"
   ]
  },
  {
   "cell_type": "code",
   "execution_count": 4,
   "metadata": {},
   "outputs": [
    {
     "name": "stdout",
     "output_type": "stream",
     "text": [
      "                ddl_case_id date_of_filing date_of_decision  filing_year  \\\n",
      "0  02-05-33-202100000502015     2015-06-06       2015-09-11         2015   \n",
      "1  03-23-15-201200004322010     2010-08-17       2011-04-08         2010   \n",
      "2  03-04-03-201200029152014     2014-07-11       2015-06-17         2014   \n",
      "3  03-06-06-201200001612017     2017-04-24       2017-04-24         2017   \n",
      "4  04-03-05-202900010002013     2013-08-23       2015-03-31         2013   \n",
      "\n",
      "   state_code  court_no female_defendant female_petitioner female_judge  \\\n",
      "0           2        33           0 male            0 male     1 female   \n",
      "1           3        15           0 male          1 female  0 nonfemale   \n",
      "2           3         3           0 male            0 male  0 nonfemale   \n",
      "3           3         6           0 male            0 male  0 nonfemale   \n",
      "4           4         5           0 male            0 male  0 nonfemale   \n",
      "\n",
      "                   act_s  section_s  bailable_ipc  number_sections_ipc  \\\n",
      "0  The Indian Penal Code        304  non-bailable                    2   \n",
      "1  The Indian Penal Code        506      bailable                    3   \n",
      "2  The Indian Penal Code        323      bailable                    3   \n",
      "3  The Indian Penal Code        337      bailable                    2   \n",
      "4  The Indian Penal Code        148      bailable                    6   \n",
      "\n",
      "  disposition  \n",
      "0   acquitted  \n",
      "1   acquitted  \n",
      "2   acquitted  \n",
      "3   acquitted  \n",
      "4   acquitted  \n"
     ]
    }
   ],
   "source": [
    "# Replace with your CSV path\n",
    "df = pd.read_csv('/home/arctan/data/justice_data/sample2.csv', parse_dates=['date_of_filing', 'date_of_decision'])\n",
    "\n",
    "# Verify first few rows\n",
    "print(df.head())"
   ]
  },
  {
   "cell_type": "code",
   "execution_count": 5,
   "metadata": {},
   "outputs": [
    {
     "name": "stdout",
     "output_type": "stream",
     "text": [
      "<class 'pandas.core.frame.DataFrame'>\n",
      "RangeIndex: 14926 entries, 0 to 14925\n",
      "Data columns (total 14 columns):\n",
      " #   Column               Non-Null Count  Dtype         \n",
      "---  ------               --------------  -----         \n",
      " 0   ddl_case_id          14926 non-null  object        \n",
      " 1   date_of_filing       14926 non-null  datetime64[ns]\n",
      " 2   date_of_decision     14926 non-null  datetime64[ns]\n",
      " 3   filing_year          14926 non-null  int64         \n",
      " 4   state_code           14926 non-null  int64         \n",
      " 5   court_no             14926 non-null  int64         \n",
      " 6   female_defendant     14926 non-null  object        \n",
      " 7   female_petitioner    14926 non-null  object        \n",
      " 8   female_judge         14926 non-null  object        \n",
      " 9   act_s                14926 non-null  object        \n",
      " 10  section_s            14926 non-null  int64         \n",
      " 11  bailable_ipc         14926 non-null  object        \n",
      " 12  number_sections_ipc  14926 non-null  int64         \n",
      " 13  disposition          14926 non-null  object        \n",
      "dtypes: datetime64[ns](2), int64(5), object(7)\n",
      "memory usage: 1.6+ MB\n",
      "None\n",
      "                      date_of_filing               date_of_decision  \\\n",
      "count                          14926                          14926   \n",
      "mean   2015-01-29 04:08:19.745410816  2015-11-12 20:55:14.913573632   \n",
      "min              2010-01-04 00:00:00            2010-01-12 00:00:00   \n",
      "25%              2013-09-12 06:00:00            2014-09-25 00:00:00   \n",
      "50%              2015-02-24 00:00:00            2016-01-04 12:00:00   \n",
      "75%              2016-08-22 00:00:00            2017-03-22 00:00:00   \n",
      "max              2018-12-27 00:00:00            2018-12-31 00:00:00   \n",
      "std                              NaN                            NaN   \n",
      "\n",
      "        filing_year    state_code      court_no     section_s  \\\n",
      "count  14926.000000  14926.000000  14926.000000  14926.000000   \n",
      "mean    2014.558891     13.358234      6.938363    360.378802   \n",
      "min     2010.000000      2.000000      1.000000    115.000000   \n",
      "25%     2013.000000      3.000000      3.000000    323.000000   \n",
      "50%     2015.000000     10.000000      5.000000    338.000000   \n",
      "75%     2016.000000     29.000000      9.000000    420.000000   \n",
      "max     2018.000000     29.000000     66.000000    509.000000   \n",
      "std        2.016078     11.643675      5.898228     89.848156   \n",
      "\n",
      "       number_sections_ipc  \n",
      "count         14926.000000  \n",
      "mean              2.331636  \n",
      "min               1.000000  \n",
      "25%               1.000000  \n",
      "50%               2.000000  \n",
      "75%               3.000000  \n",
      "max              22.000000  \n",
      "std               1.578507  \n",
      "Dispositions: ['acquitted' 'convicted']\n",
      "Bailable IPC: ['non-bailable' 'bailable']\n"
     ]
    }
   ],
   "source": [
    "print(df.info())\n",
    "df.to_csv(\"s.csv\")\n",
    "# Summary stats for numeric columns\n",
    "print(df.describe())\n",
    "\n",
    "# Check unique values for categorical columns\n",
    "print(\"Dispositions:\", df['disposition'].unique())\n",
    "print(\"Bailable IPC:\", df['bailable_ipc'].unique())"
   ]
  },
  {
   "cell_type": "code",
   "execution_count": 6,
   "metadata": {},
   "outputs": [
    {
     "name": "stdout",
     "output_type": "stream",
     "text": [
      "['0 male' '1 female']\n",
      "['0 male' '1 female']\n",
      "['1 female' '0 nonfemale']\n",
      "Missing values:\n",
      " ddl_case_id            0\n",
      "date_of_filing         0\n",
      "date_of_decision       0\n",
      "filing_year            0\n",
      "state_code             0\n",
      "court_no               0\n",
      "female_defendant       0\n",
      "female_petitioner      0\n",
      "female_judge           0\n",
      "act_s                  0\n",
      "section_s              0\n",
      "bailable_ipc           0\n",
      "number_sections_ipc    0\n",
      "disposition            0\n",
      "dtype: int64\n"
     ]
    }
   ],
   "source": [
    "# Ensure binary columns are 0/1\n",
    "# df['female_defendant'] = df['female_defendant'].astype(int)\n",
    "# df['female_judge'] = df['female_judge'].astype(int)\n",
    "print(df[\"female_defendant\"].unique())\n",
    "print(df[\"female_petitioner\"].unique())\n",
    "print(df[\"female_judge\"].unique())\n",
    "# Check for missing values\n",
    "print(\"Missing values:\\n\", df.isnull().sum())\n"
   ]
  },
  {
   "cell_type": "code",
   "execution_count": 7,
   "metadata": {},
   "outputs": [
    {
     "name": "stdout",
     "output_type": "stream",
     "text": [
      "<class 'pandas.core.frame.DataFrame'>\n",
      "RangeIndex: 14926 entries, 0 to 14925\n",
      "Data columns (total 14 columns):\n",
      " #   Column               Non-Null Count  Dtype         \n",
      "---  ------               --------------  -----         \n",
      " 0   ddl_case_id          14926 non-null  object        \n",
      " 1   date_of_filing       14926 non-null  datetime64[ns]\n",
      " 2   date_of_decision     14926 non-null  datetime64[ns]\n",
      " 3   filing_year          14926 non-null  int64         \n",
      " 4   state_code           14926 non-null  int64         \n",
      " 5   court_no             14926 non-null  int64         \n",
      " 6   female_defendant     14926 non-null  object        \n",
      " 7   female_petitioner    14926 non-null  object        \n",
      " 8   female_judge         14926 non-null  object        \n",
      " 9   act_s                14926 non-null  object        \n",
      " 10  section_s            14926 non-null  int64         \n",
      " 11  bailable_ipc         14926 non-null  object        \n",
      " 12  number_sections_ipc  14926 non-null  int64         \n",
      " 13  disposition          14926 non-null  object        \n",
      "dtypes: datetime64[ns](2), int64(5), object(7)\n",
      "memory usage: 1.6+ MB\n"
     ]
    }
   ],
   "source": [
    "valid_genders = ['0 male', '1 female']\n",
    "mapping = {\"0 male\": 0, \"1 female\": 1}\n",
    "\n",
    "df_clean = df[\n",
    "    df[\"female_defendant\"].isin(valid_genders) &\n",
    "    df[\"female_petitioner\"].isin(valid_genders)\n",
    "].copy() \n",
    "df_clean.info()\n",
    "df_clean.loc[:, \"female_defendant\"] = df_clean[\"female_defendant\"].map(mapping)\n",
    "df_clean.loc[:, \"female_petitioner\"] = df_clean[\"female_petitioner\"].map(mapping)\n",
    "\n",
    "\n",
    "valid_genders = ['0 nonfemale', '1 female']\n",
    "mapping = {\"0 nonfemale\": 0, \"1 female\": 1}\n",
    "\n",
    "df_clean = df_clean[df_clean[\"female_judge\"].isin(valid_genders)]\n",
    "df_clean.loc[:, \"female_judge\"] = df_clean[\"female_judge\"].map(mapping)"
   ]
  },
  {
   "cell_type": "code",
   "execution_count": 12,
   "metadata": {},
   "outputs": [
    {
     "name": "stdout",
     "output_type": "stream",
     "text": [
      "<class 'pandas.core.frame.DataFrame'>\n",
      "RangeIndex: 14926 entries, 0 to 14925\n",
      "Data columns (total 14 columns):\n",
      " #   Column               Non-Null Count  Dtype         \n",
      "---  ------               --------------  -----         \n",
      " 0   ddl_case_id          14926 non-null  object        \n",
      " 1   date_of_filing       14926 non-null  datetime64[ns]\n",
      " 2   date_of_decision     14926 non-null  datetime64[ns]\n",
      " 3   filing_year          14926 non-null  int64         \n",
      " 4   state_code           14926 non-null  int64         \n",
      " 5   court_no             14926 non-null  int64         \n",
      " 6   female_defendant     14926 non-null  object        \n",
      " 7   female_petitioner    14926 non-null  object        \n",
      " 8   female_judge         14926 non-null  object        \n",
      " 9   act_s                14926 non-null  object        \n",
      " 10  section_s            14926 non-null  int64         \n",
      " 11  bailable_ipc         14926 non-null  object        \n",
      " 12  number_sections_ipc  14926 non-null  int64         \n",
      " 13  disposition          14926 non-null  object        \n",
      "dtypes: datetime64[ns](2), int64(5), object(7)\n",
      "memory usage: 1.6+ MB\n"
     ]
    }
   ],
   "source": [
    "df_clean[\"female_petitioner\"].unique()\n",
    "df.info()"
   ]
  },
  {
   "cell_type": "code",
   "execution_count": 9,
   "metadata": {},
   "outputs": [
    {
     "name": "stdout",
     "output_type": "stream",
     "text": [
      "<class 'pandas.core.frame.DataFrame'>\n",
      "RangeIndex: 14926 entries, 0 to 14925\n",
      "Data columns (total 17 columns):\n",
      " #   Column               Non-Null Count  Dtype         \n",
      "---  ------               --------------  -----         \n",
      " 0   ddl_case_id          14926 non-null  object        \n",
      " 1   date_of_filing       14926 non-null  datetime64[ns]\n",
      " 2   date_of_decision     14926 non-null  datetime64[ns]\n",
      " 3   filing_year          14926 non-null  int64         \n",
      " 4   state_code           14926 non-null  int64         \n",
      " 5   court_no             14926 non-null  int64         \n",
      " 6   female_defendant     14926 non-null  object        \n",
      " 7   female_petitioner    14926 non-null  object        \n",
      " 8   female_judge         14926 non-null  object        \n",
      " 9   act_s                14926 non-null  object        \n",
      " 10  section_s            14926 non-null  int64         \n",
      " 11  bailable_ipc         14926 non-null  object        \n",
      " 12  number_sections_ipc  14926 non-null  int64         \n",
      " 13  disposition          14926 non-null  object        \n",
      " 14  same_gender          14926 non-null  int64         \n",
      " 15  duration_days        14926 non-null  int64         \n",
      " 16  acquitted            14926 non-null  int64         \n",
      "dtypes: datetime64[ns](2), int64(8), object(7)\n",
      "memory usage: 1.9+ MB\n"
     ]
    }
   ],
   "source": [
    "# Create same-gender indicator (1 = judge/defendant same gender)\n",
    "df_clean['same_gender'] = (df_clean['female_judge'] == df_clean['female_defendant']).astype(int)\n",
    "\n",
    "# Calculate case duration (days)\n",
    "df_clean['duration_days'] = (df_clean['date_of_decision'] - df_clean['date_of_filing']).dt.days\n",
    "\n",
    "# Simplify disposition to binary (1 = acquitted)\n",
    "df_clean['acquitted'] = df_clean['disposition'].apply(lambda x: 1 if x == 'acquitted' else 0)\n",
    "\n",
    "df_clean.info()"
   ]
  },
  {
   "cell_type": "code",
   "execution_count": 15,
   "metadata": {},
   "outputs": [
    {
     "data": {
      "image/png": "[encoded data removed]",
      "text/plain": [
       "<Figure size 640x480 with 1 Axes>"
      ]
     },
     "metadata": {},
     "output_type": "display_data"
    }
   ],
   "source": [
    "import matplotlib.pyplot as plt\n",
    "import seaborn as sns\n",
    "\n",
    "sns.histplot(df_clean['duration_days'], kde=True)\n",
    "plt.title('Distribution of Case Durations')\n",
    "plt.show()\n"
   ]
  },
  {
   "cell_type": "code",
   "execution_count": 16,
   "metadata": {},
   "outputs": [
    {
     "name": "stdout",
     "output_type": "stream",
     "text": [
      "Skewness: 1.66\n",
      "Kurtosis: 4.44\n"
     ]
    }
   ],
   "source": [
    "from scipy.stats import skew, kurtosis\n",
    "\n",
    "print(f\"Skewness: {skew(df_clean['duration_days']):.2f}\")\n",
    "print(f\"Kurtosis: {kurtosis(df_clean['duration_days']):.2f}\")\n"
   ]
  },
  {
   "cell_type": "code",
   "execution_count": 10,
   "metadata": {},
   "outputs": [
    {
     "data": {
      "image/png": "[encoded data removed]",
      "text/plain": [
       "<Figure size 640x480 with 1 Axes>"
      ]
     },
     "metadata": {},
     "output_type": "display_data"
    },
    {
     "data": {
      "image/png": "[encoded data removed]",
      "text/plain": [
       "<Figure size 640x480 with 1 Axes>"
      ]
     },
     "metadata": {},
     "output_type": "display_data"
    },
    {
     "data": {
      "image/png": "[encoded data removed]",
      "text/plain": [
       "<Figure size 640x480 with 1 Axes>"
      ]
     },
     "metadata": {},
     "output_type": "display_data"
    }
   ],
   "source": [
    "# Acquittal rate by gender match\n",
    "sns.barplot(x='same_gender', y='acquitted', data=df_clean)\n",
    "plt.title(\"Acquittal Rate by Gender Match\")\n",
    "plt.show()\n",
    "\n",
    "# Distribution of cases by judge gender\n",
    "sns.countplot(x='female_judge', data=df_clean)\n",
    "plt.title(\"Cases by Judge Gender (0=Male, 1=Female)\")\n",
    "plt.show()\n",
    "\n",
    "# Case duration distribution\n",
    "sns.histplot(df_clean['duration_days'], bins=30)\n",
    "plt.title(\"Case Duration (Days)\")\n",
    "plt.show()"
   ]
  },
  {
   "cell_type": "code",
   "execution_count": 11,
   "metadata": {},
   "outputs": [
    {
     "name": "stdout",
     "output_type": "stream",
     "text": [
      "['ddl_case_id', 'date_of_filing', 'date_of_decision', 'filing_year', 'state_code', 'court_no', 'female_defendant', 'female_petitioner', 'female_judge', 'act_s', 'section_s', 'bailable_ipc', 'number_sections_ipc', 'disposition', 'same_gender', 'duration_days', 'acquitted']\n"
     ]
    },
    {
     "ename": "KeyError",
     "evalue": "'female_petitioner'",
     "output_type": "error",
     "traceback": [
      "\u001b[31m---------------------------------------------------------------------------\u001b[39m",
      "\u001b[31mKeyError\u001b[39m                                  Traceback (most recent call last)",
      "\u001b[36mFile \u001b[39m\u001b[32m/usr/lib/python3.13/site-packages/pandas/core/indexes/base.py:3805\u001b[39m, in \u001b[36mIndex.get_loc\u001b[39m\u001b[34m(self, key)\u001b[39m\n\u001b[32m   3804\u001b[39m \u001b[38;5;28;01mtry\u001b[39;00m:\n\u001b[32m-> \u001b[39m\u001b[32m3805\u001b[39m     \u001b[38;5;28;01mreturn\u001b[39;00m \u001b[38;5;28;43mself\u001b[39;49m\u001b[43m.\u001b[49m\u001b[43m_engine\u001b[49m\u001b[43m.\u001b[49m\u001b[43mget_loc\u001b[49m\u001b[43m(\u001b[49m\u001b[43mcasted_key\u001b[49m\u001b[43m)\u001b[49m\n\u001b[32m   3806\u001b[39m \u001b[38;5;28;01mexcept\u001b[39;00m \u001b[38;5;167;01mKeyError\u001b[39;00m \u001b[38;5;28;01mas\u001b[39;00m err:\n",
      "\u001b[36mFile \u001b[39m\u001b[32mindex.pyx:167\u001b[39m, in \u001b[36mpandas._libs.index.IndexEngine.get_loc\u001b[39m\u001b[34m()\u001b[39m\n",
      "\u001b[36mFile \u001b[39m\u001b[32mindex.pyx:196\u001b[39m, in \u001b[36mpandas._libs.index.IndexEngine.get_loc\u001b[39m\u001b[34m()\u001b[39m\n",
      "\u001b[36mFile \u001b[39m\u001b[32mpandas/_libs/hashtable_class_helper.pxi:7081\u001b[39m, in \u001b[36mpandas._libs.hashtable.PyObjectHashTable.get_item\u001b[39m\u001b[34m()\u001b[39m\n",
      "\u001b[36mFile \u001b[39m\u001b[32mpandas/_libs/hashtable_class_helper.pxi:7089\u001b[39m, in \u001b[36mpandas._libs.hashtable.PyObjectHashTable.get_item\u001b[39m\u001b[34m()\u001b[39m\n",
      "\u001b[31mKeyError\u001b[39m: 'female_petitioner'",
      "\nThe above exception was the direct cause of the following exception:\n",
      "\u001b[31mKeyError\u001b[39m                                  Traceback (most recent call last)",
      "\u001b[36mCell\u001b[39m\u001b[36m \u001b[39m\u001b[32mIn[11]\u001b[39m\u001b[32m, line 24\u001b[39m\n\u001b[32m     22\u001b[39m     \u001b[38;5;28;01mreturn\u001b[39;00m best_features\n\u001b[32m     23\u001b[39m \u001b[38;5;28mprint\u001b[39m(df_clean.columns.tolist())\n\u001b[32m---> \u001b[39m\u001b[32m24\u001b[39m \u001b[43mforward_selection\u001b[49m\u001b[43m(\u001b[49m\u001b[43mdf_clean\u001b[49m\u001b[43m,\u001b[49m\u001b[43m \u001b[49m\u001b[33;43m'\u001b[39;49m\u001b[33;43macquitted\u001b[39;49m\u001b[33;43m'\u001b[39;49m\u001b[43m)\u001b[49m\n",
      "\u001b[36mCell\u001b[39m\u001b[36m \u001b[39m\u001b[32mIn[11]\u001b[39m\u001b[32m, line 14\u001b[39m, in \u001b[36mforward_selection\u001b[39m\u001b[34m(data, target, max_features)\u001b[39m\n\u001b[32m     12\u001b[39m formula = \u001b[33mf\u001b[39m\u001b[33m\"\u001b[39m\u001b[38;5;132;01m{\u001b[39;00mtarget\u001b[38;5;132;01m}\u001b[39;00m\u001b[33m ~ \u001b[39m\u001b[38;5;132;01m{\u001b[39;00m\u001b[33m'\u001b[39m\u001b[33m + \u001b[39m\u001b[33m'\u001b[39m.join(best_features\u001b[38;5;250m \u001b[39m+\u001b[38;5;250m \u001b[39m[feature])\u001b[38;5;132;01m}\u001b[39;00m\u001b[33m\"\u001b[39m\n\u001b[32m     13\u001b[39m model = sm.Logit.from_formula(formula, data).fit(disp=\u001b[32m0\u001b[39m)\n\u001b[32m---> \u001b[39m\u001b[32m14\u001b[39m pval = \u001b[43mmodel\u001b[49m\u001b[43m.\u001b[49m\u001b[43mpvalues\u001b[49m\u001b[43m[\u001b[49m\u001b[43mfeature\u001b[49m\u001b[43m]\u001b[49m\n\u001b[32m     15\u001b[39m \u001b[38;5;28;01mif\u001b[39;00m pval < best_pval:\n\u001b[32m     16\u001b[39m     best_pval = pval\n",
      "\u001b[36mFile \u001b[39m\u001b[32m/usr/lib/python3.13/site-packages/pandas/core/series.py:1121\u001b[39m, in \u001b[36mSeries.__getitem__\u001b[39m\u001b[34m(self, key)\u001b[39m\n\u001b[32m   1118\u001b[39m     \u001b[38;5;28;01mreturn\u001b[39;00m \u001b[38;5;28mself\u001b[39m._values[key]\n\u001b[32m   1120\u001b[39m \u001b[38;5;28;01melif\u001b[39;00m key_is_scalar:\n\u001b[32m-> \u001b[39m\u001b[32m1121\u001b[39m     \u001b[38;5;28;01mreturn\u001b[39;00m \u001b[38;5;28;43mself\u001b[39;49m\u001b[43m.\u001b[49m\u001b[43m_get_value\u001b[49m\u001b[43m(\u001b[49m\u001b[43mkey\u001b[49m\u001b[43m)\u001b[49m\n\u001b[32m   1123\u001b[39m \u001b[38;5;66;03m# Convert generator to list before going through hashable part\u001b[39;00m\n\u001b[32m   1124\u001b[39m \u001b[38;5;66;03m# (We will iterate through the generator there to check for slices)\u001b[39;00m\n\u001b[32m   1125\u001b[39m \u001b[38;5;28;01mif\u001b[39;00m is_iterator(key):\n",
      "\u001b[36mFile \u001b[39m\u001b[32m/usr/lib/python3.13/site-packages/pandas/core/series.py:1237\u001b[39m, in \u001b[36mSeries._get_value\u001b[39m\u001b[34m(self, label, takeable)\u001b[39m\n\u001b[32m   1234\u001b[39m     \u001b[38;5;28;01mreturn\u001b[39;00m \u001b[38;5;28mself\u001b[39m._values[label]\n\u001b[32m   1236\u001b[39m \u001b[38;5;66;03m# Similar to Index.get_value, but we do not fall back to positional\u001b[39;00m\n\u001b[32m-> \u001b[39m\u001b[32m1237\u001b[39m loc = \u001b[38;5;28;43mself\u001b[39;49m\u001b[43m.\u001b[49m\u001b[43mindex\u001b[49m\u001b[43m.\u001b[49m\u001b[43mget_loc\u001b[49m\u001b[43m(\u001b[49m\u001b[43mlabel\u001b[49m\u001b[43m)\u001b[49m\n\u001b[32m   1239\u001b[39m \u001b[38;5;28;01mif\u001b[39;00m is_integer(loc):\n\u001b[32m   1240\u001b[39m     \u001b[38;5;28;01mreturn\u001b[39;00m \u001b[38;5;28mself\u001b[39m._values[loc]\n",
      "\u001b[36mFile \u001b[39m\u001b[32m/usr/lib/python3.13/site-packages/pandas/core/indexes/base.py:3812\u001b[39m, in \u001b[36mIndex.get_loc\u001b[39m\u001b[34m(self, key)\u001b[39m\n\u001b[32m   3807\u001b[39m     \u001b[38;5;28;01mif\u001b[39;00m \u001b[38;5;28misinstance\u001b[39m(casted_key, \u001b[38;5;28mslice\u001b[39m) \u001b[38;5;129;01mor\u001b[39;00m (\n\u001b[32m   3808\u001b[39m         \u001b[38;5;28misinstance\u001b[39m(casted_key, abc.Iterable)\n\u001b[32m   3809\u001b[39m         \u001b[38;5;129;01mand\u001b[39;00m \u001b[38;5;28many\u001b[39m(\u001b[38;5;28misinstance\u001b[39m(x, \u001b[38;5;28mslice\u001b[39m) \u001b[38;5;28;01mfor\u001b[39;00m x \u001b[38;5;129;01min\u001b[39;00m casted_key)\n\u001b[32m   3810\u001b[39m     ):\n\u001b[32m   3811\u001b[39m         \u001b[38;5;28;01mraise\u001b[39;00m InvalidIndexError(key)\n\u001b[32m-> \u001b[39m\u001b[32m3812\u001b[39m     \u001b[38;5;28;01mraise\u001b[39;00m \u001b[38;5;167;01mKeyError\u001b[39;00m(key) \u001b[38;5;28;01mfrom\u001b[39;00m\u001b[38;5;250m \u001b[39m\u001b[34;01merr\u001b[39;00m\n\u001b[32m   3813\u001b[39m \u001b[38;5;28;01mexcept\u001b[39;00m \u001b[38;5;167;01mTypeError\u001b[39;00m:\n\u001b[32m   3814\u001b[39m     \u001b[38;5;66;03m# If we have a listlike key, _check_indexing_error will raise\u001b[39;00m\n\u001b[32m   3815\u001b[39m     \u001b[38;5;66;03m#  InvalidIndexError. Otherwise we fall through and re-raise\u001b[39;00m\n\u001b[32m   3816\u001b[39m     \u001b[38;5;66;03m#  the TypeError.\u001b[39;00m\n\u001b[32m   3817\u001b[39m     \u001b[38;5;28mself\u001b[39m._check_indexing_error(key)\n",
      "\u001b[31mKeyError\u001b[39m: 'female_petitioner'"
     ]
    }
   ],
   "source": [
    "import statsmodels.api as sm\n",
    "\n",
    "# Forward selection\n",
    "def forward_selection(data, target, max_features=10):\n",
    "    initial_features = []\n",
    "    best_features = []\n",
    "    while len(best_features) < max_features:\n",
    "        remaining_features = list(set(data.columns) - set(best_features))\n",
    "        best_pval = 1\n",
    "        best_feature = None\n",
    "        for feature in remaining_features:\n",
    "            formula = f\"{target} ~ {' + '.join(best_features + [feature])}\"\n",
    "            model = sm.Logit.from_formula(formula, data).fit(disp=0)\n",
    "            pval = model.pvalues[feature]\n",
    "            if pval < best_pval:\n",
    "                best_pval = pval\n",
    "                best_feature = feature\n",
    "        if best_pval < 0.05:\n",
    "            best_features.append(best_feature)\n",
    "        else:\n",
    "            break\n",
    "    return best_features\n",
    "print(df_clean.columns.tolist())\n",
    "forward_selection(df_clean, 'acquitted')"
   ]
  },
  {
   "cell_type": "code",
   "execution_count": 62,
   "metadata": {},
   "outputs": [
    {
     "name": "stdout",
     "output_type": "stream",
     "text": [
      "Selected features: ['state_code', 'section_s', 'disposition', 'duration_days', 'acquitted']\n"
     ]
    }
   ],
   "source": [
    "from sklearn.preprocessing import LabelEncoder\n",
    "from sklearn.feature_selection import SelectKBest, chi2\n",
    "\n",
    "# Drop problematic date columns\n",
    "X = df_clean.drop(columns=['date_of_filing', 'date_of_decision'])\n",
    "\n",
    "# Label encode categorical columns\n",
    "label_cols = ['bailable_ipc', 'disposition', 'act_s', 'section_s']\n",
    "le = LabelEncoder()\n",
    "for col in label_cols:\n",
    "    X[col] = le.fit_transform(X[col].astype(str))\n",
    "\n",
    "# Make sure all columns are numeric and non-negative\n",
    "X = X.select_dtypes(include=['int64', 'float64'])\n",
    "\n",
    "# Target variable\n",
    "y = df_clean['acquitted']\n",
    "\n",
    "# Run SelectKBest\n",
    "selector = SelectKBest(score_func=chi2, k=5)\n",
    "selector.fit(X, y)\n",
    "selected_features = X.columns[selector.get_support()]\n",
    "print(\"Selected features:\", selected_features.tolist())\n"
   ]
  },
  {
   "cell_type": "code",
   "execution_count": 43,
   "metadata": {},
   "outputs": [],
   "source": [
    "# Select relevant columns\n",
    "analysis_df = df_clean[[\n",
    "    'acquitted',\n",
    "    'same_gender',\n",
    "    'female_judge',\n",
    "    'female_defendant',\n",
    "    'duration_days',\n",
    "    'bailable_ipc',\n",
    "    'number_sections_ipc',\n",
    "    'state_code',\n",
    "    'filing_year'\n",
    "]]\n",
    "\n",
    "# Drop rows with missing values\n",
    "analysis_df = analysis_df.dropna()"
   ]
  },
  {
   "cell_type": "code",
   "execution_count": 36,
   "metadata": {},
   "outputs": [
    {
     "name": "stdout",
     "output_type": "stream",
     "text": [
      "Contingency Table:\n",
      " female_defendant     0     1\n",
      "female_judge                \n",
      "0                 8676  2110\n",
      "1                 3319   821\n"
     ]
    }
   ],
   "source": [
    "# Create a cross-tabulation of judge gender vs. defendant gender\n",
    "contingency_table = pd.crosstab(\n",
    "    df_clean['female_judge'],  # Rows (0 = male judge, 1 = female judge)\n",
    "    df_clean['female_defendant']  # Columns (0 = male defendant, 1 = female defendant)\n",
    ")\n",
    "\n",
    "print(\"Contingency Table:\\n\", contingency_table)"
   ]
  },
  {
   "cell_type": "code",
   "execution_count": 37,
   "metadata": {},
   "outputs": [
    {
     "name": "stdout",
     "output_type": "stream",
     "text": [
      "Chi-Square Statistic: 0.12\n",
      "P-value: 0.7288\n"
     ]
    }
   ],
   "source": [
    "from scipy.stats import chi2_contingency\n",
    "\n",
    "chi2, p_value, dof, expected = chi2_contingency(contingency_table)\n",
    "print(f\"Chi-Square Statistic: {chi2:.2f}\")\n",
    "print(f\"P-value: {p_value:.4f}\")"
   ]
  },
  {
   "cell_type": "code",
   "execution_count": 50,
   "metadata": {},
   "outputs": [
    {
     "name": "stdout",
     "output_type": "stream",
     "text": [
      "State Statistics:\n",
      "                 mean  count\n",
      "state_code                 \n",
      "2           0.855986   1111\n",
      "3           0.393986   4523\n",
      "4           0.880829   1544\n",
      "7           1.000000     10\n",
      "8           1.000000     34\n",
      "10          0.655373   1889\n",
      "11          1.000000      2\n",
      "13          0.927039    233\n",
      "15          0.941176     51\n",
      "17          0.992974    427\n",
      "18          0.714286     77\n",
      "29          0.680796   5025\n",
      "Problematic States: [7, 8, 11]\n"
     ]
    }
   ],
   "source": [
    "# Check acquittal rates and counts per state\n",
    "state_stats = analysis_df.groupby('state_code')['acquitted'].agg(['mean', 'count'])\n",
    "print(\"State Statistics:\\n\", state_stats)\n",
    "\n",
    "# Check for states with 0% or 100% acquittal rates\n",
    "problem_states = state_stats[(state_stats['mean'].isin([0, 1])) | (state_stats['count'] < 10)].index.tolist()\n",
    "print(\"Problematic States:\", problem_states)"
   ]
  },
  {
   "cell_type": "code",
   "execution_count": 51,
   "metadata": {},
   "outputs": [],
   "source": [
    "# Drop rows from problematic states\n",
    "analysis_df_clean = analysis_df[~analysis_df['state_code'].isin(problem_states)].copy()\n",
    "\n",
    "# Group rare states into \"Other\" (optional)\n",
    "analysis_df_clean['state_code'] = np.where(\n",
    "    analysis_df_clean['state_code'].isin([3, 4, 10, 13, 17, 18, 29]),  # Keep common states\n",
    "    analysis_df_clean['state_code'],\n",
    "    999  # \"Other\" category\n",
    ")"
   ]
  },
  {
   "cell_type": "code",
   "execution_count": 14,
   "metadata": {},
   "outputs": [
    {
     "data": {
      "text/plain": [
       "array([1, 0])"
      ]
     },
     "execution_count": 14,
     "metadata": {},
     "output_type": "execute_result"
    }
   ],
   "source": [
    "df_clean[\"acquitted\"].unique()"
   ]
  },
  {
   "cell_type": "code",
   "execution_count": 52,
   "metadata": {},
   "outputs": [
    {
     "name": "stdout",
     "output_type": "stream",
     "text": [
      "Optimization terminated successfully.\n",
      "         Current function value: 0.497006\n",
      "         Iterations 9\n",
      "                           Logit Regression Results                           \n",
      "==============================================================================\n",
      "Dep. Variable:              acquitted   No. Observations:                14880\n",
      "Model:                          Logit   Df Residuals:                    14862\n",
      "Method:                           MLE   Df Model:                           17\n",
      "Date:                Sun, 13 Apr 2025   Pseudo R-squ.:                  0.2406\n",
      "Time:                        04:35:53   Log-Likelihood:                -7395.4\n",
      "converged:                       True   LL-Null:                       -9739.0\n",
      "Covariance Type:            nonrobust   LLR p-value:                     0.000\n",
      "==========================================================================================\n",
      "                             coef    std err          z      P>|z|      [0.025      0.975]\n",
      "------------------------------------------------------------------------------------------\n",
      "Intercept                 -0.3251      0.153     -2.127      0.033      -0.625      -0.026\n",
      "C(filing_year)[T.2011]    -0.4523      0.172     -2.635      0.008      -0.789      -0.116\n",
      "C(filing_year)[T.2012]    -0.5732      0.163     -3.519      0.000      -0.892      -0.254\n",
      "C(filing_year)[T.2013]    -0.5903      0.157     -3.758      0.000      -0.898      -0.282\n",
      "C(filing_year)[T.2014]    -1.2195      0.150     -8.133      0.000      -1.513      -0.926\n",
      "C(filing_year)[T.2015]    -1.5831      0.150    -10.530      0.000      -1.878      -1.288\n",
      "C(filing_year)[T.2016]    -2.0347      0.150    -13.602      0.000      -2.328      -1.742\n",
      "C(filing_year)[T.2017]    -2.1205      0.154    -13.785      0.000      -2.422      -1.819\n",
      "C(filing_year)[T.2018]    -2.7538      0.165    -16.720      0.000      -3.077      -2.431\n",
      "C(state_code)[T.4]         2.4206      0.092     26.291      0.000       2.240       2.601\n",
      "C(state_code)[T.10]        1.6666      0.066     25.397      0.000       1.538       1.795\n",
      "C(state_code)[T.13]        3.5814      0.268     13.340      0.000       3.055       4.108\n",
      "C(state_code)[T.17]        5.5946      0.582      9.605      0.000       4.453       6.736\n",
      "C(state_code)[T.18]        1.5841      0.281      5.641      0.000       1.034       2.134\n",
      "C(state_code)[T.29]        1.6511      0.053     30.935      0.000       1.547       1.756\n",
      "C(state_code)[T.999]       2.8505      0.098     29.133      0.000       2.659       3.042\n",
      "same_gender               -0.1547      0.042     -3.665      0.000      -0.237      -0.072\n",
      "number_sections_ipc        0.5349      0.017     30.615      0.000       0.501       0.569\n",
      "==========================================================================================\n"
     ]
    }
   ],
   "source": [
    "import statsmodels.formula.api as smf\n",
    "\n",
    "# Logistic regression for acquittal probability\n",
    "# Rerun the model with cleaned data\n",
    "model = smf.logit(\n",
    "    'acquitted ~ same_gender + C(filing_year) + C(state_code) + number_sections_ipc',\n",
    "    data=analysis_df_clean\n",
    ").fit(maxiter=100)\n",
    "\n",
    "print(model.summary())\n"
   ]
  },
  {
   "cell_type": "code",
   "execution_count": 66,
   "metadata": {},
   "outputs": [
    {
     "name": "stdout",
     "output_type": "stream",
     "text": [
      "Optimization terminated successfully.\n",
      "         Current function value: 0.496805\n",
      "         Iterations 9\n"
     ]
    },
    {
     "data": {
      "text/html": [
       "<table class=\"simpletable\">\n",
       "<caption>Logit Regression Results</caption>\n",
       "<tr>\n",
       "  <th>Dep. Variable:</th>       <td>acquitted</td>    <th>  No. Observations:  </th>  <td> 14880</td> \n",
       "</tr>\n",
       "<tr>\n",
       "  <th>Model:</th>                 <td>Logit</td>      <th>  Df Residuals:      </th>  <td> 14861</td> \n",
       "</tr>\n",
       "<tr>\n",
       "  <th>Method:</th>                 <td>MLE</td>       <th>  Df Model:          </th>  <td>    18</td> \n",
       "</tr>\n",
       "<tr>\n",
       "  <th>Date:</th>            <td>Sun, 13 Apr 2025</td> <th>  Pseudo R-squ.:     </th>  <td>0.2409</td> \n",
       "</tr>\n",
       "<tr>\n",
       "  <th>Time:</th>                <td>05:15:46</td>     <th>  Log-Likelihood:    </th> <td> -7392.5</td>\n",
       "</tr>\n",
       "<tr>\n",
       "  <th>converged:</th>             <td>True</td>       <th>  LL-Null:           </th> <td> -9739.0</td>\n",
       "</tr>\n",
       "<tr>\n",
       "  <th>Covariance Type:</th>     <td>nonrobust</td>    <th>  LLR p-value:       </th>  <td> 0.000</td> \n",
       "</tr>\n",
       "</table>\n",
       "<table class=\"simpletable\">\n",
       "<tr>\n",
       "             <td></td>               <th>coef</th>     <th>std err</th>      <th>z</th>      <th>P>|z|</th>  <th>[0.025</th>    <th>0.975]</th>  \n",
       "</tr>\n",
       "<tr>\n",
       "  <th>Intercept</th>              <td>   -0.4832</td> <td>    0.152</td> <td>   -3.178</td> <td> 0.001</td> <td>   -0.781</td> <td>   -0.185</td>\n",
       "</tr>\n",
       "<tr>\n",
       "  <th>female_judge[T.1]</th>      <td>    0.1151</td> <td>    0.045</td> <td>    2.544</td> <td> 0.011</td> <td>    0.026</td> <td>    0.204</td>\n",
       "</tr>\n",
       "<tr>\n",
       "  <th>female_defendant[T.1]</th>  <td>    0.1891</td> <td>    0.052</td> <td>    3.610</td> <td> 0.000</td> <td>    0.086</td> <td>    0.292</td>\n",
       "</tr>\n",
       "<tr>\n",
       "  <th>C(filing_year)[T.2011]</th> <td>   -0.4579</td> <td>    0.172</td> <td>   -2.668</td> <td> 0.008</td> <td>   -0.794</td> <td>   -0.122</td>\n",
       "</tr>\n",
       "<tr>\n",
       "  <th>C(filing_year)[T.2012]</th> <td>   -0.5791</td> <td>    0.163</td> <td>   -3.556</td> <td> 0.000</td> <td>   -0.898</td> <td>   -0.260</td>\n",
       "</tr>\n",
       "<tr>\n",
       "  <th>C(filing_year)[T.2013]</th> <td>   -0.5945</td> <td>    0.157</td> <td>   -3.786</td> <td> 0.000</td> <td>   -0.902</td> <td>   -0.287</td>\n",
       "</tr>\n",
       "<tr>\n",
       "  <th>C(filing_year)[T.2014]</th> <td>   -1.2223</td> <td>    0.150</td> <td>   -8.156</td> <td> 0.000</td> <td>   -1.516</td> <td>   -0.929</td>\n",
       "</tr>\n",
       "<tr>\n",
       "  <th>C(filing_year)[T.2015]</th> <td>   -1.5842</td> <td>    0.150</td> <td>  -10.541</td> <td> 0.000</td> <td>   -1.879</td> <td>   -1.290</td>\n",
       "</tr>\n",
       "<tr>\n",
       "  <th>C(filing_year)[T.2016]</th> <td>   -2.0349</td> <td>    0.150</td> <td>  -13.596</td> <td> 0.000</td> <td>   -2.328</td> <td>   -1.742</td>\n",
       "</tr>\n",
       "<tr>\n",
       "  <th>C(filing_year)[T.2017]</th> <td>   -2.1208</td> <td>    0.154</td> <td>  -13.783</td> <td> 0.000</td> <td>   -2.422</td> <td>   -1.819</td>\n",
       "</tr>\n",
       "<tr>\n",
       "  <th>C(filing_year)[T.2018]</th> <td>   -2.7628</td> <td>    0.165</td> <td>  -16.763</td> <td> 0.000</td> <td>   -3.086</td> <td>   -2.440</td>\n",
       "</tr>\n",
       "<tr>\n",
       "  <th>C(state_code)[T.4]</th>     <td>    2.4285</td> <td>    0.092</td> <td>   26.361</td> <td> 0.000</td> <td>    2.248</td> <td>    2.609</td>\n",
       "</tr>\n",
       "<tr>\n",
       "  <th>C(state_code)[T.10]</th>    <td>    1.6700</td> <td>    0.066</td> <td>   25.436</td> <td> 0.000</td> <td>    1.541</td> <td>    1.799</td>\n",
       "</tr>\n",
       "<tr>\n",
       "  <th>C(state_code)[T.13]</th>    <td>    3.5943</td> <td>    0.268</td> <td>   13.391</td> <td> 0.000</td> <td>    3.068</td> <td>    4.120</td>\n",
       "</tr>\n",
       "<tr>\n",
       "  <th>C(state_code)[T.17]</th>    <td>    5.6013</td> <td>    0.583</td> <td>    9.616</td> <td> 0.000</td> <td>    4.460</td> <td>    6.743</td>\n",
       "</tr>\n",
       "<tr>\n",
       "  <th>C(state_code)[T.18]</th>    <td>    1.6101</td> <td>    0.281</td> <td>    5.724</td> <td> 0.000</td> <td>    1.059</td> <td>    2.161</td>\n",
       "</tr>\n",
       "<tr>\n",
       "  <th>C(state_code)[T.29]</th>    <td>    1.6448</td> <td>    0.053</td> <td>   30.770</td> <td> 0.000</td> <td>    1.540</td> <td>    1.750</td>\n",
       "</tr>\n",
       "<tr>\n",
       "  <th>C(state_code)[T.999]</th>   <td>    2.8087</td> <td>    0.099</td> <td>   28.429</td> <td> 0.000</td> <td>    2.615</td> <td>    3.002</td>\n",
       "</tr>\n",
       "<tr>\n",
       "  <th>number_sections_ipc</th>    <td>    0.5335</td> <td>    0.017</td> <td>   30.493</td> <td> 0.000</td> <td>    0.499</td> <td>    0.568</td>\n",
       "</tr>\n",
       "</table>"
      ],
      "text/latex": [
       "\\begin{center}\n",
       "\\begin{tabular}{lclc}\n",
       "\\toprule\n",
       "\\textbf{Dep. Variable:}          &    acquitted     & \\textbf{  No. Observations:  } &    14880    \\\\\n",
       "\\textbf{Model:}                  &      Logit       & \\textbf{  Df Residuals:      } &    14861    \\\\\n",
       "\\textbf{Method:}                 &       MLE        & \\textbf{  Df Model:          } &       18    \\\\\n",
       "\\textbf{Date:}                   & Sun, 13 Apr 2025 & \\textbf{  Pseudo R-squ.:     } &   0.2409    \\\\\n",
       "\\textbf{Time:}                   &     05:15:46     & \\textbf{  Log-Likelihood:    } &   -7392.5   \\\\\n",
       "\\textbf{converged:}              &       True       & \\textbf{  LL-Null:           } &   -9739.0   \\\\\n",
       "\\textbf{Covariance Type:}        &    nonrobust     & \\textbf{  LLR p-value:       } &    0.000    \\\\\n",
       "\\bottomrule\n",
       "\\end{tabular}\n",
       "\\begin{tabular}{lcccccc}\n",
       "                                 & \\textbf{coef} & \\textbf{std err} & \\textbf{z} & \\textbf{P$> |$z$|$} & \\textbf{[0.025} & \\textbf{0.975]}  \\\\\n",
       "\\midrule\n",
       "\\textbf{Intercept}               &      -0.4832  &        0.152     &    -3.178  &         0.001        &       -0.781    &       -0.185     \\\\\n",
       "\\textbf{female\\_judge[T.1]}      &       0.1151  &        0.045     &     2.544  &         0.011        &        0.026    &        0.204     \\\\\n",
       "\\textbf{female\\_defendant[T.1]}  &       0.1891  &        0.052     &     3.610  &         0.000        &        0.086    &        0.292     \\\\\n",
       "\\textbf{C(filing\\_year)[T.2011]} &      -0.4579  &        0.172     &    -2.668  &         0.008        &       -0.794    &       -0.122     \\\\\n",
       "\\textbf{C(filing\\_year)[T.2012]} &      -0.5791  &        0.163     &    -3.556  &         0.000        &       -0.898    &       -0.260     \\\\\n",
       "\\textbf{C(filing\\_year)[T.2013]} &      -0.5945  &        0.157     &    -3.786  &         0.000        &       -0.902    &       -0.287     \\\\\n",
       "\\textbf{C(filing\\_year)[T.2014]} &      -1.2223  &        0.150     &    -8.156  &         0.000        &       -1.516    &       -0.929     \\\\\n",
       "\\textbf{C(filing\\_year)[T.2015]} &      -1.5842  &        0.150     &   -10.541  &         0.000        &       -1.879    &       -1.290     \\\\\n",
       "\\textbf{C(filing\\_year)[T.2016]} &      -2.0349  &        0.150     &   -13.596  &         0.000        &       -2.328    &       -1.742     \\\\\n",
       "\\textbf{C(filing\\_year)[T.2017]} &      -2.1208  &        0.154     &   -13.783  &         0.000        &       -2.422    &       -1.819     \\\\\n",
       "\\textbf{C(filing\\_year)[T.2018]} &      -2.7628  &        0.165     &   -16.763  &         0.000        &       -3.086    &       -2.440     \\\\\n",
       "\\textbf{C(state\\_code)[T.4]}     &       2.4285  &        0.092     &    26.361  &         0.000        &        2.248    &        2.609     \\\\\n",
       "\\textbf{C(state\\_code)[T.10]}    &       1.6700  &        0.066     &    25.436  &         0.000        &        1.541    &        1.799     \\\\\n",
       "\\textbf{C(state\\_code)[T.13]}    &       3.5943  &        0.268     &    13.391  &         0.000        &        3.068    &        4.120     \\\\\n",
       "\\textbf{C(state\\_code)[T.17]}    &       5.6013  &        0.583     &     9.616  &         0.000        &        4.460    &        6.743     \\\\\n",
       "\\textbf{C(state\\_code)[T.18]}    &       1.6101  &        0.281     &     5.724  &         0.000        &        1.059    &        2.161     \\\\\n",
       "\\textbf{C(state\\_code)[T.29]}    &       1.6448  &        0.053     &    30.770  &         0.000        &        1.540    &        1.750     \\\\\n",
       "\\textbf{C(state\\_code)[T.999]}   &       2.8087  &        0.099     &    28.429  &         0.000        &        2.615    &        3.002     \\\\\n",
       "\\textbf{number\\_sections\\_ipc}   &       0.5335  &        0.017     &    30.493  &         0.000        &        0.499    &        0.568     \\\\\n",
       "\\bottomrule\n",
       "\\end{tabular}\n",
       "%\\caption{Logit Regression Results}\n",
       "\\end{center}"
      ],
      "text/plain": [
       "<class 'statsmodels.iolib.summary.Summary'>\n",
       "\"\"\"\n",
       "                           Logit Regression Results                           \n",
       "==============================================================================\n",
       "Dep. Variable:              acquitted   No. Observations:                14880\n",
       "Model:                          Logit   Df Residuals:                    14861\n",
       "Method:                           MLE   Df Model:                           18\n",
       "Date:                Sun, 13 Apr 2025   Pseudo R-squ.:                  0.2409\n",
       "Time:                        05:15:46   Log-Likelihood:                -7392.5\n",
       "converged:                       True   LL-Null:                       -9739.0\n",
       "Covariance Type:            nonrobust   LLR p-value:                     0.000\n",
       "==========================================================================================\n",
       "                             coef    std err          z      P>|z|      [0.025      0.975]\n",
       "------------------------------------------------------------------------------------------\n",
       "Intercept                 -0.4832      0.152     -3.178      0.001      -0.781      -0.185\n",
       "female_judge[T.1]          0.1151      0.045      2.544      0.011       0.026       0.204\n",
       "female_defendant[T.1]      0.1891      0.052      3.610      0.000       0.086       0.292\n",
       "C(filing_year)[T.2011]    -0.4579      0.172     -2.668      0.008      -0.794      -0.122\n",
       "C(filing_year)[T.2012]    -0.5791      0.163     -3.556      0.000      -0.898      -0.260\n",
       "C(filing_year)[T.2013]    -0.5945      0.157     -3.786      0.000      -0.902      -0.287\n",
       "C(filing_year)[T.2014]    -1.2223      0.150     -8.156      0.000      -1.516      -0.929\n",
       "C(filing_year)[T.2015]    -1.5842      0.150    -10.541      0.000      -1.879      -1.290\n",
       "C(filing_year)[T.2016]    -2.0349      0.150    -13.596      0.000      -2.328      -1.742\n",
       "C(filing_year)[T.2017]    -2.1208      0.154    -13.783      0.000      -2.422      -1.819\n",
       "C(filing_year)[T.2018]    -2.7628      0.165    -16.763      0.000      -3.086      -2.440\n",
       "C(state_code)[T.4]         2.4285      0.092     26.361      0.000       2.248       2.609\n",
       "C(state_code)[T.10]        1.6700      0.066     25.436      0.000       1.541       1.799\n",
       "C(state_code)[T.13]        3.5943      0.268     13.391      0.000       3.068       4.120\n",
       "C(state_code)[T.17]        5.6013      0.583      9.616      0.000       4.460       6.743\n",
       "C(state_code)[T.18]        1.6101      0.281      5.724      0.000       1.059       2.161\n",
       "C(state_code)[T.29]        1.6448      0.053     30.770      0.000       1.540       1.750\n",
       "C(state_code)[T.999]       2.8087      0.099     28.429      0.000       2.615       3.002\n",
       "number_sections_ipc        0.5335      0.017     30.493      0.000       0.499       0.568\n",
       "==========================================================================================\n",
       "\"\"\""
      ]
     },
     "execution_count": 66,
     "metadata": {},
     "output_type": "execute_result"
    }
   ],
   "source": [
    "model = smf.logit(\n",
    "    'acquitted ~ female_judge + female_defendant + C(filing_year) + C(state_code) + number_sections_ipc',\n",
    "    data=analysis_df_clean\n",
    ").fit(maxiter=100)\n",
    "model.summary()"
   ]
  },
  {
   "cell_type": "code",
   "execution_count": 67,
   "metadata": {},
   "outputs": [
    {
     "ename": "PatsyError",
     "evalue": "Error evaluating factor: NameError: name 'crime_type' is not defined\n    acquitted ~ female_judge * female_defendant + female_judge * C(crime_type) + female_defendant * number_sections_ipc\n                                                                 ^^^^^^^^^^^^^",
     "output_type": "error",
     "traceback": [
      "\u001b[31m---------------------------------------------------------------------------\u001b[39m",
      "\u001b[31mNameError\u001b[39m                                 Traceback (most recent call last)",
      "\u001b[36mFile \u001b[39m\u001b[32m/usr/lib/python3.13/site-packages/patsy/compat.py:40\u001b[39m, in \u001b[36mcall_and_wrap_exc\u001b[39m\u001b[34m(msg, origin, f, *args, **kwargs)\u001b[39m\n\u001b[32m     39\u001b[39m \u001b[38;5;28;01mtry\u001b[39;00m:\n\u001b[32m---> \u001b[39m\u001b[32m40\u001b[39m     \u001b[38;5;28;01mreturn\u001b[39;00m \u001b[43mf\u001b[49m\u001b[43m(\u001b[49m\u001b[43m*\u001b[49m\u001b[43margs\u001b[49m\u001b[43m,\u001b[49m\u001b[43m \u001b[49m\u001b[43m*\u001b[49m\u001b[43m*\u001b[49m\u001b[43mkwargs\u001b[49m\u001b[43m)\u001b[49m\n\u001b[32m     41\u001b[39m \u001b[38;5;28;01mexcept\u001b[39;00m \u001b[38;5;167;01mException\u001b[39;00m \u001b[38;5;28;01mas\u001b[39;00m e:\n",
      "\u001b[36mFile \u001b[39m\u001b[32m/usr/lib/python3.13/site-packages/patsy/eval.py:179\u001b[39m, in \u001b[36mEvalEnvironment.eval\u001b[39m\u001b[34m(self, expr, source_name, inner_namespace)\u001b[39m\n\u001b[32m    178\u001b[39m code = \u001b[38;5;28mcompile\u001b[39m(expr, source_name, \u001b[33m\"\u001b[39m\u001b[33meval\u001b[39m\u001b[33m\"\u001b[39m, \u001b[38;5;28mself\u001b[39m.flags, \u001b[38;5;28;01mFalse\u001b[39;00m)\n\u001b[32m--> \u001b[39m\u001b[32m179\u001b[39m \u001b[38;5;28;01mreturn\u001b[39;00m \u001b[38;5;28;43meval\u001b[39;49m\u001b[43m(\u001b[49m\u001b[43mcode\u001b[49m\u001b[43m,\u001b[49m\u001b[43m \u001b[49m\u001b[43m{\u001b[49m\u001b[43m}\u001b[49m\u001b[43m,\u001b[49m\u001b[43m \u001b[49m\u001b[43mVarLookupDict\u001b[49m\u001b[43m(\u001b[49m\u001b[43m[\u001b[49m\u001b[43minner_namespace\u001b[49m\u001b[43m]\u001b[49m\u001b[43m \u001b[49m\u001b[43m+\u001b[49m\u001b[43m \u001b[49m\u001b[38;5;28;43mself\u001b[39;49m\u001b[43m.\u001b[49m\u001b[43m_namespaces\u001b[49m\u001b[43m)\u001b[49m\u001b[43m)\u001b[49m\n",
      "\u001b[36mFile \u001b[39m\u001b[32m<string>:1\u001b[39m\n",
      "\u001b[31mNameError\u001b[39m: name 'crime_type' is not defined",
      "\nThe above exception was the direct cause of the following exception:\n",
      "\u001b[31mPatsyError\u001b[39m                                Traceback (most recent call last)",
      "\u001b[36mCell\u001b[39m\u001b[36m \u001b[39m\u001b[32mIn[67]\u001b[39m\u001b[32m, line 1\u001b[39m\n\u001b[32m----> \u001b[39m\u001b[32m1\u001b[39m model = \u001b[43msmf\u001b[49m\u001b[43m.\u001b[49m\u001b[43mlogit\u001b[49m\u001b[43m(\u001b[49m\n\u001b[32m      2\u001b[39m \u001b[43m    \u001b[49m\u001b[33;43m'\u001b[39;49m\u001b[33;43macquitted ~ female_judge * female_defendant + female_judge * C(crime_type) + female_defendant * number_sections_ipc\u001b[39;49m\u001b[33;43m'\u001b[39;49m\u001b[43m,\u001b[49m\n\u001b[32m      3\u001b[39m \u001b[43m    \u001b[49m\u001b[43mdata\u001b[49m\u001b[43m=\u001b[49m\u001b[43manalysis_df_clean\u001b[49m\n\u001b[32m      4\u001b[39m \u001b[43m)\u001b[49m.fit()\n\u001b[32m      5\u001b[39m model.summary()\n",
      "\u001b[36mFile \u001b[39m\u001b[32m/usr/lib/python3.13/site-packages/statsmodels/base/model.py:203\u001b[39m, in \u001b[36mModel.from_formula\u001b[39m\u001b[34m(cls, formula, data, subset, drop_cols, *args, **kwargs)\u001b[39m\n\u001b[32m    200\u001b[39m \u001b[38;5;28;01mif\u001b[39;00m missing == \u001b[33m'\u001b[39m\u001b[33mnone\u001b[39m\u001b[33m'\u001b[39m:  \u001b[38;5;66;03m# with patsy it's drop or raise. let's raise.\u001b[39;00m\n\u001b[32m    201\u001b[39m     missing = \u001b[33m'\u001b[39m\u001b[33mraise\u001b[39m\u001b[33m'\u001b[39m\n\u001b[32m--> \u001b[39m\u001b[32m203\u001b[39m tmp = \u001b[43mhandle_formula_data\u001b[49m\u001b[43m(\u001b[49m\u001b[43mdata\u001b[49m\u001b[43m,\u001b[49m\u001b[43m \u001b[49m\u001b[38;5;28;43;01mNone\u001b[39;49;00m\u001b[43m,\u001b[49m\u001b[43m \u001b[49m\u001b[43mformula\u001b[49m\u001b[43m,\u001b[49m\u001b[43m \u001b[49m\u001b[43mdepth\u001b[49m\u001b[43m=\u001b[49m\u001b[43meval_env\u001b[49m\u001b[43m,\u001b[49m\n\u001b[32m    204\u001b[39m \u001b[43m                          \u001b[49m\u001b[43mmissing\u001b[49m\u001b[43m=\u001b[49m\u001b[43mmissing\u001b[49m\u001b[43m)\u001b[49m\n\u001b[32m    205\u001b[39m ((endog, exog), missing_idx, design_info) = tmp\n\u001b[32m    206\u001b[39m max_endog = \u001b[38;5;28mcls\u001b[39m._formula_max_endog\n",
      "\u001b[36mFile \u001b[39m\u001b[32m/usr/lib/python3.13/site-packages/statsmodels/formula/formulatools.py:63\u001b[39m, in \u001b[36mhandle_formula_data\u001b[39m\u001b[34m(Y, X, formula, depth, missing)\u001b[39m\n\u001b[32m     61\u001b[39m \u001b[38;5;28;01melse\u001b[39;00m:\n\u001b[32m     62\u001b[39m     \u001b[38;5;28;01mif\u001b[39;00m data_util._is_using_pandas(Y, \u001b[38;5;28;01mNone\u001b[39;00m):\n\u001b[32m---> \u001b[39m\u001b[32m63\u001b[39m         result = \u001b[43mdmatrices\u001b[49m\u001b[43m(\u001b[49m\u001b[43mformula\u001b[49m\u001b[43m,\u001b[49m\u001b[43m \u001b[49m\u001b[43mY\u001b[49m\u001b[43m,\u001b[49m\u001b[43m \u001b[49m\u001b[43mdepth\u001b[49m\u001b[43m,\u001b[49m\u001b[43m \u001b[49m\u001b[43mreturn_type\u001b[49m\u001b[43m=\u001b[49m\u001b[33;43m'\u001b[39;49m\u001b[33;43mdataframe\u001b[39;49m\u001b[33;43m'\u001b[39;49m\u001b[43m,\u001b[49m\n\u001b[32m     64\u001b[39m \u001b[43m                           \u001b[49m\u001b[43mNA_action\u001b[49m\u001b[43m=\u001b[49m\u001b[43mna_action\u001b[49m\u001b[43m)\u001b[49m\n\u001b[32m     65\u001b[39m     \u001b[38;5;28;01melse\u001b[39;00m:\n\u001b[32m     66\u001b[39m         result = dmatrices(formula, Y, depth, return_type=\u001b[33m'\u001b[39m\u001b[33mdataframe\u001b[39m\u001b[33m'\u001b[39m,\n\u001b[32m     67\u001b[39m                            NA_action=na_action)\n",
      "\u001b[36mFile \u001b[39m\u001b[32m/usr/lib/python3.13/site-packages/patsy/highlevel.py:319\u001b[39m, in \u001b[36mdmatrices\u001b[39m\u001b[34m(formula_like, data, eval_env, NA_action, return_type)\u001b[39m\n\u001b[32m    309\u001b[39m \u001b[38;5;250m\u001b[39m\u001b[33;03m\"\"\"Construct two design matrices given a formula_like and data.\u001b[39;00m\n\u001b[32m    310\u001b[39m \n\u001b[32m    311\u001b[39m \u001b[33;03mThis function is identical to :func:`dmatrix`, except that it requires\u001b[39;00m\n\u001b[32m   (...)\u001b[39m\u001b[32m    316\u001b[39m \u001b[33;03mSee :func:`dmatrix` for details.\u001b[39;00m\n\u001b[32m    317\u001b[39m \u001b[33;03m\"\"\"\u001b[39;00m\n\u001b[32m    318\u001b[39m eval_env = EvalEnvironment.capture(eval_env, reference=\u001b[32m1\u001b[39m)\n\u001b[32m--> \u001b[39m\u001b[32m319\u001b[39m (lhs, rhs) = \u001b[43m_do_highlevel_design\u001b[49m\u001b[43m(\u001b[49m\n\u001b[32m    320\u001b[39m \u001b[43m    \u001b[49m\u001b[43mformula_like\u001b[49m\u001b[43m,\u001b[49m\u001b[43m \u001b[49m\u001b[43mdata\u001b[49m\u001b[43m,\u001b[49m\u001b[43m \u001b[49m\u001b[43meval_env\u001b[49m\u001b[43m,\u001b[49m\u001b[43m \u001b[49m\u001b[43mNA_action\u001b[49m\u001b[43m,\u001b[49m\u001b[43m \u001b[49m\u001b[43mreturn_type\u001b[49m\n\u001b[32m    321\u001b[39m \u001b[43m\u001b[49m\u001b[43m)\u001b[49m\n\u001b[32m    322\u001b[39m \u001b[38;5;28;01mif\u001b[39;00m lhs.shape[\u001b[32m1\u001b[39m] == \u001b[32m0\u001b[39m:\n\u001b[32m    323\u001b[39m     \u001b[38;5;28;01mraise\u001b[39;00m PatsyError(\u001b[33m\"\u001b[39m\u001b[33mmodel is missing required outcome variables\u001b[39m\u001b[33m\"\u001b[39m)\n",
      "\u001b[36mFile \u001b[39m\u001b[32m/usr/lib/python3.13/site-packages/patsy/highlevel.py:164\u001b[39m, in \u001b[36m_do_highlevel_design\u001b[39m\u001b[34m(formula_like, data, eval_env, NA_action, return_type)\u001b[39m\n\u001b[32m    161\u001b[39m \u001b[38;5;28;01mdef\u001b[39;00m\u001b[38;5;250m \u001b[39m\u001b[34mdata_iter_maker\u001b[39m():\n\u001b[32m    162\u001b[39m     \u001b[38;5;28;01mreturn\u001b[39;00m \u001b[38;5;28miter\u001b[39m([data])\n\u001b[32m--> \u001b[39m\u001b[32m164\u001b[39m design_infos = \u001b[43m_try_incr_builders\u001b[49m\u001b[43m(\u001b[49m\n\u001b[32m    165\u001b[39m \u001b[43m    \u001b[49m\u001b[43mformula_like\u001b[49m\u001b[43m,\u001b[49m\u001b[43m \u001b[49m\u001b[43mdata_iter_maker\u001b[49m\u001b[43m,\u001b[49m\u001b[43m \u001b[49m\u001b[43meval_env\u001b[49m\u001b[43m,\u001b[49m\u001b[43m \u001b[49m\u001b[43mNA_action\u001b[49m\n\u001b[32m    166\u001b[39m \u001b[43m\u001b[49m\u001b[43m)\u001b[49m\n\u001b[32m    167\u001b[39m \u001b[38;5;28;01mif\u001b[39;00m design_infos \u001b[38;5;129;01mis\u001b[39;00m \u001b[38;5;129;01mnot\u001b[39;00m \u001b[38;5;28;01mNone\u001b[39;00m:\n\u001b[32m    168\u001b[39m     \u001b[38;5;28;01mreturn\u001b[39;00m build_design_matrices(\n\u001b[32m    169\u001b[39m         design_infos, data, NA_action=NA_action, return_type=return_type\n\u001b[32m    170\u001b[39m     )\n",
      "\u001b[36mFile \u001b[39m\u001b[32m/usr/lib/python3.13/site-packages/patsy/highlevel.py:56\u001b[39m, in \u001b[36m_try_incr_builders\u001b[39m\u001b[34m(formula_like, data_iter_maker, eval_env, NA_action)\u001b[39m\n\u001b[32m     54\u001b[39m \u001b[38;5;28;01mif\u001b[39;00m \u001b[38;5;28misinstance\u001b[39m(formula_like, ModelDesc):\n\u001b[32m     55\u001b[39m     \u001b[38;5;28;01massert\u001b[39;00m \u001b[38;5;28misinstance\u001b[39m(eval_env, EvalEnvironment)\n\u001b[32m---> \u001b[39m\u001b[32m56\u001b[39m     \u001b[38;5;28;01mreturn\u001b[39;00m \u001b[43mdesign_matrix_builders\u001b[49m\u001b[43m(\u001b[49m\n\u001b[32m     57\u001b[39m \u001b[43m        \u001b[49m\u001b[43m[\u001b[49m\u001b[43mformula_like\u001b[49m\u001b[43m.\u001b[49m\u001b[43mlhs_termlist\u001b[49m\u001b[43m,\u001b[49m\u001b[43m \u001b[49m\u001b[43mformula_like\u001b[49m\u001b[43m.\u001b[49m\u001b[43mrhs_termlist\u001b[49m\u001b[43m]\u001b[49m\u001b[43m,\u001b[49m\n\u001b[32m     58\u001b[39m \u001b[43m        \u001b[49m\u001b[43mdata_iter_maker\u001b[49m\u001b[43m,\u001b[49m\n\u001b[32m     59\u001b[39m \u001b[43m        \u001b[49m\u001b[43meval_env\u001b[49m\u001b[43m,\u001b[49m\n\u001b[32m     60\u001b[39m \u001b[43m        \u001b[49m\u001b[43mNA_action\u001b[49m\u001b[43m,\u001b[49m\n\u001b[32m     61\u001b[39m \u001b[43m    \u001b[49m\u001b[43m)\u001b[49m\n\u001b[32m     62\u001b[39m \u001b[38;5;28;01melse\u001b[39;00m:\n\u001b[32m     63\u001b[39m     \u001b[38;5;28;01mreturn\u001b[39;00m \u001b[38;5;28;01mNone\u001b[39;00m\n",
      "\u001b[36mFile \u001b[39m\u001b[32m/usr/lib/python3.13/site-packages/patsy/build.py:746\u001b[39m, in \u001b[36mdesign_matrix_builders\u001b[39m\u001b[34m(termlists, data_iter_maker, eval_env, NA_action)\u001b[39m\n\u001b[32m    743\u001b[39m factor_states = _factors_memorize(all_factors, data_iter_maker, eval_env)\n\u001b[32m    744\u001b[39m \u001b[38;5;66;03m# Now all the factors have working eval methods, so we can evaluate them\u001b[39;00m\n\u001b[32m    745\u001b[39m \u001b[38;5;66;03m# on some data to find out what type of data they return.\u001b[39;00m\n\u001b[32m--> \u001b[39m\u001b[32m746\u001b[39m (num_column_counts, cat_levels_contrasts) = \u001b[43m_examine_factor_types\u001b[49m\u001b[43m(\u001b[49m\n\u001b[32m    747\u001b[39m \u001b[43m    \u001b[49m\u001b[43mall_factors\u001b[49m\u001b[43m,\u001b[49m\u001b[43m \u001b[49m\u001b[43mfactor_states\u001b[49m\u001b[43m,\u001b[49m\u001b[43m \u001b[49m\u001b[43mdata_iter_maker\u001b[49m\u001b[43m,\u001b[49m\u001b[43m \u001b[49m\u001b[43mNA_action\u001b[49m\n\u001b[32m    748\u001b[39m \u001b[43m\u001b[49m\u001b[43m)\u001b[49m\n\u001b[32m    749\u001b[39m \u001b[38;5;66;03m# Now we need the factor infos, which encapsulate the knowledge of\u001b[39;00m\n\u001b[32m    750\u001b[39m \u001b[38;5;66;03m# how to turn any given factor into a chunk of data:\u001b[39;00m\n\u001b[32m    751\u001b[39m factor_infos = {}\n",
      "\u001b[36mFile \u001b[39m\u001b[32m/usr/lib/python3.13/site-packages/patsy/build.py:491\u001b[39m, in \u001b[36m_examine_factor_types\u001b[39m\u001b[34m(factors, factor_states, data_iter_maker, NA_action)\u001b[39m\n\u001b[32m    489\u001b[39m \u001b[38;5;28;01mfor\u001b[39;00m data \u001b[38;5;129;01min\u001b[39;00m data_iter_maker():\n\u001b[32m    490\u001b[39m     \u001b[38;5;28;01mfor\u001b[39;00m factor \u001b[38;5;129;01min\u001b[39;00m \u001b[38;5;28mlist\u001b[39m(examine_needed):\n\u001b[32m--> \u001b[39m\u001b[32m491\u001b[39m         value = \u001b[43mfactor\u001b[49m\u001b[43m.\u001b[49m\u001b[43meval\u001b[49m\u001b[43m(\u001b[49m\u001b[43mfactor_states\u001b[49m\u001b[43m[\u001b[49m\u001b[43mfactor\u001b[49m\u001b[43m]\u001b[49m\u001b[43m,\u001b[49m\u001b[43m \u001b[49m\u001b[43mdata\u001b[49m\u001b[43m)\u001b[49m\n\u001b[32m    492\u001b[39m         \u001b[38;5;28;01mif\u001b[39;00m factor \u001b[38;5;129;01min\u001b[39;00m cat_sniffers \u001b[38;5;129;01mor\u001b[39;00m guess_categorical(value):\n\u001b[32m    493\u001b[39m             \u001b[38;5;28;01mif\u001b[39;00m factor \u001b[38;5;129;01mnot\u001b[39;00m \u001b[38;5;129;01min\u001b[39;00m cat_sniffers:\n",
      "\u001b[36mFile \u001b[39m\u001b[32m/usr/lib/python3.13/site-packages/patsy/eval.py:599\u001b[39m, in \u001b[36mEvalFactor.eval\u001b[39m\u001b[34m(self, memorize_state, data)\u001b[39m\n\u001b[32m    598\u001b[39m \u001b[38;5;28;01mdef\u001b[39;00m\u001b[38;5;250m \u001b[39m\u001b[34meval\u001b[39m(\u001b[38;5;28mself\u001b[39m, memorize_state, data):\n\u001b[32m--> \u001b[39m\u001b[32m599\u001b[39m     \u001b[38;5;28;01mreturn\u001b[39;00m \u001b[38;5;28;43mself\u001b[39;49m\u001b[43m.\u001b[49m\u001b[43m_eval\u001b[49m\u001b[43m(\u001b[49m\u001b[43mmemorize_state\u001b[49m\u001b[43m[\u001b[49m\u001b[33;43m\"\u001b[39;49m\u001b[33;43meval_code\u001b[39;49m\u001b[33;43m\"\u001b[39;49m\u001b[43m]\u001b[49m\u001b[43m,\u001b[49m\u001b[43m \u001b[49m\u001b[43mmemorize_state\u001b[49m\u001b[43m,\u001b[49m\u001b[43m \u001b[49m\u001b[43mdata\u001b[49m\u001b[43m)\u001b[49m\n",
      "\u001b[36mFile \u001b[39m\u001b[32m/usr/lib/python3.13/site-packages/patsy/eval.py:582\u001b[39m, in \u001b[36mEvalFactor._eval\u001b[39m\u001b[34m(self, code, memorize_state, data)\u001b[39m\n\u001b[32m    580\u001b[39m \u001b[38;5;28;01mdef\u001b[39;00m\u001b[38;5;250m \u001b[39m\u001b[34m_eval\u001b[39m(\u001b[38;5;28mself\u001b[39m, code, memorize_state, data):\n\u001b[32m    581\u001b[39m     inner_namespace = VarLookupDict([data, memorize_state[\u001b[33m\"\u001b[39m\u001b[33mtransforms\u001b[39m\u001b[33m\"\u001b[39m]])\n\u001b[32m--> \u001b[39m\u001b[32m582\u001b[39m     \u001b[38;5;28;01mreturn\u001b[39;00m \u001b[43mcall_and_wrap_exc\u001b[49m\u001b[43m(\u001b[49m\n\u001b[32m    583\u001b[39m \u001b[43m        \u001b[49m\u001b[33;43m\"\u001b[39;49m\u001b[33;43mError evaluating factor\u001b[39;49m\u001b[33;43m\"\u001b[39;49m\u001b[43m,\u001b[49m\n\u001b[32m    584\u001b[39m \u001b[43m        \u001b[49m\u001b[38;5;28;43mself\u001b[39;49m\u001b[43m,\u001b[49m\n\u001b[32m    585\u001b[39m \u001b[43m        \u001b[49m\u001b[43mmemorize_state\u001b[49m\u001b[43m[\u001b[49m\u001b[33;43m\"\u001b[39;49m\u001b[33;43meval_env\u001b[39;49m\u001b[33;43m\"\u001b[39;49m\u001b[43m]\u001b[49m\u001b[43m.\u001b[49m\u001b[43meval\u001b[49m\u001b[43m,\u001b[49m\n\u001b[32m    586\u001b[39m \u001b[43m        \u001b[49m\u001b[43mcode\u001b[49m\u001b[43m,\u001b[49m\n\u001b[32m    587\u001b[39m \u001b[43m        \u001b[49m\u001b[43minner_namespace\u001b[49m\u001b[43m=\u001b[49m\u001b[43minner_namespace\u001b[49m\u001b[43m,\u001b[49m\n\u001b[32m    588\u001b[39m \u001b[43m    \u001b[49m\u001b[43m)\u001b[49m\n",
      "\u001b[36mFile \u001b[39m\u001b[32m/usr/lib/python3.13/site-packages/patsy/compat.py:43\u001b[39m, in \u001b[36mcall_and_wrap_exc\u001b[39m\u001b[34m(msg, origin, f, *args, **kwargs)\u001b[39m\n\u001b[32m     41\u001b[39m \u001b[38;5;28;01mexcept\u001b[39;00m \u001b[38;5;167;01mException\u001b[39;00m \u001b[38;5;28;01mas\u001b[39;00m e:\n\u001b[32m     42\u001b[39m     new_exc = PatsyError(\u001b[33m\"\u001b[39m\u001b[38;5;132;01m%s\u001b[39;00m\u001b[33m: \u001b[39m\u001b[38;5;132;01m%s\u001b[39;00m\u001b[33m: \u001b[39m\u001b[38;5;132;01m%s\u001b[39;00m\u001b[33m\"\u001b[39m % (msg, e.\u001b[34m__class__\u001b[39m.\u001b[34m__name__\u001b[39m, e), origin)\n\u001b[32m---> \u001b[39m\u001b[32m43\u001b[39m     \u001b[38;5;28;01mraise\u001b[39;00m new_exc \u001b[38;5;28;01mfrom\u001b[39;00m\u001b[38;5;250m \u001b[39m\u001b[34;01me\u001b[39;00m\n",
      "\u001b[31mPatsyError\u001b[39m: Error evaluating factor: NameError: name 'crime_type' is not defined\n    acquitted ~ female_judge * female_defendant + female_judge * C(crime_type) + female_defendant * number_sections_ipc\n                                                                 ^^^^^^^^^^^^^"
     ]
    }
   ],
   "source": [
    "model = smf.logit(\n",
    "    'acquitted ~ female_judge * female_defendant + female_judge * C(crime_type) + female_defendant * number_sections_ipc',\n",
    "    data=analysis_df_clean\n",
    ").fit()\n",
    "model.summary()"
   ]
  }
 ],
 "metadata": {
  "kernelspec": {
   "display_name": "Python 3",
   "language": "python",
   "name": "python3"
  },
  "language_info": {
   "codemirror_mode": {
    "name": "ipython",
    "version": 3
   },
   "file_extension": ".py",
   "mimetype": "text/x-python",
   "name": "python",
   "nbconvert_exporter": "python",
   "pygments_lexer": "ipython3",
   "version": "3.13.2"
  }
 },
 "nbformat": 4,
 "nbformat_minor": 2
}
