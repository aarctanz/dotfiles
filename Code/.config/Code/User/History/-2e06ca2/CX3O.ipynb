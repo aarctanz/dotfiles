{
 "cells": [
  {
   "cell_type": "code",
   "execution_count": 2,
   "id": "1de02648-ad5e-45c9-b706-e888312ecfcc",
   "metadata": {},
   "outputs": [],
   "source": [
    "import numpy as np\n",
    "import pandas as pd\n",
    "import matplotlib.pyplot as plt\n",
    "import seaborn as sns"
   ]
  },
  {
   "cell_type": "code",
   "execution_count": 5,
   "id": "f362a289-6114-424f-8143-2031dca3d68e",
   "metadata": {},
   "outputs": [
    {
     "name": "stdout",
     "output_type": "stream",
     "text": [
      "(array([ 5, 13, 42, 52, 27, 29, 20,  6,  3,  3]), array([ 23.80254896,  32.50254781,  41.20254667,  49.90254552,\n",
      "        58.60254437,  67.30254323,  76.00254208,  84.70254094,\n",
      "        93.40253979, 102.10253864, 110.8025375 ]))\n",
      "   Feature_1  Feature_2  Class\n",
      "0  54.967142  31.788937      0\n",
      "1  48.617357  32.803923      0\n",
      "2  56.476885  35.415256      0\n",
      "3  65.230299  35.269010      0\n",
      "4  47.658466  23.111653      0\n"
     ]
    }
   ],
   "source": [
    "np.random.seed(42)\n",
    "\n",
    "feature_1_class_0 = np.random.normal(loc=50, scale=10, size=100)  \n",
    "feature_1_class_1 = np.random.normal(loc=70, scale=15, size=100)  \n",
    "feature_2_class_0 = np.random.normal(loc=30, scale=5, size=100)  \n",
    "feature_2_class_1 = np.random.normal(loc=40, scale=7, size=100)  \n",
    "\n",
    "\n",
    "feature_1 = np.concatenate([feature_1_class_0, feature_1_class_1])\n",
    "feature_2 = np.concatenate([feature_2_class_0, feature_2_class_1])\n",
    "classes = np.array([0] * 100 + [1] * 100)  # Class labels (0 or 1)\n",
    "\n",
    "print(np.histogram(feature_1, bins=10))\n",
    "\n",
    "df = pd.DataFrame({'Feature_1': feature_1, 'Feature_2': feature_2, 'Class': classes})\n",
    "\n",
    "print(df.head())"
   ]
  },
  {
   "cell_type": "code",
   "execution_count": 11,
   "id": "78cdb1c7-0d5c-4641-b2a4-419791718371",
   "metadata": {},
   "outputs": [
    {
     "ename": "AttributeError",
     "evalue": "'numpy.ndarray' object has no attribute 'hist'",
     "output_type": "error",
     "traceback": [
      "\u001b[0;31m---------------------------------------------------------------------------\u001b[0m",
      "\u001b[0;31mAttributeError\u001b[0m                            Traceback (most recent call last)",
      "Cell \u001b[0;32mIn[11], line 5\u001b[0m\n\u001b[1;32m      1\u001b[0m \u001b[38;5;66;03m# fig, ax = plt.subplots()\u001b[39;00m\n\u001b[1;32m      2\u001b[0m \u001b[38;5;66;03m# ax.hist(feature_1, bins=10, edgecolor=\"black\")\u001b[39;00m\n\u001b[1;32m      4\u001b[0m plt\u001b[38;5;241m.\u001b[39mhist(feature_1, bins\u001b[38;5;241m=\u001b[39m\u001b[38;5;241m10\u001b[39m)\n\u001b[0;32m----> 5\u001b[0m plt\u001b[38;5;241m.\u001b[39mxticks(\u001b[43mfeature_1\u001b[49m\u001b[38;5;241;43m.\u001b[39;49m\u001b[43mhist\u001b[49m[\u001b[38;5;241m1\u001b[39m]\u001b[38;5;241m.\u001b[39mround(\u001b[38;5;241m1\u001b[39m))\n",
      "\u001b[0;31mAttributeError\u001b[0m: 'numpy.ndarray' object has no attribute 'hist'"
     ]
    },
    {
     "data": {
      "image/png": "[encoded data removed]",
      "text/plain": [
       "<Figure size 640x480 with 1 Axes>"
      ]
     },
     "metadata": {},
     "output_type": "display_data"
    }
   ],
   "source": [
    "# fig, ax = plt.subplots()\n",
    "# ax.hist(feature_1, bins=10, edgecolor=\"black\")\n",
    "\n",
    "plt.hist(feature_1, bins=10)\n",
    "plt.xticks(feature_1.hi[1].round(1))"
   ]
  }
 ],
 "metadata": {
  "kernelspec": {
   "display_name": "Python 3",
   "language": "python",
   "name": "python3"
  },
  "language_info": {
   "codemirror_mode": {
    "name": "ipython",
    "version": 3
   },
   "file_extension": ".py",
   "mimetype": "text/x-python",
   "name": "python",
   "nbconvert_exporter": "python",
   "pygments_lexer": "ipython3",
   "version": "3.13.1"
  }
 },
 "nbformat": 4,
 "nbformat_minor": 5
}
