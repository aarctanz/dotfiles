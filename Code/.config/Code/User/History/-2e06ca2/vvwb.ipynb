{
 "cells": [
  {
   "cell_type": "code",
   "execution_count": 2,
   "id": "1de02648-ad5e-45c9-b706-e888312ecfcc",
   "metadata": {},
   "outputs": [],
   "source": [
    "import numpy as np\n",
    "import pandas as pd\n",
    "import matplotlib.pyplot as plt\n",
    "import seaborn as sns"
   ]
  },
  {
   "cell_type": "code",
   "execution_count": 5,
   "id": "f362a289-6114-424f-8143-2031dca3d68e",
   "metadata": {},
   "outputs": [
    {
     "name": "stdout",
     "output_type": "stream",
     "text": [
      "(array([ 5, 13, 42, 52, 27, 29, 20,  6,  3,  3]), array([ 23.80254896,  32.50254781,  41.20254667,  49.90254552,\n",
      "        58.60254437,  67.30254323,  76.00254208,  84.70254094,\n",
      "        93.40253979, 102.10253864, 110.8025375 ]))\n",
      "   Feature_1  Feature_2  Class\n",
      "0  54.967142  31.788937      0\n",
      "1  48.617357  32.803923      0\n",
      "2  56.476885  35.415256      0\n",
      "3  65.230299  35.269010      0\n",
      "4  47.658466  23.111653      0\n"
     ]
    }
   ],
   "source": [
    "np.random.seed(42)\n",
    "\n",
    "feature_1_class_0 = np.random.normal(loc=50, scale=10, size=100)  \n",
    "feature_1_class_1 = np.random.normal(loc=70, scale=15, size=100)  \n",
    "feature_2_class_0 = np.random.normal(loc=30, scale=5, size=100)  \n",
    "feature_2_class_1 = np.random.normal(loc=40, scale=7, size=100)  \n",
    "\n",
    "\n",
    "feature_1 = np.concatenate([feature_1_class_0, feature_1_class_1])\n",
    "feature_2 = np.concatenate([feature_2_class_0, feature_2_class_1])\n",
    "classes = np.array([0] * 100 + [1] * 100)  # Class labels (0 or 1)\n",
    "\n",
    "print(np.histogram(feature_1, bins=10))\n",
    "\n",
    "df = pd.DataFrame({'Feature_1': feature_1, 'Feature_2': feature_2, 'Class': classes})\n",
    "\n",
    "print(df.head())"
   ]
  },
  {
   "cell_type": "code",
   "execution_count": 12,
   "id": "78cdb1c7-0d5c-4641-b2a4-419791718371",
   "metadata": {},
   "outputs": [
    {
     "data": {
      "text/plain": [
       "([<matplotlib.axis.XTick at 0x785cd3f00690>,\n",
       "  <matplotlib.axis.XTick at 0x785cd3f03750>,\n",
       "  <matplotlib.axis.XTick at 0x785cd3f03ed0>,\n",
       "  <matplotlib.axis.XTick at 0x785cd3f34690>,\n",
       "  <matplotlib.axis.XTick at 0x785cd3f34e10>,\n",
       "  <matplotlib.axis.XTick at 0x785cd3f35590>,\n",
       "  <matplotlib.axis.XTick at 0x785cd3f35d10>,\n",
       "  <matplotlib.axis.XTick at 0x785cd3f36490>,\n",
       "  <matplotlib.axis.XTick at 0x785cd3f36c10>,\n",
       "  <matplotlib.axis.XTick at 0x785cd3f37390>,\n",
       "  <matplotlib.axis.XTick at 0x785cd3f37b10>],\n",
       " [Text(23.8, 0, '23.8'),\n",
       "  Text(32.5, 0, '32.5'),\n",
       "  Text(41.2, 0, '41.2'),\n",
       "  Text(49.9, 0, '49.9'),\n",
       "  Text(58.6, 0, '58.6'),\n",
       "  Text(67.3, 0, '67.3'),\n",
       "  Text(76.0, 0, '76.0'),\n",
       "  Text(84.7, 0, '84.7'),\n",
       "  Text(93.4, 0, '93.4'),\n",
       "  Text(102.1, 0, '102.1'),\n",
       "  Text(110.8, 0, '110.8')])"
      ]
     },
     "execution_count": 12,
     "metadata": {},
     "output_type": "execute_result"
    },
    {
     "data": {
      "image/png": "[encoded data removed]",
      "text/plain": [
       "<Figure size 640x480 with 1 Axes>"
      ]
     },
     "metadata": {},
     "output_type": "display_data"
    }
   ],
   "source": [
    "# fig, ax = plt.subplots()\n",
    "# ax.hist(feature_1, bins=10, edgecolor=\"black\")\n",
    "\n",
    "plt.hist(feature_1, bins=10)\n",
    "plt.xticks(np.histogram(feature_1, bins=10)[1].round(1))"
   ]
  }
 ],
 "metadata": {
  "kernelspec": {
   "display_name": "Python 3",
   "language": "python",
   "name": "python3"
  },
  "language_info": {
   "codemirror_mode": {
    "name": "ipython",
    "version": 3
   },
   "file_extension": ".py",
   "mimetype": "text/x-python",
   "name": "python",
   "nbconvert_exporter": "python",
   "pygments_lexer": "ipython3",
   "version": "3.13.1"
  }
 },
 "nbformat": 4,
 "nbformat_minor": 5
}
