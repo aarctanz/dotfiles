{
 "cells": [
  {
   "cell_type": "code",
   "execution_count": 51,
   "metadata": {},
   "outputs": [],
   "source": [
    "import statsmodels.api as sm\n",
    "import scipy.stats as stats\n",
    "import pandas as pd\n",
    "import numpy as np"
   ]
  },
  {
   "cell_type": "code",
   "execution_count": 52,
   "metadata": {},
   "outputs": [
    {
     "name": "stdout",
     "output_type": "stream",
     "text": [
      "<class 'pandas.core.frame.DataFrame'>\n",
      "RangeIndex: 100000 entries, 0 to 99999\n",
      "Data columns (total 15 columns):\n",
      " #   Column               Non-Null Count   Dtype         \n",
      "---  ------               --------------   -----         \n",
      " 0   ddl_case_id          100000 non-null  object        \n",
      " 1   date_of_filing       100000 non-null  datetime64[ns]\n",
      " 2   date_of_decision     100000 non-null  datetime64[ns]\n",
      " 3   filing_year          100000 non-null  int64         \n",
      " 4   state_code           100000 non-null  int64         \n",
      " 5   court_no             100000 non-null  int64         \n",
      " 6   female_defendant     100000 non-null  object        \n",
      " 7   female_petitioner    100000 non-null  object        \n",
      " 8   female_judge         100000 non-null  object        \n",
      " 9   judge_tenure         100000 non-null  int64         \n",
      " 10  act_s                100000 non-null  object        \n",
      " 11  section_s            100000 non-null  object        \n",
      " 12  bailable_ipc         59239 non-null   object        \n",
      " 13  number_sections_ipc  59471 non-null   float64       \n",
      " 14  disposition          100000 non-null  object        \n",
      "dtypes: datetime64[ns](2), float64(1), int64(4), object(8)\n",
      "memory usage: 11.4+ MB\n",
      "None\n"
     ]
    }
   ],
   "source": [
    "df = pd.read_csv('/home/arctan/data/justice_data/sample.csv', parse_dates=['date_of_filing', 'date_of_decision'])\n",
    "\n",
    "# perform exploratory data analysis\n",
    "print(df.info())"
   ]
  },
  {
   "cell_type": "code",
   "execution_count": 53,
   "metadata": {},
   "outputs": [
    {
     "name": "stdout",
     "output_type": "stream",
     "text": [
      "Dispositions: ['judgement' 'disposed' 'referred to lok adalat' 'confession' 'dismissed'\n",
      " 'allowed' 'plead guilty' 'convicted' 'decided' 'acquitted' 'committed'\n",
      " 'disposed-otherwise' 'settled' 'absconded' 'fine' 'other' 'otherwise'\n",
      " 'bail granted' 'reject' 'withdrawn' 'abated' 'compromise' 'transferred'\n",
      " 'disposal in lok adalat' 'closed' 'not press' 'cancelled' 'procedural'\n",
      " 'probation' 'disposition var missing' 'contest-allowed' 'appeal accepted'\n",
      " 'bail rejected' 'compounded' 'remanded' 'plea bargaining' 'bail refused'\n",
      " 'untrace' '258 crpc' 'award' 'quash' 'prison' 'ex-parte' 'execution'\n",
      " 'p.o. consign' 'sine die' 'partly decreed' 'stayed' 'converted' 'died'\n",
      " 'uncontested' 'bail order']\n",
      "Bailable IPC: [nan 'bailable' 'non-bailable' 'depends' 'not applicable to section'\n",
      " 'unclear, need to check']\n"
     ]
    }
   ],
   "source": [
    "# print(df.head())\n",
    "\n",
    "\n",
    "# Check unique values for categorical columns\n",
    "print(\"Dispositions:\", df['disposition'].unique())\n",
    "print(\"Bailable IPC:\", df['bailable_ipc'].unique())"
   ]
  },
  {
   "cell_type": "code",
   "execution_count": 54,
   "metadata": {},
   "outputs": [
    {
     "name": "stdout",
     "output_type": "stream",
     "text": [
      "['-9998 unclear' '0 male' '1 female' '-9999 missing name']\n",
      "['0 male' '-9998 unclear' '1 female' '-9999 missing name']\n",
      "['-9998 unclear' '0 nonfemale' '1 female']\n",
      "Missing values:\n",
      " ddl_case_id                0\n",
      "date_of_filing             0\n",
      "date_of_decision           0\n",
      "filing_year                0\n",
      "state_code                 0\n",
      "court_no                   0\n",
      "female_defendant           0\n",
      "female_petitioner          0\n",
      "female_judge               0\n",
      "judge_tenure               0\n",
      "act_s                      0\n",
      "section_s                  0\n",
      "bailable_ipc           40761\n",
      "number_sections_ipc    40529\n",
      "disposition                0\n",
      "dtype: int64\n"
     ]
    }
   ],
   "source": [
    "print(df[\"female_defendant\"].unique())\n",
    "print(df[\"female_petitioner\"].unique())\n",
    "print(df[\"female_judge\"].unique())\n",
    "# Check for missing values\n",
    "print(\"Missing values:\\n\", df.isnull().sum())"
   ]
  },
  {
   "cell_type": "code",
   "execution_count": 55,
   "metadata": {},
   "outputs": [
    {
     "name": "stdout",
     "output_type": "stream",
     "text": [
      "<class 'pandas.core.frame.DataFrame'>\n",
      "Index: 17606 entries, 8 to 99995\n",
      "Data columns (total 15 columns):\n",
      " #   Column               Non-Null Count  Dtype         \n",
      "---  ------               --------------  -----         \n",
      " 0   ddl_case_id          17606 non-null  object        \n",
      " 1   date_of_filing       17606 non-null  datetime64[ns]\n",
      " 2   date_of_decision     17606 non-null  datetime64[ns]\n",
      " 3   filing_year          17606 non-null  int64         \n",
      " 4   state_code           17606 non-null  int64         \n",
      " 5   court_no             17606 non-null  int64         \n",
      " 6   female_defendant     17606 non-null  object        \n",
      " 7   female_petitioner    17606 non-null  object        \n",
      " 8   female_judge         17606 non-null  object        \n",
      " 9   judge_tenure         17606 non-null  int64         \n",
      " 10  act_s                17606 non-null  object        \n",
      " 11  section_s            17606 non-null  object        \n",
      " 12  bailable_ipc         5981 non-null   object        \n",
      " 13  number_sections_ipc  6054 non-null   float64       \n",
      " 14  disposition          17606 non-null  object        \n",
      "dtypes: datetime64[ns](2), float64(1), int64(4), object(8)\n",
      "memory usage: 2.1+ MB\n"
     ]
    }
   ],
   "source": [
    "valid_genders = ['0 male', '1 female']\n",
    "mapping = {\"0 male\": 0, \"1 female\": 1}\n",
    "\n",
    "df_clean = df[\n",
    "    df[\"female_defendant\"].isin(valid_genders) &\n",
    "    df[\"female_petitioner\"].isin(valid_genders)\n",
    "].copy() \n",
    "df_clean.info()\n",
    "df_clean.loc[:, \"female_defendant\"] = df_clean[\"female_defendant\"].map(mapping)\n",
    "df_clean.loc[:, \"female_petitioner\"] = df_clean[\"female_petitioner\"].map(mapping)\n",
    "\n",
    "\n",
    "valid_genders = ['0 nonfemale', '1 female']\n",
    "mapping = {\"0 nonfemale\": 0, \"1 female\": 1}\n",
    "\n",
    "df_clean = df_clean[df_clean[\"female_judge\"].isin(valid_genders)]\n",
    "df_clean.loc[:, \"female_judge\"] = df_clean[\"female_judge\"].map(mapping)"
   ]
  },
  {
   "cell_type": "code",
   "execution_count": 56,
   "metadata": {},
   "outputs": [],
   "source": [
    "# Create same-gender indicator (1 = judge/defendant same gender)\n",
    "df_clean['same_gender'] = (df_clean['female_judge'] == df_clean['female_defendant']).astype(int)\n",
    "\n",
    "\n",
    "df_clean['duration'] = (df_clean['date_of_decision'] - df_clean['date_of_filing']).dt.days\n",
    "df_clean[\"judge_tenure\"] = -df_clean[\"judge_tenure\"]\n",
    "favorable_outcomes = [\n",
    "    \"fine\",\n",
    "    \"compromise\",\n",
    "    \"award\",\n",
    "    \"plead guilty\",\n",
    "    \"plea bargaining\",\n",
    "    \"settled\",\n",
    "    \"allowed\",\n",
    "    \"converted\",\n",
    "    \"disposed\",\n",
    "    \"disposed-otherwise\",\n",
    "    \"referred to lok adalat\",\n",
    "    \"disposal in lok adalat\",\n",
    "    \"partly decreed\",\n",
    "    \"uncontested\",\n",
    "    \"withdrawn\",\n",
    "    \"acquitted\",\n",
    "    \"bail granted\",\n",
    "    \"probation\",\n",
    "    \"contest-allowed\",\n",
    "    \"appeal accepted\",\n",
    "    \"decided\",\n",
    "]\n",
    "\n",
    "# Simplify disposition to binary (1 = acquitted)\n",
    "df_clean['favorable'] = df_clean['disposition'].apply(lambda x: 1 if (x == \"decided\") else 0)\n",
    "\n"
   ]
  },
  {
   "cell_type": "code",
   "execution_count": 58,
   "metadata": {},
   "outputs": [
    {
     "data": {
      "image/png": "[encoded data removed]",
      "text/plain": [
       "<Figure size 640x480 with 1 Axes>"
      ]
     },
     "metadata": {},
     "output_type": "display_data"
    },
    {
     "data": {
      "image/png": "[encoded data removed]",
      "text/plain": [
       "<Figure size 640x480 with 1 Axes>"
      ]
     },
     "metadata": {},
     "output_type": "display_data"
    },
    {
     "data": {
      "image/png": "[encoded data removed]",
      "text/plain": [
       "<Figure size 640x480 with 1 Axes>"
      ]
     },
     "metadata": {},
     "output_type": "display_data"
    }
   ],
   "source": [
    "from matplotlib import pyplot as plt\n",
    "import seaborn as sns\n",
    "# Acquittal rate by gender match\n",
    "sns.barplot(x='same_gender', y='favorable', data=df_clean)\n",
    "plt.title(\"Acquittal Rate by Gender Match\")\n",
    "plt.show()\n",
    "\n",
    "# Distribution of cases by judge gender\n",
    "sns.countplot(x='female_judge', data=df_clean)\n",
    "plt.title(\"Cases by Judge Gender (0=Male, 1=Female)\")\n",
    "plt.show()\n",
    "\n",
    "# Case duration distribution\n",
    "sns.histplot(df_clean['duration'], bins=30)\n",
    "plt.title(\"Case Duration (Days)\")\n",
    "plt.show()"
   ]
  },
  {
   "cell_type": "code",
   "execution_count": 41,
   "metadata": {},
   "outputs": [
    {
     "name": "stdout",
     "output_type": "stream",
     "text": [
      "<class 'pandas.core.frame.DataFrame'>\n",
      "RangeIndex: 100000 entries, 0 to 99999\n",
      "Data columns (total 15 columns):\n",
      " #   Column               Non-Null Count   Dtype         \n",
      "---  ------               --------------   -----         \n",
      " 0   ddl_case_id          100000 non-null  object        \n",
      " 1   date_of_filing       100000 non-null  datetime64[ns]\n",
      " 2   date_of_decision     100000 non-null  datetime64[ns]\n",
      " 3   filing_year          100000 non-null  int64         \n",
      " 4   state_code           100000 non-null  int64         \n",
      " 5   court_no             100000 non-null  int64         \n",
      " 6   female_defendant     100000 non-null  object        \n",
      " 7   female_petitioner    100000 non-null  object        \n",
      " 8   female_judge         100000 non-null  object        \n",
      " 9   judge_tenure         100000 non-null  int64         \n",
      " 10  act_s                100000 non-null  object        \n",
      " 11  section_s            100000 non-null  object        \n",
      " 12  bailable_ipc         59239 non-null   object        \n",
      " 13  number_sections_ipc  59471 non-null   float64       \n",
      " 14  disposition          100000 non-null  object        \n",
      "dtypes: datetime64[ns](2), float64(1), int64(4), object(8)\n",
      "memory usage: 11.4+ MB\n"
     ]
    }
   ],
   "source": [
    "df.info()"
   ]
  },
  {
   "cell_type": "code",
   "execution_count": 44,
   "metadata": {},
   "outputs": [
    {
     "name": "stdout",
     "output_type": "stream",
     "text": [
      "Correlation: -0.34, p-value: 0.0000\n"
     ]
    }
   ],
   "source": [
    "import scipy.stats as stats\n",
    "\n",
    "# Calculate Pearson correlation\n",
    "r, p = stats.pearsonr(df_clean['judge_tenure'], df_clean['duration'])\n",
    "print(f\"Correlation: {r:.2f}, p-value: {p:.4f}\")"
   ]
  },
  {
   "cell_type": "code",
   "execution_count": 49,
   "metadata": {},
   "outputs": [
    {
     "name": "stdout",
     "output_type": "stream",
     "text": [
      "Correlation: -0.04, p-value: 0.0006\n"
     ]
    }
   ],
   "source": [
    "df_clean_clean = df_clean.dropna(subset=['number_sections_ipc'])\n",
    "df_clean_clean = df_clean_clean.dropna(subset=['bailable_ipc'])\n",
    "r, p = stats.pearsonr(df_clean_clean['number_sections_ipc'], df_clean_clean['duration'])\n",
    "print(f\"Correlation: {r:.2f}, p-value: {p:.4f}\")\n"
   ]
  },
  {
   "cell_type": "code",
   "execution_count": 62,
   "metadata": {},
   "outputs": [
    {
     "name": "stdout",
     "output_type": "stream",
     "text": [
      "                            OLS Regression Results                            \n",
      "==============================================================================\n",
      "Dep. Variable:               duration   R-squared:                       0.129\n",
      "Model:                            OLS   Adj. R-squared:                  0.129\n",
      "Method:                 Least Squares   F-statistic:                     434.9\n",
      "Date:                Sun, 13 Apr 2025   Prob (F-statistic):          7.61e-177\n",
      "Time:                        22:15:24   Log-Likelihood:                -39080.\n",
      "No. Observations:                5863   AIC:                         7.817e+04\n",
      "Df Residuals:                    5860   BIC:                         7.819e+04\n",
      "Df Model:                           2                                         \n",
      "Covariance Type:            nonrobust                                         \n",
      "=======================================================================================\n",
      "                          coef    std err          t      P>|t|      [0.025      0.975]\n",
      "---------------------------------------------------------------------------------------\n",
      "const                  31.0966      6.057      5.134      0.000      19.223      42.970\n",
      "judge_tenure           -0.1449      0.005    -29.266      0.000      -0.155      -0.135\n",
      "number_sections_ipc    -2.3729      1.102     -2.154      0.031      -4.532      -0.213\n",
      "==============================================================================\n",
      "Omnibus:                     2668.067   Durbin-Watson:                   1.952\n",
      "Prob(Omnibus):                  0.000   Jarque-Bera (JB):            19042.312\n",
      "Skew:                           2.045   Prob(JB):                         0.00\n",
      "Kurtosis:                      10.824   Cond. No.                     2.44e+03\n",
      "==============================================================================\n",
      "\n",
      "Notes:\n",
      "[1] Standard Errors assume that the covariance matrix of the errors is correctly specified.\n",
      "[2] The condition number is large, 2.44e+03. This might indicate that there are\n",
      "strong multicollinearity or other numerical problems.\n"
     ]
    }
   ],
   "source": [
    "import statsmodels.api as sm\n",
    "\n",
    "# Model case duration as a function of tenure, sections, and bailability\n",
    "model = sm.OLS(\n",
    "    df_clean_clean['duration'], \n",
    "    sm.add_constant(df_clean_clean[['judge_tenure', 'number_sections_ipc']])\n",
    ")\n",
    "results = model.fit()\n",
    "print(results.summary())"
   ]
  },
  {
   "cell_type": "code",
   "execution_count": 64,
   "metadata": {},
   "outputs": [
    {
     "name": "stdout",
     "output_type": "stream",
     "text": [
      "<class 'pandas.core.frame.DataFrame'>\n",
      "Index: 17054 entries, 8 to 99995\n",
      "Data columns (total 18 columns):\n",
      " #   Column               Non-Null Count  Dtype         \n",
      "---  ------               --------------  -----         \n",
      " 0   ddl_case_id          17054 non-null  object        \n",
      " 1   date_of_filing       17054 non-null  datetime64[ns]\n",
      " 2   date_of_decision     17054 non-null  datetime64[ns]\n",
      " 3   filing_year          17054 non-null  int64         \n",
      " 4   state_code           17054 non-null  int64         \n",
      " 5   court_no             17054 non-null  int64         \n",
      " 6   female_defendant     17054 non-null  object        \n",
      " 7   female_petitioner    17054 non-null  object        \n",
      " 8   female_judge         17054 non-null  object        \n",
      " 9   judge_tenure         17054 non-null  int64         \n",
      " 10  act_s                17054 non-null  object        \n",
      " 11  section_s            17054 non-null  object        \n",
      " 12  bailable_ipc         5863 non-null   object        \n",
      " 13  number_sections_ipc  5936 non-null   float64       \n",
      " 14  disposition          17054 non-null  object        \n",
      " 15  same_gender          17054 non-null  int64         \n",
      " 16  duration             17054 non-null  int64         \n",
      " 17  favorable            17054 non-null  int64         \n",
      "dtypes: datetime64[ns](2), float64(1), int64(7), object(8)\n",
      "memory usage: 2.5+ MB\n"
     ]
    }
   ],
   "source": [
    "df_clean.info()"
   ]
  },
  {
   "cell_type": "code",
   "execution_count": 65,
   "metadata": {},
   "outputs": [
    {
     "data": {
      "text/plain": [
       "array([0, 1])"
      ]
     },
     "execution_count": 65,
     "metadata": {},
     "output_type": "execute_result"
    }
   ],
   "source": [
    "df_clean[\"favorable\"].unique()"
   ]
  },
  {
   "cell_type": "code",
   "execution_count": 67,
   "metadata": {},
   "outputs": [
    {
     "name": "stdout",
     "output_type": "stream",
     "text": [
      "Optimization terminated successfully.\n",
      "         Current function value: 0.166110\n",
      "         Iterations 8\n",
      "                           Logit Regression Results                           \n",
      "==============================================================================\n",
      "Dep. Variable:              favorable   No. Observations:                17054\n",
      "Model:                          Logit   Df Residuals:                    17050\n",
      "Method:                           MLE   Df Model:                            3\n",
      "Date:                Sun, 13 Apr 2025   Pseudo R-squ.:                 0.01184\n",
      "Time:                        22:21:57   Log-Likelihood:                -2832.8\n",
      "converged:                       True   LL-Null:                       -2866.8\n",
      "Covariance Type:            nonrobust   LLR p-value:                 1.205e-14\n",
      "=========================================================================================\n",
      "                            coef    std err          z      P>|z|      [0.025      0.975]\n",
      "-----------------------------------------------------------------------------------------\n",
      "Intercept                -2.7034      0.086    -31.293      0.000      -2.873      -2.534\n",
      "female_judge[T.1]         0.2782      0.086      3.224      0.001       0.109       0.447\n",
      "female_defendant[T.1]    -0.3626      0.130     -2.789      0.005      -0.617      -0.108\n",
      "judge_tenure             -0.0006   9.58e-05     -6.645      0.000      -0.001      -0.000\n",
      "=========================================================================================\n"
     ]
    }
   ],
   "source": [
    "# Model likelihood of favorable outcome\n",
    "# model = sm.Logit(\n",
    "#     df_clean_clean['favorable'], \n",
    "#     sm.add_constant(df_clean_clean[['female_judge', 'female_defendant', 'judge_tenure']])\n",
    "# )\n",
    "# results = model.fit()\n",
    "# print(results.summary())\n",
    "\n",
    "import statsmodels.formula.api as smf\n",
    "\n",
    "# Logistic regression for acquittal probability\n",
    "# Rerun the model with cleaned data\n",
    "model = smf.logit(\n",
    "    'favorable ~ female_judge + female_defendant + judge_tenure',\n",
    "    data=df_clean\n",
    ").fit(maxiter=100)\n",
    "\n",
    "print(model.summary())"
   ]
  },
  {
   "cell_type": "code",
   "execution_count": 69,
   "metadata": {},
   "outputs": [
    {
     "name": "stdout",
     "output_type": "stream",
     "text": [
      "Warning: Maximum number of iterations has been exceeded.\n",
      "         Current function value: 0.161003\n",
      "         Iterations: 100\n",
      "                           Logit Regression Results                           \n",
      "==============================================================================\n",
      "Dep. Variable:              favorable   No. Observations:                17054\n",
      "Model:                          Logit   Df Residuals:                    17016\n",
      "Method:                           MLE   Df Model:                           37\n",
      "Date:                Sun, 13 Apr 2025   Pseudo R-squ.:                 0.04222\n",
      "Time:                        22:28:29   Log-Likelihood:                -2745.7\n",
      "converged:                      False   LL-Null:                       -2866.8\n",
      "Covariance Type:            nonrobust   LLR p-value:                 5.970e-32\n",
      "===========================================================================================================================\n",
      "                                                              coef    std err          z      P>|z|      [0.025      0.975]\n",
      "---------------------------------------------------------------------------------------------------------------------------\n",
      "Intercept                                                 -33.7982        nan        nan        nan         nan         nan\n",
      "female_judge[T.1]                                           0.2567      0.091      2.824      0.005       0.079       0.435\n",
      "female_defendant[T.1]                                      -0.3219      0.150     -2.151      0.031      -0.615      -0.029\n",
      "act_s[T.174 C RAILWAY ACT]                                 -4.1674   1.95e+08  -2.14e-08      1.000   -3.83e+08    3.83e+08\n",
      "act_s[T.CANTONMENT ACT 2006]                               -3.1446   1.95e+08  -1.61e-08      1.000   -3.83e+08    3.83e+08\n",
      "act_s[T.CRIMINAL LAW AMENDMENT ACT 1908]                   -3.8978   1.95e+08     -2e-08      1.000   -3.83e+08    3.83e+08\n",
      "act_s[T.Cantonments Act]                                   -1.1395   2.44e+07  -4.67e-08      1.000   -4.78e+07    4.78e+07\n",
      "act_s[T.Cantonments Act 1924]                              -0.5822   2.51e+07  -2.32e-08      1.000   -4.91e+07    4.91e+07\n",
      "act_s[T.Code of Criminal Procedure]                        31.3045        nan        nan        nan         nan         nan\n",
      "act_s[T.Criminal Law (Amendment) Act]                      -0.7675   2.47e+07  -3.11e-08      1.000   -4.84e+07    4.84e+07\n",
      "act_s[T.Criminal Law Amendment Act]                        32.8740        nan        nan        nan         nan         nan\n",
      "act_s[T.Criminal and Election Laws Amendment Act]          32.9601        nan        nan        nan         nan         nan\n",
      "act_s[T.I.P.C(Police)]                                     -4.0051   1.95e+08  -2.05e-08      1.000   -3.83e+08    3.83e+08\n",
      "act_s[T.INDIAN RAILWAY ACT]                                -1.0297   2.47e+07  -4.17e-08      1.000   -4.84e+07    4.84e+07\n",
      "act_s[T.Information Technology Act]                        -1.5481   2.51e+07  -6.18e-08      1.000   -4.91e+07    4.91e+07\n",
      "act_s[T.Information Technology Act, 2000]                  32.1610        nan        nan        nan         nan         nan\n",
      "act_s[T.Prevention of Corruption Act]                      -1.0584   2.46e+07   -4.3e-08      1.000   -4.83e+07    4.83e+07\n",
      "act_s[T.Prevention of Corruption Act 1988]                 -0.6435   2.51e+07  -2.57e-08      1.000   -4.91e+07    4.91e+07\n",
      "act_s[T.RAILWAY ACT]                                       -2.0909   2.48e+07  -8.44e-08      1.000   -4.85e+07    4.85e+07\n",
      "act_s[T.RAILWAYS ACT, 1989]                                 3.3889   1.91e+05   1.78e-05      1.000   -3.73e+05    3.73e+05\n",
      "act_s[T.Railway Act]                                       -3.8696   1.95e+08  -1.98e-08      1.000   -3.83e+08    3.83e+08\n",
      "act_s[T.Railway Act, 1989]                                  1.8085   2.24e+05   8.06e-06      1.000    -4.4e+05     4.4e+05\n",
      "act_s[T.Railway Act,1989]                                 -18.0146   3.91e+10  -4.61e-10      1.000   -7.67e+10    7.67e+10\n",
      "act_s[T.Railway Act.]                                      -0.2419   2.44e+07  -9.92e-09      1.000   -4.78e+07    4.78e+07\n",
      "act_s[T.Railway act]                                       -2.5406   3.62e+07  -7.02e-08      1.000   -7.09e+07    7.09e+07\n",
      "act_s[T.Railways Act]                                     -23.4843   1.99e+11  -1.18e-10      1.000   -3.91e+11    3.91e+11\n",
      "act_s[T.Railways Act  1989]                                -0.9467   2.44e+07  -3.88e-08      1.000   -4.78e+07    4.78e+07\n",
      "act_s[T.Railways Act 1989]                                -57.9358   3.13e+19  -1.85e-18      1.000   -6.13e+19    6.13e+19\n",
      "act_s[T.Railways Act 1989  \\]                              -1.4178   2.48e+07  -5.71e-08      1.000   -4.87e+07    4.87e+07\n",
      "act_s[T.The Indian Penal Code]                             30.7064        nan        nan        nan         nan         nan\n",
      "act_s[T.U.Section 147 of Railway Act 1989]                 -0.9060   2.47e+07  -3.67e-08      1.000   -4.84e+07    4.84e+07\n",
      "act_s[T.U/sec 154, 159, r/w 160 II of Railway Act 1989]    -4.2062   1.95e+08  -2.16e-08      1.000   -3.83e+08    3.83e+08\n",
      "act_s[T.u/s 140 of Railway Act]                            -4.4217   1.95e+08  -2.27e-08      1.000   -3.82e+08    3.82e+08\n",
      "act_s[T.u/s 144 of Railway Act]                            -1.6371   2.48e+07  -6.59e-08      1.000   -4.87e+07    4.87e+07\n",
      "act_s[T.u/s 155 of Railway Act]                            -1.5729   2.48e+07  -6.34e-08      1.000   -4.86e+07    4.86e+07\n",
      "act_s[T.u/s 159 of Railway Act]                            -1.8542   2.48e+07  -7.48e-08      1.000   -4.86e+07    4.86e+07\n",
      "female_judge[T.1]:female_defendant[T.1]                    -0.3465      0.305     -1.137      0.256      -0.944       0.251\n",
      "judge_tenure                                               -0.0005    9.3e-05     -5.805      0.000      -0.001      -0.000\n",
      "===========================================================================================================================\n"
     ]
    },
    {
     "name": "stderr",
     "output_type": "stream",
     "text": [
      "/usr/lib/python3.13/site-packages/statsmodels/base/model.py:607: ConvergenceWarning: Maximum Likelihood optimization failed to converge. Check mle_retvals\n",
      "  warnings.warn(\"Maximum Likelihood optimization failed to \"\n"
     ]
    }
   ],
   "source": [
    "# Add control variables and interaction term\n",
    "model = smf.logit(\n",
    "    'favorable ~ female_judge * female_defendant + judge_tenure + act_s ',\n",
    "    data=df_clean\n",
    ").fit(maxiter=100)\n",
    "print(model.summary())"
   ]
  },
  {
   "cell_type": "code",
   "execution_count": 71,
   "metadata": {},
   "outputs": [
    {
     "name": "stderr",
     "output_type": "stream",
     "text": [
      "/tmp/ipykernel_195625/2270471455.py:5: UserWarning: Boolean Series key will be reindexed to match DataFrame index.\n",
      "  *[df_clean_clean[df_clean['act_s'] == act]['duration_days'] for act in df_clean_clean['act_s'].unique()]\n"
     ]
    },
    {
     "ename": "TypeError",
     "evalue": "At least two samples are required; got 1.",
     "output_type": "error",
     "traceback": [
      "\u001b[31m---------------------------------------------------------------------------\u001b[39m",
      "\u001b[31mTypeError\u001b[39m                                 Traceback (most recent call last)",
      "\u001b[32m/tmp/ipykernel_195625/2270471455.py\u001b[39m in \u001b[36m?\u001b[39m\u001b[34m()\u001b[39m\n\u001b[32m      1\u001b[39m \u001b[38;5;28;01mfrom\u001b[39;00m scipy \u001b[38;5;28;01mimport\u001b[39;00m stats\n\u001b[32m      2\u001b[39m \n\u001b[32m      3\u001b[39m \u001b[38;5;66;03m# Example for acts\u001b[39;00m\n\u001b[32m----> \u001b[39m\u001b[32m4\u001b[39m f_val, p_val = stats.f_oneway(\n\u001b[32m      5\u001b[39m     *[df_clean_clean[df_clean[\u001b[33m'act_s'\u001b[39m] == act][\u001b[33m'duration_days'\u001b[39m] \u001b[38;5;28;01mfor\u001b[39;00m act \u001b[38;5;28;01min\u001b[39;00m df_clean_clean[\u001b[33m'act_s'\u001b[39m].unique()]\n\u001b[32m      6\u001b[39m )\n\u001b[32m      7\u001b[39m print(f\"F-statistic: {f_val:.2f}, p-value: {p_val:.4f}\")\n",
      "\u001b[32m/usr/lib/python3.13/site-packages/scipy/stats/_axis_nan_policy.py\u001b[39m in \u001b[36m?\u001b[39m\u001b[34m(***failed resolving arguments***)\u001b[39m\n\u001b[32m    576\u001b[39m \n\u001b[32m    577\u001b[39m                 \u001b[38;5;28;01mif\u001b[39;00m sentinel:\n\u001b[32m    578\u001b[39m                     samples = _remove_sentinel(samples, paired, sentinel)\n\u001b[32m    579\u001b[39m \n\u001b[32m--> \u001b[39m\u001b[32m580\u001b[39m                 \u001b[38;5;28;01mif\u001b[39;00m is_too_small(samples, kwds):\n\u001b[32m    581\u001b[39m                     warnings.warn(too_small_msg, SmallSampleWarning, stacklevel=\u001b[32m2\u001b[39m)\n\u001b[32m    582\u001b[39m                     res = np.full(n_out, NaN)\n\u001b[32m    583\u001b[39m                     res = _add_reduced_axes(res, reduced_axes, keepdims)\n",
      "\u001b[32m/usr/lib/python3.13/site-packages/scipy/stats/_stats_py.py\u001b[39m in \u001b[36m?\u001b[39m\u001b[34m(samples, kwargs, axis)\u001b[39m\n\u001b[32m   3701\u001b[39m \u001b[38;5;28;01mdef\u001b[39;00m _f_oneway_is_too_small(samples, kwargs=\u001b[38;5;28;01mNone\u001b[39;00m, axis=-\u001b[32m1\u001b[39m):\n\u001b[32m   3702\u001b[39m     message = f\"At least two samples are required; got {len(samples)}.\"\n\u001b[32m   3703\u001b[39m     \u001b[38;5;28;01mif\u001b[39;00m len(samples) < \u001b[32m2\u001b[39m:\n\u001b[32m-> \u001b[39m\u001b[32m3704\u001b[39m         \u001b[38;5;28;01mraise\u001b[39;00m TypeError(message)\n\u001b[32m   3705\u001b[39m \n\u001b[32m   3706\u001b[39m     \u001b[38;5;66;03m# Check this after forming alldata, so shape errors are detected\u001b[39;00m\n\u001b[32m   3707\u001b[39m     \u001b[38;5;66;03m# and reported before checking for 0 length inputs.\u001b[39;00m\n",
      "\u001b[31mTypeError\u001b[39m: At least two samples are required; got 1."
     ]
    }
   ],
   "source": [
    "from scipy import stats\n",
    "\n",
    "# Example for acts\n",
    "f_val, p_val = stats.f_oneway(\n",
    "    *[df_clean_clean[df_clean['act_s'] == act]['duration_days'] for act in df_clean_clean['act_s'].unique()]\n",
    ")\n",
    "print(f\"F-statistic: {f_val:.2f}, p-value: {p_val:.4f}\")\n"
   ]
  }
 ],
 "metadata": {
  "kernelspec": {
   "display_name": "Python 3",
   "language": "python",
   "name": "python3"
  },
  "language_info": {
   "codemirror_mode": {
    "name": "ipython",
    "version": 3
   },
   "file_extension": ".py",
   "mimetype": "text/x-python",
   "name": "python",
   "nbconvert_exporter": "python",
   "pygments_lexer": "ipython3",
   "version": "3.13.2"
  }
 },
 "nbformat": 4,
 "nbformat_minor": 2
}
