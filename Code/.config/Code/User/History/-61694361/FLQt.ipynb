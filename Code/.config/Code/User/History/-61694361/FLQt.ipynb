{
 "cells": [
  {
   "cell_type": "code",
   "execution_count": 80,
   "metadata": {},
   "outputs": [],
   "source": [
    "import statsmodels.api as sm\n",
    "import scipy.stats as stats\n",
    "import pandas as pd\n",
    "import numpy as np"
   ]
  },
  {
   "cell_type": "code",
   "execution_count": 81,
   "metadata": {},
   "outputs": [
    {
     "name": "stdout",
     "output_type": "stream",
     "text": [
      "<class 'pandas.core.frame.DataFrame'>\n",
      "RangeIndex: 100000 entries, 0 to 99999\n",
      "Data columns (total 15 columns):\n",
      " #   Column               Non-Null Count   Dtype         \n",
      "---  ------               --------------   -----         \n",
      " 0   ddl_case_id          100000 non-null  object        \n",
      " 1   date_of_filing       100000 non-null  datetime64[ns]\n",
      " 2   date_of_decision     100000 non-null  datetime64[ns]\n",
      " 3   filing_year          100000 non-null  int64         \n",
      " 4   state_code           100000 non-null  int64         \n",
      " 5   court_no             100000 non-null  int64         \n",
      " 6   female_defendant     100000 non-null  object        \n",
      " 7   female_petitioner    100000 non-null  object        \n",
      " 8   female_judge         100000 non-null  object        \n",
      " 9   judge_tenure         100000 non-null  int64         \n",
      " 10  act_s                100000 non-null  object        \n",
      " 11  section_s            100000 non-null  object        \n",
      " 12  bailable_ipc         59239 non-null   object        \n",
      " 13  number_sections_ipc  59471 non-null   float64       \n",
      " 14  disposition          100000 non-null  object        \n",
      "dtypes: datetime64[ns](2), float64(1), int64(4), object(8)\n",
      "memory usage: 11.4+ MB\n",
      "None\n"
     ]
    }
   ],
   "source": [
    "df = pd.read_csv('/home/arctan/data/justice_data/sample.csv', parse_dates=['date_of_filing', 'date_of_decision'])\n",
    "\n",
    "# perform exploratory data analysis\n",
    "print(df.info())"
   ]
  },
  {
   "cell_type": "code",
   "execution_count": 82,
   "metadata": {},
   "outputs": [
    {
     "name": "stdout",
     "output_type": "stream",
     "text": [
      "Dispositions: ['judgement' 'disposed' 'referred to lok adalat' 'confession' 'dismissed'\n",
      " 'allowed' 'plead guilty' 'convicted' 'decided' 'acquitted' 'committed'\n",
      " 'disposed-otherwise' 'settled' 'absconded' 'fine' 'other' 'otherwise'\n",
      " 'bail granted' 'reject' 'withdrawn' 'abated' 'compromise' 'transferred'\n",
      " 'disposal in lok adalat' 'closed' 'not press' 'cancelled' 'procedural'\n",
      " 'probation' 'disposition var missing' 'contest-allowed' 'appeal accepted'\n",
      " 'bail rejected' 'compounded' 'remanded' 'plea bargaining' 'bail refused'\n",
      " 'untrace' '258 crpc' 'award' 'quash' 'prison' 'ex-parte' 'execution'\n",
      " 'p.o. consign' 'sine die' 'partly decreed' 'stayed' 'converted' 'died'\n",
      " 'uncontested' 'bail order']\n",
      "Bailable IPC: [nan 'bailable' 'non-bailable' 'depends' 'not applicable to section'\n",
      " 'unclear, need to check']\n"
     ]
    }
   ],
   "source": [
    "# print(df.head())\n",
    "\n",
    "\n",
    "# Check unique values for categorical columns\n",
    "print(\"Dispositions:\", df['disposition'].unique())\n",
    "print(\"Bailable IPC:\", df['bailable_ipc'].unique())"
   ]
  },
  {
   "cell_type": "code",
   "execution_count": 83,
   "metadata": {},
   "outputs": [
    {
     "name": "stdout",
     "output_type": "stream",
     "text": [
      "['-9998 unclear' '0 male' '1 female' '-9999 missing name']\n",
      "['0 male' '-9998 unclear' '1 female' '-9999 missing name']\n",
      "['-9998 unclear' '0 nonfemale' '1 female']\n",
      "Missing values:\n",
      " ddl_case_id                0\n",
      "date_of_filing             0\n",
      "date_of_decision           0\n",
      "filing_year                0\n",
      "state_code                 0\n",
      "court_no                   0\n",
      "female_defendant           0\n",
      "female_petitioner          0\n",
      "female_judge               0\n",
      "judge_tenure               0\n",
      "act_s                      0\n",
      "section_s                  0\n",
      "bailable_ipc           40761\n",
      "number_sections_ipc    40529\n",
      "disposition                0\n",
      "dtype: int64\n"
     ]
    }
   ],
   "source": [
    "print(df[\"female_defendant\"].unique())\n",
    "print(df[\"female_petitioner\"].unique())\n",
    "print(df[\"female_judge\"].unique())\n",
    "# Check for missing values\n",
    "print(\"Missing values:\\n\", df.isnull().sum())"
   ]
  },
  {
   "cell_type": "code",
   "execution_count": 84,
   "metadata": {},
   "outputs": [
    {
     "name": "stdout",
     "output_type": "stream",
     "text": [
      "<class 'pandas.core.frame.DataFrame'>\n",
      "Index: 17606 entries, 8 to 99995\n",
      "Data columns (total 15 columns):\n",
      " #   Column               Non-Null Count  Dtype         \n",
      "---  ------               --------------  -----         \n",
      " 0   ddl_case_id          17606 non-null  object        \n",
      " 1   date_of_filing       17606 non-null  datetime64[ns]\n",
      " 2   date_of_decision     17606 non-null  datetime64[ns]\n",
      " 3   filing_year          17606 non-null  int64         \n",
      " 4   state_code           17606 non-null  int64         \n",
      " 5   court_no             17606 non-null  int64         \n",
      " 6   female_defendant     17606 non-null  object        \n",
      " 7   female_petitioner    17606 non-null  object        \n",
      " 8   female_judge         17606 non-null  object        \n",
      " 9   judge_tenure         17606 non-null  int64         \n",
      " 10  act_s                17606 non-null  object        \n",
      " 11  section_s            17606 non-null  object        \n",
      " 12  bailable_ipc         5981 non-null   object        \n",
      " 13  number_sections_ipc  6054 non-null   float64       \n",
      " 14  disposition          17606 non-null  object        \n",
      "dtypes: datetime64[ns](2), float64(1), int64(4), object(8)\n",
      "memory usage: 2.1+ MB\n"
     ]
    }
   ],
   "source": [
    "valid_genders = ['0 male', '1 female']\n",
    "mapping = {\"0 male\": 0, \"1 female\": 1}\n",
    "\n",
    "df_clean = df[\n",
    "    df[\"female_defendant\"].isin(valid_genders) &\n",
    "    df[\"female_petitioner\"].isin(valid_genders)\n",
    "].copy() \n",
    "df_clean.info()\n",
    "df_clean.loc[:, \"female_defendant\"] = df_clean[\"female_defendant\"].map(mapping)\n",
    "df_clean.loc[:, \"female_petitioner\"] = df_clean[\"female_petitioner\"].map(mapping)\n",
    "\n",
    "\n",
    "valid_genders = ['0 nonfemale', '1 female']\n",
    "mapping = {\"0 nonfemale\": 0, \"1 female\": 1}\n",
    "\n",
    "df_clean = df_clean[df_clean[\"female_judge\"].isin(valid_genders)]\n",
    "df_clean.loc[:, \"female_judge\"] = df_clean[\"female_judge\"].map(mapping)"
   ]
  },
  {
   "cell_type": "code",
   "execution_count": 85,
   "metadata": {},
   "outputs": [],
   "source": [
    "# Create same-gender indicator (1 = judge/defendant same gender)\n",
    "df_clean['same_gender'] = (df_clean['female_judge'] == df_clean['female_defendant']).astype(int)\n",
    "\n",
    "\n",
    "df_clean['duration'] = (df_clean['date_of_decision'] - df_clean['date_of_filing']).dt.days\n",
    "df_clean[\"judge_tenure\"] = -df_clean[\"judge_tenure\"]\n",
    "favorable_outcomes = [\n",
    "    \"fine\",\n",
    "    \"compromise\",\n",
    "    \"award\",\n",
    "    \"plead guilty\",\n",
    "    \"plea bargaining\",\n",
    "    \"settled\",\n",
    "    \"allowed\",\n",
    "    \"converted\",\n",
    "    \"disposed\",\n",
    "    \"disposed-otherwise\",\n",
    "    \"referred to lok adalat\",\n",
    "    \"disposal in lok adalat\",\n",
    "    \"partly decreed\",\n",
    "    \"uncontested\",\n",
    "    \"withdrawn\",\n",
    "    \"acquitted\",\n",
    "    \"bail granted\",\n",
    "    \"probation\",\n",
    "    \"contest-allowed\",\n",
    "    \"appeal accepted\",\n",
    "    \"decided\",\n",
    "]\n",
    "\n",
    "# Simplify disposition to binary (1 = acquitted)\n",
    "df_clean['favorable'] = df_clean['disposition'].apply(lambda x: 1 if (x == \"decided\") else 0)\n",
    "\n"
   ]
  },
  {
   "cell_type": "code",
   "execution_count": 86,
   "metadata": {},
   "outputs": [
    {
     "data": {
      "image/png": "[encoded data removed]",
      "text/plain": [
       "<Figure size 640x480 with 1 Axes>"
      ]
     },
     "metadata": {},
     "output_type": "display_data"
    },
    {
     "data": {
      "image/png": "[encoded data removed]",
      "text/plain": [
       "<Figure size 640x480 with 1 Axes>"
      ]
     },
     "metadata": {},
     "output_type": "display_data"
    },
    {
     "data": {
      "image/png": "[encoded data removed]",
      "text/plain": [
       "<Figure size 640x480 with 1 Axes>"
      ]
     },
     "metadata": {},
     "output_type": "display_data"
    }
   ],
   "source": [
    "from matplotlib import pyplot as plt\n",
    "import seaborn as sns\n",
    "# Acquittal rate by gender match\n",
    "sns.barplot(x='same_gender', y='favorable', data=df_clean)\n",
    "plt.title(\"Acquittal Rate by Gender Match\")\n",
    "plt.show()\n",
    "\n",
    "# Distribution of cases by judge gender\n",
    "sns.countplot(x='female_judge', data=df_clean)\n",
    "plt.title(\"Cases by Judge Gender (0=Male, 1=Female)\")\n",
    "plt.show()\n",
    "\n",
    "# Case duration distribution\n",
    "sns.histplot(df_clean['duration'], bins=30)\n",
    "plt.title(\"Case Duration (Days)\")\n",
    "plt.show()"
   ]
  },
  {
   "cell_type": "code",
   "execution_count": 87,
   "metadata": {},
   "outputs": [
    {
     "name": "stdout",
     "output_type": "stream",
     "text": [
      "<class 'pandas.core.frame.DataFrame'>\n",
      "RangeIndex: 100000 entries, 0 to 99999\n",
      "Data columns (total 15 columns):\n",
      " #   Column               Non-Null Count   Dtype         \n",
      "---  ------               --------------   -----         \n",
      " 0   ddl_case_id          100000 non-null  object        \n",
      " 1   date_of_filing       100000 non-null  datetime64[ns]\n",
      " 2   date_of_decision     100000 non-null  datetime64[ns]\n",
      " 3   filing_year          100000 non-null  int64         \n",
      " 4   state_code           100000 non-null  int64         \n",
      " 5   court_no             100000 non-null  int64         \n",
      " 6   female_defendant     100000 non-null  object        \n",
      " 7   female_petitioner    100000 non-null  object        \n",
      " 8   female_judge         100000 non-null  object        \n",
      " 9   judge_tenure         100000 non-null  int64         \n",
      " 10  act_s                100000 non-null  object        \n",
      " 11  section_s            100000 non-null  object        \n",
      " 12  bailable_ipc         59239 non-null   object        \n",
      " 13  number_sections_ipc  59471 non-null   float64       \n",
      " 14  disposition          100000 non-null  object        \n",
      "dtypes: datetime64[ns](2), float64(1), int64(4), object(8)\n",
      "memory usage: 11.4+ MB\n"
     ]
    }
   ],
   "source": [
    "df.info()"
   ]
  },
  {
   "cell_type": "code",
   "execution_count": 88,
   "metadata": {},
   "outputs": [
    {
     "name": "stdout",
     "output_type": "stream",
     "text": [
      "Correlation: 0.34, p-value: 0.0000\n"
     ]
    }
   ],
   "source": [
    "import scipy.stats as stats\n",
    "\n",
    "# Calculate Pearson correlation\n",
    "r, p = stats.pearsonr(df_clean['judge_tenure'], df_clean['duration'])\n",
    "print(f\"Correlation: {r:.2f}, p-value: {p:.4f}\")"
   ]
  },
  {
   "cell_type": "code",
   "execution_count": 89,
   "metadata": {},
   "outputs": [
    {
     "name": "stdout",
     "output_type": "stream",
     "text": [
      "Correlation: -0.04, p-value: 0.0006\n"
     ]
    }
   ],
   "source": [
    "df_clean_clean = df_clean.dropna(subset=['number_sections_ipc'])\n",
    "df_clean_clean = df_clean_clean.dropna(subset=['bailable_ipc'])\n",
    "r, p = stats.pearsonr(df_clean_clean['number_sections_ipc'], df_clean_clean['duration'])\n",
    "print(f\"Correlation: {r:.2f}, p-value: {p:.4f}\")\n"
   ]
  },
  {
   "cell_type": "code",
   "execution_count": 90,
   "metadata": {},
   "outputs": [
    {
     "name": "stdout",
     "output_type": "stream",
     "text": [
      "                            OLS Regression Results                            \n",
      "==============================================================================\n",
      "Dep. Variable:               duration   R-squared:                       0.129\n",
      "Model:                            OLS   Adj. R-squared:                  0.129\n",
      "Method:                 Least Squares   F-statistic:                     434.9\n",
      "Date:                Sun, 13 Apr 2025   Prob (F-statistic):          7.61e-177\n",
      "Time:                        22:43:26   Log-Likelihood:                -39080.\n",
      "No. Observations:                5863   AIC:                         7.817e+04\n",
      "Df Residuals:                    5860   BIC:                         7.819e+04\n",
      "Df Model:                           2                                         \n",
      "Covariance Type:            nonrobust                                         \n",
      "=======================================================================================\n",
      "                          coef    std err          t      P>|t|      [0.025      0.975]\n",
      "---------------------------------------------------------------------------------------\n",
      "const                  31.0966      6.057      5.134      0.000      19.223      42.970\n",
      "judge_tenure            0.1449      0.005     29.266      0.000       0.135       0.155\n",
      "number_sections_ipc    -2.3729      1.102     -2.154      0.031      -4.532      -0.213\n",
      "==============================================================================\n",
      "Omnibus:                     2668.067   Durbin-Watson:                   1.952\n",
      "Prob(Omnibus):                  0.000   Jarque-Bera (JB):            19042.312\n",
      "Skew:                           2.045   Prob(JB):                         0.00\n",
      "Kurtosis:                      10.824   Cond. No.                     2.44e+03\n",
      "==============================================================================\n",
      "\n",
      "Notes:\n",
      "[1] Standard Errors assume that the covariance matrix of the errors is correctly specified.\n",
      "[2] The condition number is large, 2.44e+03. This might indicate that there are\n",
      "strong multicollinearity or other numerical problems.\n"
     ]
    }
   ],
   "source": [
    "import statsmodels.api as sm\n",
    "\n",
    "# Model case duration as a function of tenure, sections, and bailability\n",
    "model = sm.OLS(\n",
    "    df_clean_clean['duration'], \n",
    "    sm.add_constant(df_clean_clean[['judge_tenure', 'number_sections_ipc']])\n",
    ")\n",
    "results = model.fit()\n",
    "print(results.summary())"
   ]
  },
  {
   "cell_type": "code",
   "execution_count": 91,
   "metadata": {},
   "outputs": [
    {
     "name": "stdout",
     "output_type": "stream",
     "text": [
      "<class 'pandas.core.frame.DataFrame'>\n",
      "Index: 17054 entries, 8 to 99995\n",
      "Data columns (total 18 columns):\n",
      " #   Column               Non-Null Count  Dtype         \n",
      "---  ------               --------------  -----         \n",
      " 0   ddl_case_id          17054 non-null  object        \n",
      " 1   date_of_filing       17054 non-null  datetime64[ns]\n",
      " 2   date_of_decision     17054 non-null  datetime64[ns]\n",
      " 3   filing_year          17054 non-null  int64         \n",
      " 4   state_code           17054 non-null  int64         \n",
      " 5   court_no             17054 non-null  int64         \n",
      " 6   female_defendant     17054 non-null  object        \n",
      " 7   female_petitioner    17054 non-null  object        \n",
      " 8   female_judge         17054 non-null  object        \n",
      " 9   judge_tenure         17054 non-null  int64         \n",
      " 10  act_s                17054 non-null  object        \n",
      " 11  section_s            17054 non-null  object        \n",
      " 12  bailable_ipc         5863 non-null   object        \n",
      " 13  number_sections_ipc  5936 non-null   float64       \n",
      " 14  disposition          17054 non-null  object        \n",
      " 15  same_gender          17054 non-null  int64         \n",
      " 16  duration             17054 non-null  int64         \n",
      " 17  favorable            17054 non-null  int64         \n",
      "dtypes: datetime64[ns](2), float64(1), int64(7), object(8)\n",
      "memory usage: 2.5+ MB\n"
     ]
    }
   ],
   "source": [
    "df_clean.info()"
   ]
  },
  {
   "cell_type": "code",
   "execution_count": 92,
   "metadata": {},
   "outputs": [
    {
     "data": {
      "text/plain": [
       "array([0, 1])"
      ]
     },
     "execution_count": 92,
     "metadata": {},
     "output_type": "execute_result"
    }
   ],
   "source": [
    "df_clean[\"favorable\"].unique()"
   ]
  },
  {
   "cell_type": "code",
   "execution_count": 93,
   "metadata": {},
   "outputs": [
    {
     "name": "stdout",
     "output_type": "stream",
     "text": [
      "Optimization terminated successfully.\n",
      "         Current function value: 0.166110\n",
      "         Iterations 8\n",
      "                           Logit Regression Results                           \n",
      "==============================================================================\n",
      "Dep. Variable:              favorable   No. Observations:                17054\n",
      "Model:                          Logit   Df Residuals:                    17050\n",
      "Method:                           MLE   Df Model:                            3\n",
      "Date:                Sun, 13 Apr 2025   Pseudo R-squ.:                 0.01184\n",
      "Time:                        22:43:26   Log-Likelihood:                -2832.8\n",
      "converged:                       True   LL-Null:                       -2866.8\n",
      "Covariance Type:            nonrobust   LLR p-value:                 1.205e-14\n",
      "=========================================================================================\n",
      "                            coef    std err          z      P>|z|      [0.025      0.975]\n",
      "-----------------------------------------------------------------------------------------\n",
      "Intercept                -2.7034      0.086    -31.293      0.000      -2.873      -2.534\n",
      "female_judge[T.1]         0.2782      0.086      3.224      0.001       0.109       0.447\n",
      "female_defendant[T.1]    -0.3626      0.130     -2.789      0.005      -0.617      -0.108\n",
      "judge_tenure             -0.0006   9.58e-05     -6.645      0.000      -0.001      -0.000\n",
      "=========================================================================================\n"
     ]
    }
   ],
   "source": [
    "# Model likelihood of favorable outcome\n",
    "# model = sm.Logit(\n",
    "#     df_clean_clean['favorable'], \n",
    "#     sm.add_constant(df_clean_clean[['female_judge', 'female_defendant', 'judge_tenure']])\n",
    "# )\n",
    "# results = model.fit()\n",
    "# print(results.summary())\n",
    "\n",
    "import statsmodels.formula.api as smf\n",
    "\n",
    "# Logistic regression for acquittal probability\n",
    "# Rerun the model with cleaned data\n",
    "model = smf.logit(\n",
    "    'favorable ~ female_judge + female_defendant + judge_tenure',\n",
    "    data=df_clean\n",
    ").fit(maxiter=100)\n",
    "\n",
    "print(model.summary())"
   ]
  },
  {
   "cell_type": "code",
   "execution_count": 94,
   "metadata": {},
   "outputs": [
    {
     "name": "stdout",
     "output_type": "stream",
     "text": [
      "Warning: Maximum number of iterations has been exceeded.\n",
      "         Current function value: 0.161003\n",
      "         Iterations: 100\n",
      "                           Logit Regression Results                           \n",
      "==============================================================================\n",
      "Dep. Variable:              favorable   No. Observations:                17054\n",
      "Model:                          Logit   Df Residuals:                    17016\n",
      "Method:                           MLE   Df Model:                           37\n",
      "Date:                Sun, 13 Apr 2025   Pseudo R-squ.:                 0.04222\n",
      "Time:                        22:43:31   Log-Likelihood:                -2745.7\n",
      "converged:                      False   LL-Null:                       -2866.8\n",
      "Covariance Type:            nonrobust   LLR p-value:                 5.970e-32\n",
      "===========================================================================================================================\n",
      "                                                              coef    std err          z      P>|z|      [0.025      0.975]\n",
      "---------------------------------------------------------------------------------------------------------------------------\n",
      "Intercept                                                 -33.7982        nan        nan        nan         nan         nan\n",
      "female_judge[T.1]                                           0.2567      0.091      2.824      0.005       0.079       0.435\n",
      "female_defendant[T.1]                                      -0.3219      0.150     -2.151      0.031      -0.615      -0.029\n",
      "act_s[T.174 C RAILWAY ACT]                                 -4.1674   1.95e+08  -2.14e-08      1.000   -3.83e+08    3.83e+08\n",
      "act_s[T.CANTONMENT ACT 2006]                               -3.1446   1.95e+08  -1.61e-08      1.000   -3.83e+08    3.83e+08\n",
      "act_s[T.CRIMINAL LAW AMENDMENT ACT 1908]                   -3.8978   1.95e+08     -2e-08      1.000   -3.83e+08    3.83e+08\n",
      "act_s[T.Cantonments Act]                                   -1.1395   2.44e+07  -4.67e-08      1.000   -4.78e+07    4.78e+07\n",
      "act_s[T.Cantonments Act 1924]                              -0.5822   2.51e+07  -2.32e-08      1.000   -4.91e+07    4.91e+07\n",
      "act_s[T.Code of Criminal Procedure]                        31.3045        nan        nan        nan         nan         nan\n",
      "act_s[T.Criminal Law (Amendment) Act]                      -0.7675   2.47e+07  -3.11e-08      1.000   -4.84e+07    4.84e+07\n",
      "act_s[T.Criminal Law Amendment Act]                        32.8740        nan        nan        nan         nan         nan\n",
      "act_s[T.Criminal and Election Laws Amendment Act]          32.9601        nan        nan        nan         nan         nan\n",
      "act_s[T.I.P.C(Police)]                                     -4.0051   1.95e+08  -2.05e-08      1.000   -3.83e+08    3.83e+08\n",
      "act_s[T.INDIAN RAILWAY ACT]                                -1.0297   2.47e+07  -4.17e-08      1.000   -4.84e+07    4.84e+07\n",
      "act_s[T.Information Technology Act]                        -1.5481   2.51e+07  -6.18e-08      1.000   -4.91e+07    4.91e+07\n",
      "act_s[T.Information Technology Act, 2000]                  32.1610        nan        nan        nan         nan         nan\n",
      "act_s[T.Prevention of Corruption Act]                      -1.0584   2.46e+07   -4.3e-08      1.000   -4.83e+07    4.83e+07\n",
      "act_s[T.Prevention of Corruption Act 1988]                 -0.6435   2.51e+07  -2.57e-08      1.000   -4.91e+07    4.91e+07\n",
      "act_s[T.RAILWAY ACT]                                       -2.0909   2.48e+07  -8.44e-08      1.000   -4.85e+07    4.85e+07\n",
      "act_s[T.RAILWAYS ACT, 1989]                                 3.3889   1.91e+05   1.78e-05      1.000   -3.73e+05    3.73e+05\n",
      "act_s[T.Railway Act]                                       -3.8696   1.95e+08  -1.98e-08      1.000   -3.83e+08    3.83e+08\n",
      "act_s[T.Railway Act, 1989]                                  1.8085   2.24e+05   8.06e-06      1.000    -4.4e+05     4.4e+05\n",
      "act_s[T.Railway Act,1989]                                 -18.0146   3.91e+10  -4.61e-10      1.000   -7.67e+10    7.67e+10\n",
      "act_s[T.Railway Act.]                                      -0.2419   2.44e+07  -9.92e-09      1.000   -4.78e+07    4.78e+07\n",
      "act_s[T.Railway act]                                       -2.5406   3.62e+07  -7.02e-08      1.000   -7.09e+07    7.09e+07\n",
      "act_s[T.Railways Act]                                     -23.4843   1.99e+11  -1.18e-10      1.000   -3.91e+11    3.91e+11\n",
      "act_s[T.Railways Act  1989]                                -0.9467   2.44e+07  -3.88e-08      1.000   -4.78e+07    4.78e+07\n",
      "act_s[T.Railways Act 1989]                                -57.9358   3.13e+19  -1.85e-18      1.000   -6.13e+19    6.13e+19\n",
      "act_s[T.Railways Act 1989  \\]                              -1.4178   2.48e+07  -5.71e-08      1.000   -4.87e+07    4.87e+07\n",
      "act_s[T.The Indian Penal Code]                             30.7064        nan        nan        nan         nan         nan\n",
      "act_s[T.U.Section 147 of Railway Act 1989]                 -0.9060   2.47e+07  -3.67e-08      1.000   -4.84e+07    4.84e+07\n",
      "act_s[T.U/sec 154, 159, r/w 160 II of Railway Act 1989]    -4.2062   1.95e+08  -2.16e-08      1.000   -3.83e+08    3.83e+08\n",
      "act_s[T.u/s 140 of Railway Act]                            -4.4217   1.95e+08  -2.27e-08      1.000   -3.82e+08    3.82e+08\n",
      "act_s[T.u/s 144 of Railway Act]                            -1.6371   2.48e+07  -6.59e-08      1.000   -4.87e+07    4.87e+07\n",
      "act_s[T.u/s 155 of Railway Act]                            -1.5729   2.48e+07  -6.34e-08      1.000   -4.86e+07    4.86e+07\n",
      "act_s[T.u/s 159 of Railway Act]                            -1.8542   2.48e+07  -7.48e-08      1.000   -4.86e+07    4.86e+07\n",
      "female_judge[T.1]:female_defendant[T.1]                    -0.3465      0.305     -1.137      0.256      -0.944       0.251\n",
      "judge_tenure                                               -0.0005    9.3e-05     -5.805      0.000      -0.001      -0.000\n",
      "===========================================================================================================================\n"
     ]
    },
    {
     "name": "stderr",
     "output_type": "stream",
     "text": [
      "/usr/lib/python3.13/site-packages/statsmodels/base/model.py:607: ConvergenceWarning: Maximum Likelihood optimization failed to converge. Check mle_retvals\n",
      "  warnings.warn(\"Maximum Likelihood optimization failed to \"\n"
     ]
    }
   ],
   "source": [
    "# Add control variables and interaction term\n",
    "model = smf.logit(\n",
    "    'favorable ~ female_judge * female_defendant + judge_tenure + act_s ',\n",
    "    data=df_clean\n",
    ").fit(maxiter=100)\n",
    "print(model.summary())"
   ]
  },
  {
   "cell_type": "code",
   "execution_count": 95,
   "metadata": {},
   "outputs": [
    {
     "name": "stdout",
     "output_type": "stream",
     "text": [
      "F-statistic: 27.90, p-value: 0.0000\n"
     ]
    }
   ],
   "source": [
    "# Count how many cases per act\n",
    "act_counts = df_clean['act_s'].value_counts()\n",
    "# print(act_counts)\n",
    "\n",
    "# Keep only acts with at least 2 cases\n",
    "valid_acts = act_counts[act_counts >= 2].index.tolist()\n",
    "\n",
    "# Now run ANOVA only on these\n",
    "f_val, p_val = stats.f_oneway(\n",
    "    *[df_clean[df_clean['act_s'] == act]['duration'] for act in valid_acts]\n",
    ")\n",
    "\n",
    "print(f\"F-statistic: {f_val:.2f}, p-value: {p_val:.4f}\")\n"
   ]
  },
  {
   "cell_type": "code",
   "execution_count": 96,
   "metadata": {},
   "outputs": [
    {
     "name": "stdout",
     "output_type": "stream",
     "text": [
      "                            OLS Regression Results                            \n",
      "==============================================================================\n",
      "Dep. Variable:               duration   R-squared:                       0.175\n",
      "Model:                            OLS   Adj. R-squared:                  0.170\n",
      "Method:                 Least Squares   F-statistic:                     34.65\n",
      "Date:                Sun, 13 Apr 2025   Prob (F-statistic):          6.89e-215\n",
      "Time:                        22:43:31   Log-Likelihood:                -39389.\n",
      "No. Observations:                5936   AIC:                         7.885e+04\n",
      "Df Residuals:                    5899   BIC:                         7.910e+04\n",
      "Df Model:                          36                                         \n",
      "Covariance Type:            nonrobust                                         \n",
      "==============================================================================================================================\n",
      "                                                                 coef    std err          t      P>|t|      [0.025      0.975]\n",
      "------------------------------------------------------------------------------------------------------------------------------\n",
      "Intercept                                                   2.128e+12   1.77e+13      0.120      0.904   -3.26e+13    3.68e+13\n",
      "C(act_s)[T.174 C RAILWAY ACT]                                 -0.0003      0.003     -0.120      0.904      -0.006       0.005\n",
      "C(act_s)[T.CANTONMENT ACT 2006]                                0.0007      0.006      0.120      0.904      -0.010       0.012\n",
      "C(act_s)[T.CRIMINAL LAW AMENDMENT ACT 1908]                    0.0004      0.003      0.120      0.904      -0.006       0.007\n",
      "C(act_s)[T.Cantonments Act]                                   -0.0003      0.002     -0.120      0.904      -0.004       0.004\n",
      "C(act_s)[T.Cantonments Act 1924]                               0.0003      0.003      0.120      0.904      -0.005       0.006\n",
      "C(act_s)[T.Code of Criminal Procedure]                        -0.0004      0.003     -0.120      0.904      -0.007       0.006\n",
      "C(act_s)[T.Criminal Law (Amendment) Act]                      -0.0016      0.014     -0.120      0.904      -0.028       0.025\n",
      "C(act_s)[T.Criminal Law Amendment Act]                         0.0013      0.011      0.120      0.904      -0.020       0.023\n",
      "C(act_s)[T.Criminal and Election Laws Amendment Act]           0.0006      0.005      0.120      0.904      -0.010       0.011\n",
      "C(act_s)[T.I.P.C(Police)]                                      0.0002      0.002      0.120      0.904      -0.003       0.004\n",
      "C(act_s)[T.INDIAN RAILWAY ACT]                              1.323e-13   3.82e-14      3.464      0.001    5.74e-14    2.07e-13\n",
      "C(act_s)[T.Information Technology Act]                         0.0001      0.001      0.120      0.904      -0.002       0.002\n",
      "C(act_s)[T.Information Technology Act, 2000]               -5.979e-14   2.01e-14     -2.971      0.003   -9.92e-14   -2.03e-14\n",
      "C(act_s)[T.Prevention of Corruption Act]                    2.088e-05      0.000      0.120      0.904      -0.000       0.000\n",
      "C(act_s)[T.Prevention of Corruption Act 1988]               1.864e-13   4.58e-14      4.066      0.000    9.65e-14    2.76e-13\n",
      "C(act_s)[T.RAILWAY ACT]                                    -6.265e-05      0.001     -0.120      0.904      -0.001       0.001\n",
      "C(act_s)[T.RAILWAYS ACT, 1989]                              4.177e-05      0.000      0.120      0.904      -0.001       0.001\n",
      "C(act_s)[T.Railway Act]                                     2.088e-05      0.000      0.120      0.904      -0.000       0.000\n",
      "C(act_s)[T.Railway Act, 1989]                               2.088e-05      0.000      0.120      0.904      -0.000       0.000\n",
      "C(act_s)[T.Railway Act,1989]                               -3.133e-05      0.000     -0.120      0.904      -0.001       0.000\n",
      "C(act_s)[T.Railway Act.]                                    5.221e-06   4.34e-05      0.120      0.904   -7.99e-05    9.04e-05\n",
      "C(act_s)[T.Railway act]                                     7.832e-06   6.51e-05      0.120      0.904      -0.000       0.000\n",
      "C(act_s)[T.Railways Act]                                    7.832e-06   6.51e-05      0.120      0.904      -0.000       0.000\n",
      "C(act_s)[T.Railways Act  1989]                             -7.832e-06   6.51e-05     -0.120      0.904      -0.000       0.000\n",
      "C(act_s)[T.Railways Act 1989]                               2.611e-06   2.17e-05      0.120      0.904      -4e-05    4.52e-05\n",
      "C(act_s)[T.Railways Act 1989  \\]                            2.611e-06   2.17e-05      0.120      0.904      -4e-05    4.52e-05\n",
      "C(act_s)[T.The Indian Penal Code]                          -2.128e+12   1.77e+13     -0.120      0.904   -3.68e+13    3.26e+13\n",
      "C(act_s)[T.U.Section 147 of Railway Act 1989]              -2.611e-06   2.17e-05     -0.120      0.904   -4.52e-05       4e-05\n",
      "C(act_s)[T.U/sec 154, 159, r/w 160 II of Railway Act 1989] -1.305e-06   1.09e-05     -0.120      0.904   -2.26e-05       2e-05\n",
      "C(act_s)[T.u/s 140 of Railway Act]                          6.526e-07   5.43e-06      0.120      0.904   -9.99e-06    1.13e-05\n",
      "C(act_s)[T.u/s 144 of Railway Act]                         -6.526e-07   5.43e-06     -0.120      0.904   -1.13e-05    9.99e-06\n",
      "C(act_s)[T.u/s 155 of Railway Act]                          6.526e-07   5.43e-06      0.120      0.904   -9.99e-06    1.13e-05\n",
      "C(act_s)[T.u/s 159 of Railway Act]                          4.895e-07   4.07e-06      0.120      0.904   -7.49e-06    8.47e-06\n",
      "C(filing_year)[T.2011]                                       -88.6922     33.647     -2.636      0.008    -154.652     -22.732\n",
      "C(filing_year)[T.2012]                                      -126.0488     30.240     -4.168      0.000    -185.331     -66.767\n",
      "C(filing_year)[T.2013]                                      -140.6946     29.556     -4.760      0.000    -198.635     -82.754\n",
      "C(filing_year)[T.2014]                                      -247.5456     28.537     -8.675      0.000    -303.488    -191.603\n",
      "C(filing_year)[T.2015]                                      -264.1794     28.384     -9.307      0.000    -319.822    -208.536\n",
      "C(filing_year)[T.2016]                                      -290.5730     28.407    -10.229      0.000    -346.261    -234.885\n",
      "C(filing_year)[T.2017]                                      -343.8661     28.402    -12.107      0.000    -399.545    -288.187\n",
      "C(filing_year)[T.2018]                                      -381.6953     29.089    -13.121      0.000    -438.721    -324.669\n",
      "C(state_code)[T.2]                                            28.0492     20.242      1.386      0.166     -11.632      67.730\n",
      "C(state_code)[T.3]                                           -45.8598     14.189     -3.232      0.001     -73.676     -18.043\n",
      "C(state_code)[T.4]                                            -0.9300     15.280     -0.061      0.951     -30.885      29.025\n",
      "C(state_code)[T.5]                                            67.6276     36.332      1.861      0.063      -3.597     138.852\n",
      "C(state_code)[T.6]                                             7.9295     14.540      0.545      0.586     -20.574      36.433\n",
      "C(state_code)[T.7]                                            -3.6959     13.810     -0.268      0.789     -30.768      23.376\n",
      "C(state_code)[T.8]                                           -42.6534     15.056     -2.833      0.005     -72.169     -13.138\n",
      "C(state_code)[T.9]                                           -35.6056     15.402     -2.312      0.021     -65.798      -5.413\n",
      "C(state_code)[T.10]                                           85.4300     19.047      4.485      0.000      48.092     122.768\n",
      "C(state_code)[T.11]                                           89.3691     19.757      4.523      0.000      50.638     128.101\n",
      "C(state_code)[T.12]                                                 0          0        nan        nan           0           0\n",
      "C(state_code)[T.13]                                           32.2336     12.584      2.562      0.010       7.565      56.902\n",
      "C(state_code)[T.14]                                           21.3056     26.441      0.806      0.420     -30.528      73.139\n",
      "C(state_code)[T.15]                                           40.6568     34.571      1.176      0.240     -27.116     108.429\n",
      "C(state_code)[T.16]                                          -33.6750     21.395     -1.574      0.116     -75.617       8.266\n",
      "C(state_code)[T.17]                                           29.2117     22.233      1.314      0.189     -14.374      72.797\n",
      "C(state_code)[T.18]                                           46.4899     45.045      1.032      0.302     -41.814     134.794\n",
      "C(state_code)[T.20]                                           69.0373     38.664      1.786      0.074      -6.759     144.834\n",
      "C(state_code)[T.21]                                         -106.8120    131.328     -0.813      0.416    -364.263     150.639\n",
      "C(state_code)[T.22]                                          -30.0828     21.829     -1.378      0.168     -72.876      12.711\n",
      "C(state_code)[T.23]                                            6.2872     15.757      0.399      0.690     -24.603      37.177\n",
      "C(state_code)[T.24]                                         -144.2889     83.541     -1.727      0.084    -308.061      19.483\n",
      "C(state_code)[T.25]                                          -21.9982    107.442     -0.205      0.838    -232.625     188.628\n",
      "C(state_code)[T.26]                                            4.2180     31.013      0.136      0.892     -56.578      65.014\n",
      "C(state_code)[T.27]                                            6.6406     27.740      0.239      0.811     -47.739      61.020\n",
      "C(state_code)[T.29]                                           91.0086     14.433      6.306      0.000      62.715     119.302\n",
      "C(state_code)[T.30]                                           14.6335     66.464      0.220      0.826    -115.660     144.927\n",
      "number_sections_ipc                                            1.7115      1.180      1.450      0.147      -0.602       4.025\n",
      "==============================================================================\n",
      "Omnibus:                     2730.842   Durbin-Watson:                   1.960\n",
      "Prob(Omnibus):                  0.000   Jarque-Bera (JB):            19734.830\n",
      "Skew:                           2.069   Prob(JB):                         0.00\n",
      "Kurtosis:                      10.917   Cond. No.                     1.24e+16\n",
      "==============================================================================\n",
      "\n",
      "Notes:\n",
      "[1] Standard Errors assume that the covariance matrix of the errors is correctly specified.\n",
      "[2] The smallest eigenvalue is 6.04e-28. This might indicate that there are\n",
      "strong multicollinearity problems or that the design matrix is singular.\n"
     ]
    }
   ],
   "source": [
    "import statsmodels.formula.api as smf\n",
    "\n",
    "model = smf.ols(\n",
    "    'duration ~ C(act_s) + C(filing_year) + C(state_code) + number_sections_ipc',\n",
    "    data=df_clean\n",
    ").fit()\n",
    "\n",
    "print(model.summary())\n"
   ]
  }
 ],
 "metadata": {
  "kernelspec": {
   "display_name": "Python 3",
   "language": "python",
   "name": "python3"
  },
  "language_info": {
   "codemirror_mode": {
    "name": "ipython",
    "version": 3
   },
   "file_extension": ".py",
   "mimetype": "text/x-python",
   "name": "python",
   "nbconvert_exporter": "python",
   "pygments_lexer": "ipython3",
   "version": "3.13.2"
  }
 },
 "nbformat": 4,
 "nbformat_minor": 2
}
