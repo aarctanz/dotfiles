{
 "cells": [
  {
   "cell_type": "code",
   "execution_count": 2,
   "metadata": {},
   "outputs": [],
   "source": [
    "import statsmodels.api as sm\n",
    "import scipy.stats as stats\n",
    "import pandas as pd"
   ]
  },
  {
   "cell_type": "code",
   "execution_count": 9,
   "metadata": {},
   "outputs": [
    {
     "name": "stdout",
     "output_type": "stream",
     "text": [
      "<class 'pandas.core.frame.DataFrame'>\n",
      "RangeIndex: 100000 entries, 0 to 99999\n",
      "Data columns (total 15 columns):\n",
      " #   Column               Non-Null Count   Dtype  \n",
      "---  ------               --------------   -----  \n",
      " 0   ddl_case_id          100000 non-null  object \n",
      " 1   date_of_filing       100000 non-null  object \n",
      " 2   date_of_decision     100000 non-null  object \n",
      " 3   filing_year          100000 non-null  int64  \n",
      " 4   state_code           100000 non-null  int64  \n",
      " 5   court_no             100000 non-null  int64  \n",
      " 6   female_defendant     100000 non-null  object \n",
      " 7   female_petitioner    100000 non-null  object \n",
      " 8   female_judge         100000 non-null  object \n",
      " 9   judge_tenure         100000 non-null  int64  \n",
      " 10  act_s                100000 non-null  object \n",
      " 11  section_s            100000 non-null  object \n",
      " 12  bailable_ipc         59239 non-null   object \n",
      " 13  number_sections_ipc  59471 non-null   float64\n",
      " 14  disposition          100000 non-null  object \n",
      "dtypes: float64(1), int64(4), object(10)\n",
      "memory usage: 11.4+ MB\n",
      "None\n"
     ]
    }
   ],
   "source": [
    "df = pd.read_csv('/home/arctan/data/justice_data/sample.csv')\n",
    "\n",
    "# perform exploratory data analysis\n",
    "print(df.info())"
   ]
  },
  {
   "cell_type": "code",
   "execution_count": 8,
   "metadata": {},
   "outputs": [
    {
     "name": "stdout",
     "output_type": "stream",
     "text": [
      "Dispositions: ['judgement' 'disposed' 'referred to lok adalat' 'confession' 'dismissed'\n",
      " 'allowed' 'plead guilty' 'convicted' 'decided' 'acquitted' 'committed'\n",
      " 'disposed-otherwise' 'settled' 'absconded' 'fine' 'other' 'otherwise'\n",
      " 'bail granted' 'reject' 'withdrawn' 'abated' 'compromise' 'transferred'\n",
      " 'disposal in lok adalat' 'closed' 'not press' 'cancelled' 'procedural'\n",
      " 'probation' 'disposition var missing' 'contest-allowed' 'appeal accepted'\n",
      " 'bail rejected' 'compounded' 'remanded' 'plea bargaining' 'bail refused'\n",
      " 'untrace' '258 crpc' 'award' 'quash' 'prison' 'ex-parte' 'execution'\n",
      " 'p.o. consign' 'sine die' 'partly decreed' 'stayed' 'converted' 'died'\n",
      " 'uncontested' 'bail order']\n",
      "Bailable IPC: [nan 'bailable' 'non-bailable' 'depends' 'not applicable to section'\n",
      " 'unclear, need to check']\n"
     ]
    }
   ],
   "source": [
    "# print(df.head())\n",
    "\n",
    "\n",
    "# Check unique values for categorical columns\n",
    "print(\"Dispositions:\", df['disposition'].unique())\n",
    "print(\"Bailable IPC:\", df['bailable_ipc'].unique())"
   ]
  },
  {
   "cell_type": "code",
   "execution_count": 15,
   "metadata": {},
   "outputs": [
    {
     "name": "stdout",
     "output_type": "stream",
     "text": [
      "['-9998 unclear' '0 male' '1 female' '-9999 missing name']\n",
      "['0 male' '-9998 unclear' '1 female' '-9999 missing name']\n",
      "['-9998 unclear' '0 nonfemale' '1 female']\n",
      "Missing values:\n",
      " ddl_case_id                0\n",
      "date_of_filing             0\n",
      "date_of_decision           0\n",
      "filing_year                0\n",
      "state_code                 0\n",
      "court_no                   0\n",
      "female_defendant           0\n",
      "female_petitioner          0\n",
      "female_judge               0\n",
      "judge_tenure               0\n",
      "act_s                      0\n",
      "section_s                  0\n",
      "bailable_ipc           40761\n",
      "number_sections_ipc    40529\n",
      "disposition                0\n",
      "dtype: int64\n"
     ]
    }
   ],
   "source": [
    "print(df[\"female_defendant\"].unique())\n",
    "print(df[\"female_petitioner\"].unique())\n",
    "print(df[\"female_judge\"].unique())\n",
    "# Check for missing values\n",
    "print(\"Missing values:\\n\", df.isnull().sum())"
   ]
  },
  {
   "cell_type": "code",
   "execution_count": 16,
   "metadata": {},
   "outputs": [
    {
     "name": "stdout",
     "output_type": "stream",
     "text": [
      "<class 'pandas.core.frame.DataFrame'>\n",
      "Index: 17606 entries, 8 to 99995\n",
      "Data columns (total 15 columns):\n",
      " #   Column               Non-Null Count  Dtype  \n",
      "---  ------               --------------  -----  \n",
      " 0   ddl_case_id          17606 non-null  object \n",
      " 1   date_of_filing       17606 non-null  object \n",
      " 2   date_of_decision     17606 non-null  object \n",
      " 3   filing_year          17606 non-null  int64  \n",
      " 4   state_code           17606 non-null  int64  \n",
      " 5   court_no             17606 non-null  int64  \n",
      " 6   female_defendant     17606 non-null  object \n",
      " 7   female_petitioner    17606 non-null  object \n",
      " 8   female_judge         17606 non-null  object \n",
      " 9   judge_tenure         17606 non-null  int64  \n",
      " 10  act_s                17606 non-null  object \n",
      " 11  section_s            17606 non-null  object \n",
      " 12  bailable_ipc         5981 non-null   object \n",
      " 13  number_sections_ipc  6054 non-null   float64\n",
      " 14  disposition          17606 non-null  object \n",
      "dtypes: float64(1), int64(4), object(10)\n",
      "memory usage: 2.1+ MB\n"
     ]
    }
   ],
   "source": [
    "valid_genders = ['0 male', '1 female']\n",
    "mapping = {\"0 male\": 0, \"1 female\": 1}\n",
    "\n",
    "df_clean = df[\n",
    "    df[\"female_defendant\"].isin(valid_genders) &\n",
    "    df[\"female_petitioner\"].isin(valid_genders)\n",
    "].copy() \n",
    "df_clean.info()\n",
    "df_clean.loc[:, \"female_defendant\"] = df_clean[\"female_defendant\"].map(mapping)\n",
    "df_clean.loc[:, \"female_petitioner\"] = df_clean[\"female_petitioner\"].map(mapping)\n",
    "\n",
    "\n",
    "valid_genders = ['0 nonfemale', '1 female']\n",
    "mapping = {\"0 nonfemale\": 0, \"1 female\": 1}\n",
    "\n",
    "df_clean = df_clean[df_clean[\"female_judge\"].isin(valid_genders)]\n",
    "df_clean.loc[:, \"female_judge\"] = df_clean[\"female_judge\"].map(mapping)"
   ]
  },
  {
   "cell_type": "code",
   "execution_count": 19,
   "metadata": {},
   "outputs": [
    {
     "ename": "TypeError",
     "evalue": "unsupported operand type(s) for -: 'str' and 'str'",
     "output_type": "error",
     "traceback": [
      "\u001b[31m---------------------------------------------------------------------------\u001b[39m",
      "\u001b[31mTypeError\u001b[39m                                 Traceback (most recent call last)",
      "\u001b[36mFile \u001b[39m\u001b[32m/usr/lib/python3.13/site-packages/pandas/core/ops/array_ops.py:218\u001b[39m, in \u001b[36m_na_arithmetic_op\u001b[39m\u001b[34m(left, right, op, is_cmp)\u001b[39m\n\u001b[32m    217\u001b[39m \u001b[38;5;28;01mtry\u001b[39;00m:\n\u001b[32m--> \u001b[39m\u001b[32m218\u001b[39m     result = \u001b[43mfunc\u001b[49m\u001b[43m(\u001b[49m\u001b[43mleft\u001b[49m\u001b[43m,\u001b[49m\u001b[43m \u001b[49m\u001b[43mright\u001b[49m\u001b[43m)\u001b[49m\n\u001b[32m    219\u001b[39m \u001b[38;5;28;01mexcept\u001b[39;00m \u001b[38;5;167;01mTypeError\u001b[39;00m:\n",
      "\u001b[36mFile \u001b[39m\u001b[32m/usr/lib/python3.13/site-packages/pandas/core/computation/expressions.py:242\u001b[39m, in \u001b[36mevaluate\u001b[39m\u001b[34m(op, a, b, use_numexpr)\u001b[39m\n\u001b[32m    240\u001b[39m     \u001b[38;5;28;01mif\u001b[39;00m use_numexpr:\n\u001b[32m    241\u001b[39m         \u001b[38;5;66;03m# error: \"None\" not callable\u001b[39;00m\n\u001b[32m--> \u001b[39m\u001b[32m242\u001b[39m         \u001b[38;5;28;01mreturn\u001b[39;00m \u001b[43m_evaluate\u001b[49m\u001b[43m(\u001b[49m\u001b[43mop\u001b[49m\u001b[43m,\u001b[49m\u001b[43m \u001b[49m\u001b[43mop_str\u001b[49m\u001b[43m,\u001b[49m\u001b[43m \u001b[49m\u001b[43ma\u001b[49m\u001b[43m,\u001b[49m\u001b[43m \u001b[49m\u001b[43mb\u001b[49m\u001b[43m)\u001b[49m  \u001b[38;5;66;03m# type: ignore[misc]\u001b[39;00m\n\u001b[32m    243\u001b[39m \u001b[38;5;28;01mreturn\u001b[39;00m _evaluate_standard(op, op_str, a, b)\n",
      "\u001b[36mFile \u001b[39m\u001b[32m/usr/lib/python3.13/site-packages/pandas/core/computation/expressions.py:73\u001b[39m, in \u001b[36m_evaluate_standard\u001b[39m\u001b[34m(op, op_str, a, b)\u001b[39m\n\u001b[32m     72\u001b[39m     _store_test_result(\u001b[38;5;28;01mFalse\u001b[39;00m)\n\u001b[32m---> \u001b[39m\u001b[32m73\u001b[39m \u001b[38;5;28;01mreturn\u001b[39;00m \u001b[43mop\u001b[49m\u001b[43m(\u001b[49m\u001b[43ma\u001b[49m\u001b[43m,\u001b[49m\u001b[43m \u001b[49m\u001b[43mb\u001b[49m\u001b[43m)\u001b[49m\n",
      "\u001b[31mTypeError\u001b[39m: unsupported operand type(s) for -: 'str' and 'str'",
      "\nDuring handling of the above exception, another exception occurred:\n",
      "\u001b[31mTypeError\u001b[39m                                 Traceback (most recent call last)",
      "\u001b[36mCell\u001b[39m\u001b[36m \u001b[39m\u001b[32mIn[19]\u001b[39m\u001b[32m, line 5\u001b[39m\n\u001b[32m      2\u001b[39m df_clean[\u001b[33m'\u001b[39m\u001b[33msame_gender\u001b[39m\u001b[33m'\u001b[39m] = (df_clean[\u001b[33m'\u001b[39m\u001b[33mfemale_judge\u001b[39m\u001b[33m'\u001b[39m] == df_clean[\u001b[33m'\u001b[39m\u001b[33mfemale_defendant\u001b[39m\u001b[33m'\u001b[39m]).astype(\u001b[38;5;28mint\u001b[39m)\n\u001b[32m      4\u001b[39m \u001b[38;5;66;03m# Calculate case duration (days)\u001b[39;00m\n\u001b[32m----> \u001b[39m\u001b[32m5\u001b[39m df_clean[\u001b[33m'\u001b[39m\u001b[33mduration_days\u001b[39m\u001b[33m'\u001b[39m] = (\u001b[43mdf_clean\u001b[49m\u001b[43m[\u001b[49m\u001b[33;43m'\u001b[39;49m\u001b[33;43mdate_of_decision\u001b[39;49m\u001b[33;43m'\u001b[39;49m\u001b[43m]\u001b[49m\u001b[43m \u001b[49m\u001b[43m-\u001b[49m\u001b[43m \u001b[49m\u001b[43mdf_clean\u001b[49m\u001b[43m[\u001b[49m\u001b[33;43m'\u001b[39;49m\u001b[33;43mdate_of_filing\u001b[39;49m\u001b[33;43m'\u001b[39;49m\u001b[43m]\u001b[49m).dt.days\n\u001b[32m      6\u001b[39m df[\u001b[33m\"\u001b[39m\u001b[33mjudge_tenure\u001b[39m\u001b[33m\"\u001b[39m] = -df[\u001b[33m\"\u001b[39m\u001b[33mjudge_tenure\u001b[39m\u001b[33m\"\u001b[39m]\n\u001b[32m      7\u001b[39m df[\u001b[33m\"\u001b[39m\u001b[33mdisposition\u001b[39m\u001b[33m\"\u001b[39m] = df[\u001b[33m\"\u001b[39m\u001b[33mdisposition\u001b[39m\u001b[33m\"\u001b[39m].str.lower()\n",
      "\u001b[36mFile \u001b[39m\u001b[32m/usr/lib/python3.13/site-packages/pandas/core/ops/common.py:76\u001b[39m, in \u001b[36m_unpack_zerodim_and_defer.<locals>.new_method\u001b[39m\u001b[34m(self, other)\u001b[39m\n\u001b[32m     72\u001b[39m             \u001b[38;5;28;01mreturn\u001b[39;00m \u001b[38;5;28mNotImplemented\u001b[39m\n\u001b[32m     74\u001b[39m other = item_from_zerodim(other)\n\u001b[32m---> \u001b[39m\u001b[32m76\u001b[39m \u001b[38;5;28;01mreturn\u001b[39;00m \u001b[43mmethod\u001b[49m\u001b[43m(\u001b[49m\u001b[38;5;28;43mself\u001b[39;49m\u001b[43m,\u001b[49m\u001b[43m \u001b[49m\u001b[43mother\u001b[49m\u001b[43m)\u001b[49m\n",
      "\u001b[36mFile \u001b[39m\u001b[32m/usr/lib/python3.13/site-packages/pandas/core/arraylike.py:194\u001b[39m, in \u001b[36mOpsMixin.__sub__\u001b[39m\u001b[34m(self, other)\u001b[39m\n\u001b[32m    192\u001b[39m \u001b[38;5;129m@unpack_zerodim_and_defer\u001b[39m(\u001b[33m\"\u001b[39m\u001b[33m__sub__\u001b[39m\u001b[33m\"\u001b[39m)\n\u001b[32m    193\u001b[39m \u001b[38;5;28;01mdef\u001b[39;00m\u001b[38;5;250m \u001b[39m\u001b[34m__sub__\u001b[39m(\u001b[38;5;28mself\u001b[39m, other):\n\u001b[32m--> \u001b[39m\u001b[32m194\u001b[39m     \u001b[38;5;28;01mreturn\u001b[39;00m \u001b[38;5;28;43mself\u001b[39;49m\u001b[43m.\u001b[49m\u001b[43m_arith_method\u001b[49m\u001b[43m(\u001b[49m\u001b[43mother\u001b[49m\u001b[43m,\u001b[49m\u001b[43m \u001b[49m\u001b[43moperator\u001b[49m\u001b[43m.\u001b[49m\u001b[43msub\u001b[49m\u001b[43m)\u001b[49m\n",
      "\u001b[36mFile \u001b[39m\u001b[32m/usr/lib/python3.13/site-packages/pandas/core/series.py:6135\u001b[39m, in \u001b[36mSeries._arith_method\u001b[39m\u001b[34m(self, other, op)\u001b[39m\n\u001b[32m   6133\u001b[39m \u001b[38;5;28;01mdef\u001b[39;00m\u001b[38;5;250m \u001b[39m\u001b[34m_arith_method\u001b[39m(\u001b[38;5;28mself\u001b[39m, other, op):\n\u001b[32m   6134\u001b[39m     \u001b[38;5;28mself\u001b[39m, other = \u001b[38;5;28mself\u001b[39m._align_for_op(other)\n\u001b[32m-> \u001b[39m\u001b[32m6135\u001b[39m     \u001b[38;5;28;01mreturn\u001b[39;00m \u001b[43mbase\u001b[49m\u001b[43m.\u001b[49m\u001b[43mIndexOpsMixin\u001b[49m\u001b[43m.\u001b[49m\u001b[43m_arith_method\u001b[49m\u001b[43m(\u001b[49m\u001b[38;5;28;43mself\u001b[39;49m\u001b[43m,\u001b[49m\u001b[43m \u001b[49m\u001b[43mother\u001b[49m\u001b[43m,\u001b[49m\u001b[43m \u001b[49m\u001b[43mop\u001b[49m\u001b[43m)\u001b[49m\n",
      "\u001b[36mFile \u001b[39m\u001b[32m/usr/lib/python3.13/site-packages/pandas/core/base.py:1382\u001b[39m, in \u001b[36mIndexOpsMixin._arith_method\u001b[39m\u001b[34m(self, other, op)\u001b[39m\n\u001b[32m   1379\u001b[39m     rvalues = np.arange(rvalues.start, rvalues.stop, rvalues.step)\n\u001b[32m   1381\u001b[39m \u001b[38;5;28;01mwith\u001b[39;00m np.errstate(\u001b[38;5;28mall\u001b[39m=\u001b[33m\"\u001b[39m\u001b[33mignore\u001b[39m\u001b[33m\"\u001b[39m):\n\u001b[32m-> \u001b[39m\u001b[32m1382\u001b[39m     result = \u001b[43mops\u001b[49m\u001b[43m.\u001b[49m\u001b[43marithmetic_op\u001b[49m\u001b[43m(\u001b[49m\u001b[43mlvalues\u001b[49m\u001b[43m,\u001b[49m\u001b[43m \u001b[49m\u001b[43mrvalues\u001b[49m\u001b[43m,\u001b[49m\u001b[43m \u001b[49m\u001b[43mop\u001b[49m\u001b[43m)\u001b[49m\n\u001b[32m   1384\u001b[39m \u001b[38;5;28;01mreturn\u001b[39;00m \u001b[38;5;28mself\u001b[39m._construct_result(result, name=res_name)\n",
      "\u001b[36mFile \u001b[39m\u001b[32m/usr/lib/python3.13/site-packages/pandas/core/ops/array_ops.py:283\u001b[39m, in \u001b[36marithmetic_op\u001b[39m\u001b[34m(left, right, op)\u001b[39m\n\u001b[32m    279\u001b[39m     _bool_arith_check(op, left, right)  \u001b[38;5;66;03m# type: ignore[arg-type]\u001b[39;00m\n\u001b[32m    281\u001b[39m     \u001b[38;5;66;03m# error: Argument 1 to \"_na_arithmetic_op\" has incompatible type\u001b[39;00m\n\u001b[32m    282\u001b[39m     \u001b[38;5;66;03m# \"Union[ExtensionArray, ndarray[Any, Any]]\"; expected \"ndarray[Any, Any]\"\u001b[39;00m\n\u001b[32m--> \u001b[39m\u001b[32m283\u001b[39m     res_values = \u001b[43m_na_arithmetic_op\u001b[49m\u001b[43m(\u001b[49m\u001b[43mleft\u001b[49m\u001b[43m,\u001b[49m\u001b[43m \u001b[49m\u001b[43mright\u001b[49m\u001b[43m,\u001b[49m\u001b[43m \u001b[49m\u001b[43mop\u001b[49m\u001b[43m)\u001b[49m  \u001b[38;5;66;03m# type: ignore[arg-type]\u001b[39;00m\n\u001b[32m    285\u001b[39m \u001b[38;5;28;01mreturn\u001b[39;00m res_values\n",
      "\u001b[36mFile \u001b[39m\u001b[32m/usr/lib/python3.13/site-packages/pandas/core/ops/array_ops.py:227\u001b[39m, in \u001b[36m_na_arithmetic_op\u001b[39m\u001b[34m(left, right, op, is_cmp)\u001b[39m\n\u001b[32m    219\u001b[39m \u001b[38;5;28;01mexcept\u001b[39;00m \u001b[38;5;167;01mTypeError\u001b[39;00m:\n\u001b[32m    220\u001b[39m     \u001b[38;5;28;01mif\u001b[39;00m \u001b[38;5;129;01mnot\u001b[39;00m is_cmp \u001b[38;5;129;01mand\u001b[39;00m (\n\u001b[32m    221\u001b[39m         left.dtype == \u001b[38;5;28mobject\u001b[39m \u001b[38;5;129;01mor\u001b[39;00m \u001b[38;5;28mgetattr\u001b[39m(right, \u001b[33m\"\u001b[39m\u001b[33mdtype\u001b[39m\u001b[33m\"\u001b[39m, \u001b[38;5;28;01mNone\u001b[39;00m) == \u001b[38;5;28mobject\u001b[39m\n\u001b[32m    222\u001b[39m     ):\n\u001b[32m   (...)\u001b[39m\u001b[32m    225\u001b[39m         \u001b[38;5;66;03m# Don't do this for comparisons, as that will handle complex numbers\u001b[39;00m\n\u001b[32m    226\u001b[39m         \u001b[38;5;66;03m#  incorrectly, see GH#32047\u001b[39;00m\n\u001b[32m--> \u001b[39m\u001b[32m227\u001b[39m         result = \u001b[43m_masked_arith_op\u001b[49m\u001b[43m(\u001b[49m\u001b[43mleft\u001b[49m\u001b[43m,\u001b[49m\u001b[43m \u001b[49m\u001b[43mright\u001b[49m\u001b[43m,\u001b[49m\u001b[43m \u001b[49m\u001b[43mop\u001b[49m\u001b[43m)\u001b[49m\n\u001b[32m    228\u001b[39m     \u001b[38;5;28;01melse\u001b[39;00m:\n\u001b[32m    229\u001b[39m         \u001b[38;5;28;01mraise\u001b[39;00m\n",
      "\u001b[36mFile \u001b[39m\u001b[32m/usr/lib/python3.13/site-packages/pandas/core/ops/array_ops.py:163\u001b[39m, in \u001b[36m_masked_arith_op\u001b[39m\u001b[34m(x, y, op)\u001b[39m\n\u001b[32m    161\u001b[39m     \u001b[38;5;66;03m# See GH#5284, GH#5035, GH#19448 for historical reference\u001b[39;00m\n\u001b[32m    162\u001b[39m     \u001b[38;5;28;01mif\u001b[39;00m mask.any():\n\u001b[32m--> \u001b[39m\u001b[32m163\u001b[39m         result[mask] = \u001b[43mop\u001b[49m\u001b[43m(\u001b[49m\u001b[43mxrav\u001b[49m\u001b[43m[\u001b[49m\u001b[43mmask\u001b[49m\u001b[43m]\u001b[49m\u001b[43m,\u001b[49m\u001b[43m \u001b[49m\u001b[43myrav\u001b[49m\u001b[43m[\u001b[49m\u001b[43mmask\u001b[49m\u001b[43m]\u001b[49m\u001b[43m)\u001b[49m\n\u001b[32m    165\u001b[39m \u001b[38;5;28;01melse\u001b[39;00m:\n\u001b[32m    166\u001b[39m     \u001b[38;5;28;01mif\u001b[39;00m \u001b[38;5;129;01mnot\u001b[39;00m is_scalar(y):\n",
      "\u001b[31mTypeError\u001b[39m: unsupported operand type(s) for -: 'str' and 'str'"
     ]
    }
   ],
   "source": [
    "# Create same-gender indicator (1 = judge/defendant same gender)\n",
    "df_clean['same_gender'] = (df_clean['female_judge'] == df_clean['female_defendant']).astype(int)\n",
    "\n",
    "# Calculate case duration (days)\n",
    "df_clean['duration_days'] = (df_clean['date_of_decision'] - df_clean['date_of_filing']).dt.days\n",
    "df[\"judge_tenure\"] = -df[\"judge_tenure\"]\n",
    "df[\"disposition\"] = df[\"disposition\"].str.lower()\n",
    "favorable_outcomes = [\n",
    "    \"fine\",\n",
    "    \"compromise\",\n",
    "    \"award\",\n",
    "    \"plead guilty\",\n",
    "    \"plea bargaining\",\n",
    "    \"settled\",\n",
    "    \"allowed\",\n",
    "    \"converted\",\n",
    "    \"disposed\",\n",
    "    \"disposed-otherwise\",\n",
    "    \"referred to lok adalat\",\n",
    "    \"disposal in lok adalat\",\n",
    "    \"partly decreed\",\n",
    "    \"uncontested\",\n",
    "    \"withdrawn\",\n",
    "    \"acquitted\",\n",
    "    \"bail granted\",\n",
    "    \"probation\",\n",
    "    \"contest-allowed\",\n",
    "    \"appeal accepted\",\n",
    "    \"decided\",\n",
    "]\n",
    "\n",
    "# Simplify disposition to binary (1 = acquitted)\n",
    "df_clean['favorable'] = df_clean['disposition'].apply(lambda x: 1 if x in favorable_outcomes else 0)\n",
    "\n",
    "df_clean.info()"
   ]
  }
 ],
 "metadata": {
  "kernelspec": {
   "display_name": "Python 3",
   "language": "python",
   "name": "python3"
  },
  "language_info": {
   "codemirror_mode": {
    "name": "ipython",
    "version": 3
   },
   "file_extension": ".py",
   "mimetype": "text/x-python",
   "name": "python",
   "nbconvert_exporter": "python",
   "pygments_lexer": "ipython3",
   "version": "3.13.2"
  }
 },
 "nbformat": 4,
 "nbformat_minor": 2
}
