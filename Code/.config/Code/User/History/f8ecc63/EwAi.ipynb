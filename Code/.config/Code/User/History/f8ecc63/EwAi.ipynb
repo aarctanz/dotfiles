{
 "cells": [
  {
   "cell_type": "code",
   "execution_count": 1,
   "metadata": {},
   "outputs": [
    {
     "name": "stdout",
     "output_type": "stream",
     "text": [
      "Hello\n"
     ]
    }
   ],
   "source": [
    "print(\"Hello\")"
   ]
  },
  {
   "cell_type": "code",
   "execution_count": 5,
   "metadata": {},
   "outputs": [],
   "source": [
    "import pandas as pd"
   ]
  },
  {
   "cell_type": "code",
   "execution_count": 7,
   "metadata": {},
   "outputs": [
    {
     "data": {
      "text/plain": [
       "<bound method NDFrame.describe of        invoice_id   Branch         City                category unit_price  \\\n",
       "0               1  WALM003  San Antonio       Health and beauty     $74.69   \n",
       "1               2  WALM048    Harlingen  Electronic accessories     $15.28   \n",
       "2               3  WALM067  Haltom City      Home and lifestyle     $46.33   \n",
       "3               4  WALM064      Bedford       Health and beauty     $58.22   \n",
       "4               5  WALM013       Irving       Sports and travel     $86.31   \n",
       "...           ...      ...          ...                     ...        ...   \n",
       "10046        9996  WALM056      Rowlett     Fashion accessories        $37   \n",
       "10047        9997  WALM030   Richardson      Home and lifestyle        $58   \n",
       "10048        9998  WALM050     Victoria     Fashion accessories        $52   \n",
       "10049        9999  WALM032        Tyler      Home and lifestyle        $79   \n",
       "10050       10000  WALM069     Rockwall     Fashion accessories        $62   \n",
       "\n",
       "       quantity      date      time payment_method  rating  profit_margin  \n",
       "0           7.0  05/01/19  13:08:00        Ewallet     9.1           0.48  \n",
       "1           5.0  08/03/19  10:29:00           Cash     9.6           0.48  \n",
       "2           7.0  03/03/19  13:23:00    Credit card     7.4           0.33  \n",
       "3           8.0  27/01/19  20:33:00        Ewallet     8.4           0.33  \n",
       "4           7.0  08/02/19  10:37:00        Ewallet     5.3           0.48  \n",
       "...         ...       ...       ...            ...     ...            ...  \n",
       "10046       3.0  03/08/23  10:10:00           Cash     3.0           0.33  \n",
       "10047       2.0  22/02/21  14:20:00           Cash     7.0           0.48  \n",
       "10048       3.0  15/06/23  16:00:00    Credit card     4.0           0.48  \n",
       "10049       2.0  25/02/21  12:25:00           Cash     7.0           0.48  \n",
       "10050       3.0  26/09/20   9:48:00           Cash     3.0           0.33  \n",
       "\n",
       "[10051 rows x 11 columns]>"
      ]
     },
     "execution_count": 7,
     "metadata": {},
     "output_type": "execute_result"
    }
   ],
   "source": [
    "df = pd.read_csv(\"/home/arctan/data/walmart_data/Walmart.csv\", encoding_errors=\"ignore\")\n",
    "\n",
    "df.describe"
   ]
  }
 ],
 "metadata": {
  "kernelspec": {
   "display_name": "wallenv",
   "language": "python",
   "name": "python3"
  },
  "language_info": {
   "codemirror_mode": {
    "name": "ipython",
    "version": 3
   },
   "file_extension": ".py",
   "mimetype": "text/x-python",
   "name": "python",
   "nbconvert_exporter": "python",
   "pygments_lexer": "ipython3",
   "version": "3.13.1"
  }
 },
 "nbformat": 4,
 "nbformat_minor": 2
}
