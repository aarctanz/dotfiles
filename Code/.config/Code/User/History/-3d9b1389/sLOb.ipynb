{
 "cells": [
  {
   "cell_type": "code",
   "execution_count": 2,
   "metadata": {},
   "outputs": [],
   "source": [
    "import numpy as np"
   ]
  },
  {
   "cell_type": "code",
   "execution_count": 4,
   "metadata": {},
   "outputs": [
    {
     "data": {
      "text/plain": [
       "array([1, 4, 2, 5, 3])"
      ]
     },
     "execution_count": 4,
     "metadata": {},
     "output_type": "execute_result"
    }
   ],
   "source": [
    "# Integer array\n",
    "np.array([1, 4, 2, 5, 3])\n"
   ]
  },
  {
   "cell_type": "code",
   "execution_count": 5,
   "metadata": {},
   "outputs": [
    {
     "data": {
      "text/plain": [
       "array([[2, 3, 4],\n",
       "       [4, 5, 6],\n",
       "       [6, 7, 8]])"
      ]
     },
     "execution_count": 5,
     "metadata": {},
     "output_type": "execute_result"
    }
   ],
   "source": [
    "# Nested array\n",
    "np.array([range(i, i + 3) for i in [2, 4, 6]])"
   ]
  },
  {
   "cell_type": "code",
   "execution_count": 7,
   "metadata": {},
   "outputs": [
    {
     "data": {
      "text/plain": [
       "array([0, 0, 0, 0, 0, 0, 0, 0, 0, 0], dtype=int32)"
      ]
     },
     "execution_count": 7,
     "metadata": {},
     "output_type": "execute_result"
    }
   ],
   "source": [
    "# array filled with zeros\n",
    "np.zeros(10, dtype=np.int32)"
   ]
  },
  {
   "cell_type": "code",
   "execution_count": 9,
   "metadata": {},
   "outputs": [
    {
     "data": {
      "text/plain": [
       "array([[1., 1., 1., 1., 1.],\n",
       "       [1., 1., 1., 1., 1.],\n",
       "       [1., 1., 1., 1., 1.]])"
      ]
     },
     "execution_count": 9,
     "metadata": {},
     "output_type": "execute_result"
    }
   ],
   "source": [
    "# 3x5 array filled with ones\n",
    "np.ones((3,5), dtype=np.float64)"
   ]
  },
  {
   "cell_type": "code",
   "execution_count": 11,
   "metadata": {},
   "outputs": [
    {
     "data": {
      "text/plain": [
       "array([[1.61, 1.61, 1.61, 1.61, 1.61],\n",
       "       [1.61, 1.61, 1.61, 1.61, 1.61],\n",
       "       [1.61, 1.61, 1.61, 1.61, 1.61]])"
      ]
     },
     "execution_count": 11,
     "metadata": {},
     "output_type": "execute_result"
    }
   ],
   "source": [
    "# 4x5 array filled with 1.61\n",
    "np.full((3,5), 1.61)"
   ]
  },
  {
   "cell_type": "code",
   "execution_count": 12,
   "metadata": {},
   "outputs": [
    {
     "data": {
      "text/plain": [
       "array([ 0,  2,  4,  6,  8, 10, 12, 14, 16, 18])"
      ]
     },
     "execution_count": 12,
     "metadata": {},
     "output_type": "execute_result"
    }
   ],
   "source": [
    "# arithmetic sequence, start at 0 end at 20 common diffrence 2\n",
    "np.arange(0,20,2)"
   ]
  },
  {
   "cell_type": "code",
   "execution_count": 14,
   "metadata": {},
   "outputs": [
    {
     "data": {
      "text/plain": [
       "array([4.3, 5.2, 6.1, 7. , 7.9])"
      ]
     },
     "execution_count": 14,
     "metadata": {},
     "output_type": "execute_result"
    }
   ],
   "source": [
    "# five values evenly spaced between 4.3 and 7.9\n",
    "np.linspace(4.3, 7.9, 5)"
   ]
  },
  {
   "cell_type": "code",
   "execution_count": 16,
   "metadata": {},
   "outputs": [
    {
     "data": {
      "text/plain": [
       "array([[0.26636701, 0.87343892, 0.52011525],\n",
       "       [0.01996166, 0.11443212, 0.71520053],\n",
       "       [0.63933197, 0.35620773, 0.09094548]])"
      ]
     },
     "execution_count": 16,
     "metadata": {},
     "output_type": "execute_result"
    }
   ],
   "source": [
    "# 3x3 array of uniformly distributed random value\n",
    "np.random.random((3,3))"
   ]
  },
  {
   "cell_type": "code",
   "execution_count": 20,
   "metadata": {},
   "outputs": [
    {
     "data": {
      "text/plain": [
       "array([[5.18312941, 7.87732672, 1.38198963],\n",
       "       [0.83636183, 9.82134895, 4.55876883],\n",
       "       [0.74487267, 7.90750463, 0.4709276 ]])"
      ]
     },
     "execution_count": 20,
     "metadata": {},
     "output_type": "execute_result"
    }
   ],
   "source": [
    "# normally distributed random values with mean 3 and standard eviation 5\n",
    "np.random.normal(3,5,(3,3))"
   ]
  },
  {
   "cell_type": "code",
   "execution_count": 22,
   "metadata": {},
   "outputs": [
    {
     "data": {
      "text/plain": [
       "array([1., 1., 1.])"
      ]
     },
     "execution_count": 22,
     "metadata": {},
     "output_type": "execute_result"
    }
   ],
   "source": [
    "# Create an uninitialized array of three integers\n",
    "# The values will be whatever happens to already exist at that memory location\n",
    "np.empty(3)"
   ]
  },
  {
   "cell_type": "code",
   "execution_count": 31,
   "metadata": {},
   "outputs": [
    {
     "name": "stdout",
     "output_type": "stream",
     "text": [
      "[2 6 7 9 4 7]\n",
      "[[1 6 1 8]\n",
      " [5 2 1 5]\n",
      " [7 5 3 4]]\n",
      "[[[4 7 9 0 6]\n",
      "  [7 4 6 7 3]\n",
      "  [2 4 9 7 8]\n",
      "  [7 9 4 2 3]]\n",
      "\n",
      " [[2 4 4 2 4]\n",
      "  [4 5 2 8 4]\n",
      "  [9 2 7 9 1]\n",
      "  [4 0 9 2 7]]\n",
      "\n",
      " [[7 8 9 2 1]\n",
      "  [5 3 0 4 5]\n",
      "  [2 0 8 3 0]\n",
      "  [2 0 1 0 2]]]\n"
     ]
    }
   ],
   "source": [
    "import time\n",
    "np.random.seed(int(time.time())) # seed for reproducibility\n",
    "\n",
    "x1 = np.random.randint(10, size=6)\n",
    "x2 = np.random.randint(10, size=(3,4))\n",
    "x3 = np.random.randint(10, size=(3,4,5))\n",
    "\n",
    "print(x1)\n",
    "print(x2)\n",
    "print(x3)"
   ]
  },
  {
   "cell_type": "code",
   "execution_count": 35,
   "metadata": {},
   "outputs": [
    {
     "name": "stdout",
     "output_type": "stream",
     "text": [
      "x3 shape:  (3, 4, 5)\n",
      "x3 dimension:  3\n",
      "x3 size:  60\n",
      "x3 data type:  int64\n",
      "x3 item size:  8\n",
      "x3 nbytes:  480\n"
     ]
    }
   ],
   "source": [
    "print(\"x3 shape: \", x3.shape)\n",
    "print(\"x3 dimension: \", x3.ndim)\n",
    "print(\"x3 size: \", x3.size)\n",
    "print(\"x3 data type: \", x3.dtype)\n",
    "print(\"x3 item size: \", x3.itemsize)\n",
    "print(\"x3 nbytes: \", x3.nbytes)"
   ]
  },
  {
   "cell_type": "code",
   "execution_count": 48,
   "metadata": {},
   "outputs": [
    {
     "name": "stdout",
     "output_type": "stream",
     "text": [
      "[2 6 7 9 4 7]\n",
      "4\n",
      "[[1 6 1 8]\n",
      " [5 2 1 5]\n",
      " [7 5 3 4]]\n",
      "4 4\n"
     ]
    }
   ],
   "source": [
    "# indexing array\n",
    "print(x1)\n",
    "print(x1[4])\n",
    "print(x2)\n",
    "print(x2[2][3], x2[2,3])"
   ]
  },
  {
   "cell_type": "code",
   "execution_count": 53,
   "metadata": {},
   "outputs": [
    {
     "name": "stdout",
     "output_type": "stream",
     "text": [
      "[2 6 7 9 4 7]\n",
      "[6 7 9 4]\n",
      "[2 6 7 9]\n",
      "[6 7 9 4 7]\n",
      "[2 7 4]\n",
      "[7 4 9 7 6 2]\n"
     ]
    }
   ],
   "source": [
    "print(x1)\n",
    "print(x1[1:5])\n",
    "print(x1[:4])\n",
    "print(x1[1:])\n",
    "print(x1[::2])\n",
    "print(x1[::-1])"
   ]
  },
  {
   "cell_type": "code",
   "execution_count": 54,
   "metadata": {},
   "outputs": [
    {
     "name": "stdout",
     "output_type": "stream",
     "text": [
      "[[1 6 1 8]\n",
      " [5 2 1 5]\n",
      " [7 5 3 4]]\n",
      "[[5 2 1 5]\n",
      " [7 5 3 4]]\n",
      "[[1 6 1]\n",
      " [5 2 1]]\n"
     ]
    }
   ],
   "source": [
    "print(x2)\n",
    "print(x2[1:])\n",
    "print(x2[:2, :3])"
   ]
  }
 ],
 "metadata": {
  "kernelspec": {
   "display_name": "Python 3",
   "language": "python",
   "name": "python3"
  },
  "language_info": {
   "codemirror_mode": {
    "name": "ipython",
    "version": 3
   },
   "file_extension": ".py",
   "mimetype": "text/x-python",
   "name": "python",
   "nbconvert_exporter": "python",
   "pygments_lexer": "ipython3",
   "version": "3.13.1"
  }
 },
 "nbformat": 4,
 "nbformat_minor": 2
}
